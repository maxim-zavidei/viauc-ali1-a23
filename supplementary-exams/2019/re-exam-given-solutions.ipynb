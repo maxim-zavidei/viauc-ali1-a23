{
 "cells": [
  {
   "cell_type": "markdown",
   "metadata": {},
   "source": [
    "# ALI Reexam 2019 Solution"
   ]
  },
  {
   "cell_type": "code",
   "execution_count": 2,
   "metadata": {},
   "outputs": [],
   "source": [
    "import sympy as sp\n",
    "from scipy import *\n",
    "from sympy import *\n",
    "init_printing()\n",
    "from IPython.display import display, Latex, HTML, Math\n",
    "import numpy as np\n",
    "import pandas as pd\n",
    "from latex2sympy import lat2py"
   ]
  },
  {
   "cell_type": "markdown",
   "metadata": {},
   "source": [
    "## Assignment 1"
   ]
  },
  {
   "cell_type": "markdown",
   "metadata": {},
   "source": [
    "### a.\n",
    "\n",
    "B is not in echelon form since the upper right position is populated by a zero-entry and there are non-zero entries below it.\n",
    "\n",
    "C is not in echelon form since there is a row of zeros above a row of non-zeros.\n",
    "\n",
    "D is not in echelon form since the upper right position is populated by a zero-entry and there are non-zero entries below it."
   ]
  },
  {
   "cell_type": "markdown",
   "metadata": {},
   "source": [
    "### b.\n",
    "\n",
    "Since  is triangular, thee eigenvalues are on the diagonal and that means -1 with multiplicity of 2; 1 and 2 with multiplicity of 1.\n"
   ]
  },
  {
   "cell_type": "markdown",
   "metadata": {},
   "source": [
    "### c.\n",
    "\n",
    "Since the matrix is triangular the eigenvalues are given on the diagonal. And since all these values are distinct it follows that the matrix is diagonalizable."
   ]
  },
  {
   "cell_type": "markdown",
   "metadata": {},
   "source": [
    "### d.\n",
    "\n",
    "Since the matrix is symmetric, the sum of the diagonal equals to the sum of eigenvalues which means that $\\lambda_{3} = 6$."
   ]
  },
  {
   "cell_type": "markdown",
   "metadata": {},
   "source": [
    "## Assignment 2"
   ]
  },
  {
   "cell_type": "code",
   "execution_count": 2,
   "metadata": {},
   "outputs": [],
   "source": [
    "A = Matrix([[2,2],[3,4]])\n",
    "B = Matrix([[1,2],[-1,2]])\n",
    "C = Matrix([[4,-2],[1,0]])"
   ]
  },
  {
   "cell_type": "code",
   "execution_count": 3,
   "metadata": {},
   "outputs": [
    {
     "data": {
      "text/latex": [
       "$\\displaystyle \\text{Det}(A) =2$"
      ],
      "text/plain": [
       "<IPython.core.display.Math object>"
      ]
     },
     "metadata": {},
     "output_type": "display_data"
    },
    {
     "data": {
      "text/latex": [
       "$\\displaystyle B^{-1} =\\left[\\begin{matrix}\\frac{1}{2} & - \\frac{1}{2}\\\\\\frac{1}{4} & \\frac{1}{4}\\end{matrix}\\right]$"
      ],
      "text/plain": [
       "<IPython.core.display.Math object>"
      ]
     },
     "metadata": {},
     "output_type": "display_data"
    },
    {
     "data": {
      "text/latex": [
       "$\\displaystyle \\text{nullspace}(C) = \\left[ \\right]$"
      ],
      "text/plain": [
       "<IPython.core.display.Math object>"
      ]
     },
     "metadata": {},
     "output_type": "display_data"
    }
   ],
   "source": [
    "#a)\n",
    "\n",
    "# Using the determinant\n",
    "display(Math(r'\\text{Det}(A) =' + latex(A.det())))\n",
    "\n",
    "# Using identity matrix and row reduction\n",
    "display(Math(r'B^{-1} =' + latex(B.row_join(eye(2)).rref()[0][:, 2:])))\n",
    "\n",
    "# Using nullspace by showing it is empty\n",
    "display(Math(r'\\text{nullspace}(C) = ' + latex(C.nullspace())))"
   ]
  },
  {
   "cell_type": "code",
   "execution_count": 12,
   "metadata": {},
   "outputs": [
    {
     "data": {
      "text/latex": [
       "$\\displaystyle AX=B:$"
      ],
      "text/plain": [
       "<IPython.core.display.Math object>"
      ]
     },
     "metadata": {},
     "output_type": "display_data"
    },
    {
     "data": {
      "text/latex": [
       "$\\displaystyle X =\\left[\\begin{matrix}3 & 2\\\\- \\frac{5}{2} & -1\\end{matrix}\\right]$"
      ],
      "text/plain": [
       "<IPython.core.display.Math object>"
      ]
     },
     "metadata": {},
     "output_type": "display_data"
    },
    {
     "data": {
      "text/latex": [
       "$\\displaystyle A^{2}X+B=0:$"
      ],
      "text/plain": [
       "<IPython.core.display.Math object>"
      ]
     },
     "metadata": {},
     "output_type": "display_data"
    },
    {
     "data": {
      "text/latex": [
       "$\\displaystyle X =\\left[\\begin{matrix}- \\frac{17}{2} & -5\\\\7 & 4\\end{matrix}\\right]$"
      ],
      "text/plain": [
       "<IPython.core.display.Math object>"
      ]
     },
     "metadata": {},
     "output_type": "display_data"
    },
    {
     "data": {
      "text/latex": [
       "$\\displaystyle AXB=C:$"
      ],
      "text/plain": [
       "<IPython.core.display.Math object>"
      ]
     },
     "metadata": {},
     "output_type": "display_data"
    },
    {
     "data": {
      "text/latex": [
       "$\\displaystyle X =\\left[\\begin{matrix}\\frac{5}{2} & - \\frac{9}{2}\\\\- \\frac{7}{4} & \\frac{13}{4}\\end{matrix}\\right]$"
      ],
      "text/plain": [
       "<IPython.core.display.Math object>"
      ]
     },
     "metadata": {},
     "output_type": "display_data"
    },
    {
     "data": {
      "text/latex": [
       "$\\displaystyle AX +BX=C:$"
      ],
      "text/plain": [
       "<IPython.core.display.Math object>"
      ]
     },
     "metadata": {},
     "output_type": "display_data"
    },
    {
     "data": {
      "text/latex": [
       "$\\displaystyle X =\\left[\\begin{matrix}2 & - \\frac{6}{5}\\\\- \\frac{1}{2} & \\frac{2}{5}\\end{matrix}\\right]$"
      ],
      "text/plain": [
       "<IPython.core.display.Math object>"
      ]
     },
     "metadata": {},
     "output_type": "display_data"
    },
    {
     "data": {
      "text/latex": [
       "$\\displaystyle ACX=0:$"
      ],
      "text/plain": [
       "<IPython.core.display.Math object>"
      ]
     },
     "metadata": {},
     "output_type": "display_data"
    },
    {
     "data": {
      "text/latex": [
       "$\\displaystyle X =\\left[\\begin{matrix}0 & 0\\\\0 & 0\\end{matrix}\\right]$"
      ],
      "text/plain": [
       "<IPython.core.display.Math object>"
      ]
     },
     "metadata": {},
     "output_type": "display_data"
    }
   ],
   "source": [
    "# b)\n",
    "display(Math(r'AX=B:'))\n",
    "X1 = (A**-1)*B\n",
    "display(Math(r'X =' + latex(X1)))\n",
    "\n",
    "display(Math(r'A^{2}X+B=0:'))\n",
    "X2 = -(A**-2)*B\n",
    "display(Math(r'X =' + latex(X2)))\n",
    "\n",
    "display(Math(r'AXB=C:'))\n",
    "X3 = (A**-1)*C*B**-1\n",
    "display(Math(r'X =' + latex(X3)))\n",
    "\n",
    "display(Math(r'AX +BX=C:'))\n",
    "X4 = ((A+B)**-1)*C\n",
    "display(Math(r'X =' + latex(X4)))\n",
    "\n",
    "display(Math(r'ACX=0:'))\n",
    "X5 = Matrix(zeros(2,2))\n",
    "display(Math(r'X =' + latex(X5)))"
   ]
  },
  {
   "cell_type": "markdown",
   "metadata": {},
   "source": [
    "## Assignment 3"
   ]
  },
  {
   "cell_type": "code",
   "execution_count": 16,
   "metadata": {},
   "outputs": [
    {
     "data": {
      "text/latex": [
       "Basis for nullspace:"
      ],
      "text/plain": [
       "<IPython.core.display.Latex object>"
      ]
     },
     "metadata": {},
     "output_type": "display_data"
    },
    {
     "data": {
      "text/latex": [
       "$\\displaystyle \\left[ \\left[\\begin{matrix}-2\\\\1\\\\1\\\\0\\end{matrix}\\right], \\  \\left[\\begin{matrix}-4\\\\1\\\\0\\\\1\\end{matrix}\\right]\\right]$"
      ],
      "text/plain": [
       "⎡⎡-2⎤  ⎡-4⎤⎤\n",
       "⎢⎢  ⎥  ⎢  ⎥⎥\n",
       "⎢⎢1 ⎥  ⎢1 ⎥⎥\n",
       "⎢⎢  ⎥, ⎢  ⎥⎥\n",
       "⎢⎢1 ⎥  ⎢0 ⎥⎥\n",
       "⎢⎢  ⎥  ⎢  ⎥⎥\n",
       "⎣⎣0 ⎦  ⎣1 ⎦⎦"
      ]
     },
     "metadata": {},
     "output_type": "display_data"
    },
    {
     "data": {
      "text/latex": [
       "Basis for colspace:"
      ],
      "text/plain": [
       "<IPython.core.display.Latex object>"
      ]
     },
     "metadata": {},
     "output_type": "display_data"
    },
    {
     "data": {
      "text/latex": [
       "$\\displaystyle \\left[ \\left[\\begin{matrix}1\\\\-1\\\\2\\end{matrix}\\right], \\  \\left[\\begin{matrix}-1\\\\-3\\\\6\\end{matrix}\\right]\\right]$"
      ],
      "text/plain": [
       "⎡⎡1 ⎤  ⎡-1⎤⎤\n",
       "⎢⎢  ⎥  ⎢  ⎥⎥\n",
       "⎢⎢-1⎥, ⎢-3⎥⎥\n",
       "⎢⎢  ⎥  ⎢  ⎥⎥\n",
       "⎣⎣2 ⎦  ⎣6 ⎦⎦"
      ]
     },
     "metadata": {},
     "output_type": "display_data"
    },
    {
     "data": {
      "text/latex": [
       "Basis for rowspace:"
      ],
      "text/plain": [
       "<IPython.core.display.Latex object>"
      ]
     },
     "metadata": {},
     "output_type": "display_data"
    },
    {
     "data": {
      "text/latex": [
       "$\\displaystyle \\left[ \\left[\\begin{matrix}1 & -1 & 3 & 5\\end{matrix}\\right], \\  \\left[\\begin{matrix}0 & -4 & 4 & 4\\end{matrix}\\right]\\right]$"
      ],
      "text/plain": [
       "[[1  -1  3  5], [0  -4  4  4]]"
      ]
     },
     "metadata": {},
     "output_type": "display_data"
    }
   ],
   "source": [
    "# a)\n",
    "\n",
    "A = Matrix([[1,-1,3,5],[-1,-3,1,-1],[2,6,-2,2]])\n",
    "\n",
    "display(Latex('Basis for nullspace:'))\n",
    "display(A.nullspace())\n",
    "\n",
    "display(Latex('Basis for colspace:'))\n",
    "display(A.columnspace())\n",
    "\n",
    "display(Latex('Basis for rowspace:'))\n",
    "display(A.rowspace())"
   ]
  },
  {
   "cell_type": "code",
   "execution_count": 17,
   "metadata": {},
   "outputs": [
    {
     "data": {
      "text/latex": [
       "$\\displaystyle \\left( \\left[\\begin{matrix}1 & 0 & 2 & 4\\\\0 & 1 & -1 & -1\\\\0 & 0 & 0 & 0\\end{matrix}\\right], \\  \\left( 0, \\  1\\right)\\right)$"
      ],
      "text/plain": [
       "⎛⎡1  0  2   4 ⎤        ⎞\n",
       "⎜⎢            ⎥        ⎟\n",
       "⎜⎢0  1  -1  -1⎥, (0, 1)⎟\n",
       "⎜⎢            ⎥        ⎟\n",
       "⎝⎣0  0  0   0 ⎦        ⎠"
      ]
     },
     "execution_count": 17,
     "metadata": {},
     "output_type": "execute_result"
    }
   ],
   "source": [
    "# b)\n",
    "\n",
    "A.rref()"
   ]
  },
  {
   "cell_type": "code",
   "execution_count": null,
   "metadata": {},
   "outputs": [],
   "source": [
    "# Since A has a free variable (in fact it has two), there are an\n",
    "# infinite number of solutions."
   ]
  },
  {
   "cell_type": "code",
   "execution_count": 19,
   "metadata": {},
   "outputs": [
    {
     "data": {
      "text/latex": [
       "$\\displaystyle \\mathbf{b} =\\left[\\begin{matrix}0\\\\-4\\\\8\\end{matrix}\\right]$"
      ],
      "text/plain": [
       "<IPython.core.display.Math object>"
      ]
     },
     "metadata": {},
     "output_type": "display_data"
    },
    {
     "data": {
      "text/latex": [
       "Check for inconsistencies:"
      ],
      "text/plain": [
       "<IPython.core.display.Latex object>"
      ]
     },
     "metadata": {},
     "output_type": "display_data"
    },
    {
     "data": {
      "text/latex": [
       "$\\displaystyle \\left[\\begin{matrix}1 & 0 & 2 & 4 & 1\\\\0 & 1 & -1 & -1 & 1\\\\0 & 0 & 0 & 0 & 0\\end{matrix}\\right]$"
      ],
      "text/plain": [
       "⎡1  0  2   4   1⎤\n",
       "⎢               ⎥\n",
       "⎢0  1  -1  -1  1⎥\n",
       "⎢               ⎥\n",
       "⎣0  0  0   0   0⎦"
      ]
     },
     "metadata": {},
     "output_type": "display_data"
    }
   ],
   "source": [
    "# c) One such b will lie in the columnspace of A:\n",
    "display(Math(r'\\mathbf{b} =' + latex(A[:,0] + A[:,1])))\n",
    "display(Latex('Check for inconsistencies:'))\n",
    "display(A.row_join(A[:,0] + A[:,1]).rref()[0])"
   ]
  },
  {
   "cell_type": "markdown",
   "metadata": {},
   "source": [
    "## Assignment 4"
   ]
  },
  {
   "cell_type": "code",
   "execution_count": 3,
   "metadata": {},
   "outputs": [
    {
     "data": {
      "image/png": "[encoded data removed]",
      "text/latex": [
       "$\\displaystyle 10$"
      ],
      "text/plain": [
       "10"
      ]
     },
     "execution_count": 3,
     "metadata": {},
     "output_type": "execute_result"
    }
   ],
   "source": [
    "a, b = symbols('a b')\n",
    "A = Matrix([[-6,a,-1,3],[2,0,3,0],[4,5,6,0],[8,b,1,-4]])\n",
    "A.det()"
   ]
  },
  {
   "cell_type": "code",
   "execution_count": 70,
   "metadata": {},
   "outputs": [
    {
     "data": {
      "text/latex": [
       "$\\displaystyle Det(A) = 10$"
      ],
      "text/plain": [
       "<IPython.core.display.Math object>"
      ]
     },
     "metadata": {},
     "output_type": "display_data"
    }
   ],
   "source": [
    "# a)\n",
    "display(Math(\"Det(A) = {}\".format(\n",
    "    A[1,0]*A.cofactor(1,0)+A[1,2]*A.cofactor(1,2))))"
   ]
  },
  {
   "cell_type": "code",
   "execution_count": 67,
   "metadata": {},
   "outputs": [
    {
     "data": {
      "text/latex": [
       "$\\displaystyle Det(B) = -20$"
      ],
      "text/plain": [
       "<IPython.core.display.Math object>"
      ]
     },
     "metadata": {},
     "output_type": "display_data"
    }
   ],
   "source": [
    "# b)\n",
    "# Matrix B can be obtained from A via elementary row operations: One swap, one scaling\n",
    "# and one replacement, the latter not having an effect on the determinant of the\n",
    "# resulting matrix. One swap changes sign and the scale is 2. That means:\n",
    "display(Math(\"Det(B) = -20\"))"
   ]
  },
  {
   "cell_type": "markdown",
   "metadata": {},
   "source": [
    "## Assignment 5"
   ]
  },
  {
   "cell_type": "code",
   "execution_count": 3,
   "metadata": {},
   "outputs": [],
   "source": [
    "A = Matrix([[2,2,1],[2,-1,4],[0,1,-1]])\n",
    "b = Matrix([[1],[1],[1]])\n",
    "x1 = Matrix([[1],[1],[2]])\n",
    "x2 = Matrix([[1],[1],[0]])"
   ]
  },
  {
   "cell_type": "code",
   "execution_count": 6,
   "metadata": {},
   "outputs": [
    {
     "data": {
      "text/latex": [
       "$\\displaystyle \\left[\\begin{matrix}2 & 2 & 1 & 1\\\\0 & -6 & 6 & 0\\\\0 & 0 & 0 & -6\\end{matrix}\\right]$"
      ],
      "text/plain": [
       "⎡2  2   1  1 ⎤\n",
       "⎢            ⎥\n",
       "⎢0  -6  6  0 ⎥\n",
       "⎢            ⎥\n",
       "⎣0  0   0  -6⎦"
      ]
     },
     "execution_count": 6,
     "metadata": {},
     "output_type": "execute_result"
    }
   ],
   "source": [
    "A.row_join(b).echelon_form()"
   ]
  },
  {
   "cell_type": "code",
   "execution_count": 30,
   "metadata": {},
   "outputs": [
    {
     "data": {
      "text/latex": [
       "$\\displaystyle \\left[\\begin{matrix}1 & 0 & \\frac{3}{2} & 0\\\\0 & 1 & -1 & 0\\\\0 & 0 & 0 & 1\\end{matrix}\\right]$"
      ],
      "text/plain": [
       "⎡1  0  3/2  0⎤\n",
       "⎢            ⎥\n",
       "⎢0  1  -1   0⎥\n",
       "⎢            ⎥\n",
       "⎣0  0   0   1⎦"
      ]
     },
     "metadata": {},
     "output_type": "display_data"
    },
    {
     "data": {
      "text/latex": [
       "The system is inconsistent since the final row contains 0 = 1. Hence the matrix has no solution"
      ],
      "text/plain": [
       "<IPython.core.display.Latex object>"
      ]
     },
     "metadata": {},
     "output_type": "display_data"
    }
   ],
   "source": [
    "# a)\n",
    "\n",
    "display(A.row_join(b).rref()[0])\n",
    "display(Latex('The system is inconsistent since the final row contains 0 = 1. Hence' +\n",
    "        ' the matrix has no solution'))"
   ]
  },
  {
   "cell_type": "code",
   "execution_count": 35,
   "metadata": {},
   "outputs": [
    {
     "data": {
      "text/latex": [
       "$\\displaystyle ||\\mathbf{b}-A\\mathbf{x}_{1}|| = 9.64$"
      ],
      "text/plain": [
       "<IPython.core.display.Math object>"
      ]
     },
     "metadata": {},
     "output_type": "display_data"
    },
    {
     "data": {
      "text/latex": [
       "$\\displaystyle ||\\mathbf{b}-A\\mathbf{x}_{2}|| = 3.0$"
      ],
      "text/plain": [
       "<IPython.core.display.Math object>"
      ]
     },
     "metadata": {},
     "output_type": "display_data"
    }
   ],
   "source": [
    "# b)\n",
    "display(Math(r'||\\mathbf{b}-A\\mathbf{x}_{1}|| = ' +\n",
    "             latex(round(float((b-A*x1).norm()), 2))))\n",
    "display(Math(r'||\\mathbf{b}-A\\mathbf{x}_{2}|| = ' +\n",
    "             latex(round(float((b-A*x2).norm()), 2))))"
   ]
  },
  {
   "cell_type": "code",
   "execution_count": null,
   "metadata": {},
   "outputs": [],
   "source": [
    "# We conclude that x2 is the best solution of the two candidates."
   ]
  },
  {
   "cell_type": "markdown",
   "metadata": {},
   "source": [
    "## Assignment 6"
   ]
  },
  {
   "cell_type": "code",
   "execution_count": 36,
   "metadata": {},
   "outputs": [],
   "source": [
    "x = np.array([0, 2, 5, 6])\n",
    "y = np.array([1, 6, 17, 19])"
   ]
  },
  {
   "cell_type": "code",
   "execution_count": 40,
   "metadata": {},
   "outputs": [
    {
     "data": {
      "text/latex": [
       "$\\displaystyle \\text{Design Matrix for } y_1 =\\left[\\begin{matrix}1 & 0\\\\1 & 4\\\\1 & 25\\\\1 & 36\\end{matrix}\\right]$"
      ],
      "text/plain": [
       "<IPython.core.display.Math object>"
      ]
     },
     "metadata": {},
     "output_type": "display_data"
    },
    {
     "data": {
      "text/latex": [
       "$\\displaystyle \\text{Observation Matrix for } y_1 =\\left[\\begin{matrix}1\\\\6\\\\17\\\\19\\end{matrix}\\right]$"
      ],
      "text/plain": [
       "<IPython.core.display.Math object>"
      ]
     },
     "metadata": {},
     "output_type": "display_data"
    }
   ],
   "source": [
    "# a) Design matrix for y1\n",
    "\n",
    "X1 = Matrix([ones(len(x), 1)]).row_join(Matrix(x**2))\n",
    "XtX = X1.T*X1\n",
    "Xty = X1.T*Matrix(y)\n",
    "Mat, _ = XtX.row_join(Xty).rref()\n",
    "B1 = Mat[:,-1]\n",
    "\n",
    "display(Math(r'\\text{Design Matrix for } y_1 =' + latex(X1)))\n",
    "display(Math(r'\\text{Observation Matrix for } y_1 =' + latex(Matrix(y))))"
   ]
  },
  {
   "cell_type": "code",
   "execution_count": 41,
   "metadata": {},
   "outputs": [
    {
     "data": {
      "text/latex": [
       "$\\displaystyle \\text{Design Matrix for } y_2 =\\left[\\begin{matrix}0 & 0\\\\2 & 4\\\\5 & 25\\\\6 & 36\\end{matrix}\\right]$"
      ],
      "text/plain": [
       "<IPython.core.display.Math object>"
      ]
     },
     "metadata": {},
     "output_type": "display_data"
    },
    {
     "data": {
      "text/latex": [
       "$\\displaystyle \\text{Observation Matrix for } y_2 =\\left[\\begin{matrix}1\\\\6\\\\17\\\\19\\end{matrix}\\right]$"
      ],
      "text/plain": [
       "<IPython.core.display.Math object>"
      ]
     },
     "metadata": {},
     "output_type": "display_data"
    }
   ],
   "source": [
    "# a) Design matrix for y2\n",
    "\n",
    "X2 = Matrix(x).row_join(Matrix(x**2))\n",
    "XtX = X2.T*X2\n",
    "Xty = X2.T*Matrix(y)\n",
    "Mat, _ = XtX.row_join(Xty).rref()\n",
    "B2 = Mat[:,-1]\n",
    "\n",
    "display(Math(r'\\text{Design Matrix for } y_2 =' + latex(X2)))\n",
    "display(Math(r'\\text{Observation Matrix for } y_2 =' + latex(Matrix(y))))"
   ]
  },
  {
   "cell_type": "code",
   "execution_count": 42,
   "metadata": {},
   "outputs": [
    {
     "data": {
      "text/latex": [
       "$\\displaystyle \\text{Design Matrix for } y_3 =\\left[\\begin{matrix}1 & 0 & 0\\\\1 & 2 & 4\\\\1 & 5 & 25\\\\1 & 6 & 36\\end{matrix}\\right]$"
      ],
      "text/plain": [
       "<IPython.core.display.Math object>"
      ]
     },
     "metadata": {},
     "output_type": "display_data"
    },
    {
     "data": {
      "text/latex": [
       "$\\displaystyle \\text{Observation Matrix for } y_3 =\\left[\\begin{matrix}1\\\\6\\\\17\\\\19\\end{matrix}\\right]$"
      ],
      "text/plain": [
       "<IPython.core.display.Math object>"
      ]
     },
     "metadata": {},
     "output_type": "display_data"
    }
   ],
   "source": [
    "# a) Design matrix for y3\n",
    "\n",
    "X3 = Matrix([ones(len(x), 1)]).row_join(Matrix(x)).row_join(Matrix(x**2))\n",
    "XtX = X3.T*X3\n",
    "Xty = X3.T*Matrix(y)\n",
    "Mat, _ = XtX.row_join(Xty).rref()\n",
    "B3 = Mat[:,-1]\n",
    "\n",
    "display(Math(r'\\text{Design Matrix for } y_3 =' + latex(X3)))\n",
    "display(Math(r'\\text{Observation Matrix for } y_3 =' + latex(Matrix(y))))"
   ]
  },
  {
   "cell_type": "code",
   "execution_count": 46,
   "metadata": {},
   "outputs": [
    {
     "data": {
      "text/latex": [
       "$$y_1(t) = 2.74+0.4930t^2$$"
      ],
      "text/plain": [
       "<IPython.core.display.Latex object>"
      ]
     },
     "metadata": {},
     "output_type": "display_data"
    },
    {
     "data": {
      "text/latex": [
       "$$y_2(t) = 3.24t+0.0015t^2$$"
      ],
      "text/plain": [
       "<IPython.core.display.Latex object>"
      ]
     },
     "metadata": {},
     "output_type": "display_data"
    },
    {
     "data": {
      "text/latex": [
       "$$y_2(t) = 0.78+2.7641t+0.0607t^2$$"
      ],
      "text/plain": [
       "<IPython.core.display.Latex object>"
      ]
     },
     "metadata": {},
     "output_type": "display_data"
    }
   ],
   "source": [
    "# b)\n",
    "\n",
    "display(Latex(\"$$y_1(t) = {}+{}t^2$$\"\n",
    "             .format(round(B1[0], 2), round(B1[1], 4))))\n",
    "\n",
    "display(Latex(\"$$y_2(t) = {}t+{}t^2$$\"\n",
    "             .format(round(B2[0], 2), round(B2[1], 4))))\n",
    "\n",
    "display(Latex(\"$$y_2(t) = {}+{}t+{}t^2$$\"\n",
    "             .format(round(B3[0], 2), round(B3[1], 4), round(B3[2], 4))))"
   ]
  },
  {
   "cell_type": "code",
   "execution_count": 50,
   "metadata": {},
   "outputs": [
    {
     "data": {
      "text/latex": [
       "The error of $y_1$ = 3.26"
      ],
      "text/plain": [
       "<IPython.core.display.Latex object>"
      ]
     },
     "metadata": {},
     "output_type": "display_data"
    },
    {
     "data": {
      "text/latex": [
       "The error of $y_2$ = 1.44"
      ],
      "text/plain": [
       "<IPython.core.display.Latex object>"
      ]
     },
     "metadata": {},
     "output_type": "display_data"
    },
    {
     "data": {
      "text/latex": [
       "The error of $y_3$ = 1.2"
      ],
      "text/plain": [
       "<IPython.core.display.Latex object>"
      ]
     },
     "metadata": {},
     "output_type": "display_data"
    },
    {
     "data": {
      "text/latex": [
       "$y_3$ has the smallest error and is the best fitted model"
      ],
      "text/plain": [
       "<IPython.core.display.Latex object>"
      ]
     },
     "metadata": {},
     "output_type": "display_data"
    }
   ],
   "source": [
    "# c)\n",
    "\n",
    "display(Latex(\n",
    "    \"The error of $y_1$ = {}\"\n",
    "    .format(round(float((Matrix(y)-X1*B1).norm()), 2))))\n",
    "\n",
    "display(Latex(\n",
    "    \"The error of $y_2$ = {}\"\n",
    "    .format(round(float((Matrix(y)-X2*B2).norm()), 2))))\n",
    "\n",
    "display(Latex(\n",
    "    \"The error of $y_3$ = {}\"\n",
    "    .format(round(float((Matrix(y)-X3*B3).norm()), 2))))\n",
    "\n",
    "display(Latex(\"$y_3$ has the smallest error and is the best fitted model.\"))"
   ]
  },
  {
   "cell_type": "markdown",
   "metadata": {},
   "source": [
    "## Assignment 7"
   ]
  },
  {
   "cell_type": "code",
   "execution_count": 4,
   "metadata": {},
   "outputs": [
    {
     "data": {
      "text/latex": [
       "$\\displaystyle \\left[ \\left( 0, \\  1, \\  \\left[ \\left[\\begin{matrix}- \\frac{1}{5}\\\\- \\frac{2}{5}\\\\1\\end{matrix}\\right]\\right]\\right), \\  \\left( 90, \\  1, \\  \\left[ \\left[\\begin{matrix}-2\\\\1\\\\0\\end{matrix}\\right]\\right]\\right), \\  \\left( 108, \\  1, \\  \\left[ \\left[\\begin{matrix}1\\\\2\\\\1\\end{matrix}\\right]\\right]\\right)\\right]$"
      ],
      "text/plain": [
       "⎡⎛      ⎡⎡-1/5⎤⎤⎞  ⎛       ⎡⎡-2⎤⎤⎞  ⎛        ⎡⎡1⎤⎤⎞⎤\n",
       "⎢⎜      ⎢⎢    ⎥⎥⎟  ⎜       ⎢⎢  ⎥⎥⎟  ⎜        ⎢⎢ ⎥⎥⎟⎥\n",
       "⎢⎜0, 1, ⎢⎢-2/5⎥⎥⎟, ⎜90, 1, ⎢⎢1 ⎥⎥⎟, ⎜108, 1, ⎢⎢2⎥⎥⎟⎥\n",
       "⎢⎜      ⎢⎢    ⎥⎥⎟  ⎜       ⎢⎢  ⎥⎥⎟  ⎜        ⎢⎢ ⎥⎥⎟⎥\n",
       "⎣⎝      ⎣⎣ 1  ⎦⎦⎠  ⎝       ⎣⎣0 ⎦⎦⎠  ⎝        ⎣⎣1⎦⎦⎠⎦"
      ]
     },
     "execution_count": 4,
     "metadata": {},
     "output_type": "execute_result"
    }
   ],
   "source": [
    "A = Matrix([[9,3,3],[-3,9,3]])\n",
    "AtA = A.T*A\n",
    "vecs = AtA.eigenvects()\n",
    "vecs"
   ]
  },
  {
   "cell_type": "code",
   "execution_count": 6,
   "metadata": {},
   "outputs": [
    {
     "data": {
      "text/latex": [
       "$\\displaystyle U \\Sigma V^T = \\left[\\begin{matrix}\\frac{\\sqrt{2}}{2} & - \\frac{\\sqrt{2}}{2}\\\\\\frac{\\sqrt{2}}{2} & \\frac{\\sqrt{2}}{2}\\end{matrix}\\right]\\left[\\begin{matrix}6 \\sqrt{3} & 0 & 0\\\\0 & 3 \\sqrt{10} & 0\\end{matrix}\\right]\\left[\\begin{matrix}\\frac{\\sqrt{6}}{6} & \\frac{\\sqrt{6}}{3} & \\frac{\\sqrt{6}}{6}\\\\- \\frac{2 \\sqrt{5}}{5} & \\frac{\\sqrt{5}}{5} & 0\\\\- \\frac{\\sqrt{30}}{30} & - \\frac{\\sqrt{30}}{15} & \\frac{\\sqrt{30}}{6}\\end{matrix}\\right]$"
      ],
      "text/plain": [
       "<IPython.core.display.Math object>"
      ]
     },
     "metadata": {},
     "output_type": "display_data"
    },
    {
     "data": {
      "text/latex": [
       "Test:"
      ],
      "text/plain": [
       "<IPython.core.display.Latex object>"
      ]
     },
     "metadata": {},
     "output_type": "display_data"
    },
    {
     "data": {
      "text/latex": [
       "$\\displaystyle \\left[\\begin{matrix}9 & 3 & 3\\\\-3 & 9 & 3\\end{matrix}\\right]$"
      ],
      "text/plain": [
       "⎡9   3  3⎤\n",
       "⎢        ⎥\n",
       "⎣-3  9  3⎦"
      ]
     },
     "metadata": {},
     "output_type": "display_data"
    },
    {
     "data": {
      "text/latex": [
       "$\\displaystyle \\left[\\begin{matrix}\\frac{\\sqrt{6}}{6} & - \\frac{2 \\sqrt{5}}{5} & - \\frac{\\sqrt{30}}{30}\\\\\\frac{\\sqrt{6}}{3} & \\frac{\\sqrt{5}}{5} & - \\frac{\\sqrt{30}}{15}\\\\\\frac{\\sqrt{6}}{6} & 0 & \\frac{\\sqrt{30}}{6}\\end{matrix}\\right]$"
      ],
      "text/plain": [
       "⎡√6  -2⋅√5   -√30 ⎤\n",
       "⎢──  ──────  ─────⎥\n",
       "⎢6     5       30 ⎥\n",
       "⎢                 ⎥\n",
       "⎢√6    √5    -√30 ⎥\n",
       "⎢──    ──    ─────⎥\n",
       "⎢3     5       15 ⎥\n",
       "⎢                 ⎥\n",
       "⎢√6           √30 ⎥\n",
       "⎢──    0      ─── ⎥\n",
       "⎣6             6  ⎦"
      ]
     },
     "metadata": {},
     "output_type": "display_data"
    }
   ],
   "source": [
    "# a)\n",
    "s1 = sqrt(vecs[2][0])\n",
    "s2 = sqrt(vecs[1][0])\n",
    "\n",
    "v1 = vecs[2][2][0].normalized()\n",
    "v2 = vecs[1][2][0].normalized()\n",
    "v3 = vecs[0][2][0].normalized()\n",
    "\n",
    "u1 = (s1**-1)*A*v1\n",
    "u2 = (s2**-1)*A*v2\n",
    "\n",
    "U = u1.row_join(u2)\n",
    "V = v1.row_join(v2).row_join(v3)\n",
    "Vt = V.T\n",
    "S = diag(s1, s2).row_join(zeros(2,1))\n",
    "\n",
    "display(Math('U \\Sigma V^T = {}{}{}'.format(latex(U), latex(S), latex(Vt))))\n",
    "display(Latex(\"Test:\"))\n",
    "display(U*S*Vt)\n",
    "display(V)"
   ]
  },
  {
   "cell_type": "code",
   "execution_count": 68,
   "metadata": {},
   "outputs": [
    {
     "data": {
      "text/latex": [
       "$\\displaystyle AA^T \\cdot u_1 = \\lambda_1 u_1$"
      ],
      "text/plain": [
       "<IPython.core.display.Math object>"
      ]
     },
     "metadata": {},
     "output_type": "display_data"
    },
    {
     "data": {
      "text/latex": [
       "$\\displaystyle AA^T \\cdot u_2 = \\lambda_2 u_2$"
      ],
      "text/plain": [
       "<IPython.core.display.Math object>"
      ]
     },
     "metadata": {},
     "output_type": "display_data"
    }
   ],
   "source": [
    "# b)\n",
    "# If the columns of U are eigenvectors of AAt, the following must be the case\n",
    "display(Math('AA^T \\cdot u_1 = \\lambda_1 u_1'))\n",
    "display(Math('AA^T \\cdot u_2 = \\lambda_2 u_2'))"
   ]
  },
  {
   "cell_type": "code",
   "execution_count": 69,
   "metadata": {},
   "outputs": [
    {
     "data": {
      "text/latex": [
       "$\\displaystyle AA^T \\cdot u_1 =\\left[\\begin{matrix}99 & 9\\\\9 & 99\\end{matrix}\\right]\\left[\\begin{matrix}\\frac{\\sqrt{2}}{2}\\\\\\frac{\\sqrt{2}}{2}\\end{matrix}\\right]=\\left[\\begin{matrix}54 \\sqrt{2}\\\\54 \\sqrt{2}\\end{matrix}\\right]$"
      ],
      "text/plain": [
       "<IPython.core.display.Math object>"
      ]
     },
     "metadata": {},
     "output_type": "display_data"
    },
    {
     "data": {
      "text/latex": [
       "$\\displaystyle AA^T \\cdot u_2 =\\left[\\begin{matrix}99 & 9\\\\9 & 99\\end{matrix}\\right]\\left[\\begin{matrix}- \\frac{\\sqrt{2}}{2}\\\\\\frac{\\sqrt{2}}{2}\\end{matrix}\\right]=\\left[\\begin{matrix}- 45 \\sqrt{2}\\\\45 \\sqrt{2}\\end{matrix}\\right]$"
      ],
      "text/plain": [
       "<IPython.core.display.Math object>"
      ]
     },
     "metadata": {},
     "output_type": "display_data"
    },
    {
     "data": {
      "text/latex": [
       "That means"
      ],
      "text/plain": [
       "<IPython.core.display.Latex object>"
      ]
     },
     "metadata": {},
     "output_type": "display_data"
    },
    {
     "data": {
      "text/latex": [
       "$\\displaystyle AA^T \\cdot u_1 =108\\left[\\begin{matrix}\\frac{\\sqrt{2}}{2}\\\\\\frac{\\sqrt{2}}{2}\\end{matrix}\\right]$"
      ],
      "text/plain": [
       "<IPython.core.display.Math object>"
      ]
     },
     "metadata": {},
     "output_type": "display_data"
    },
    {
     "data": {
      "text/latex": [
       "$\\displaystyle AA^T \\cdot u_2 =90\\left[\\begin{matrix}- \\frac{\\sqrt{2}}{2}\\\\\\frac{\\sqrt{2}}{2}\\end{matrix}\\right]$"
      ],
      "text/plain": [
       "<IPython.core.display.Math object>"
      ]
     },
     "metadata": {},
     "output_type": "display_data"
    },
    {
     "data": {
      "text/latex": [
       "And we get"
      ],
      "text/plain": [
       "<IPython.core.display.Latex object>"
      ]
     },
     "metadata": {},
     "output_type": "display_data"
    },
    {
     "data": {
      "text/latex": [
       "$\\displaystyle \\lambda_1 =108$"
      ],
      "text/plain": [
       "<IPython.core.display.Math object>"
      ]
     },
     "metadata": {},
     "output_type": "display_data"
    },
    {
     "data": {
      "text/latex": [
       "$\\displaystyle \\lambda_2 =90$"
      ],
      "text/plain": [
       "<IPython.core.display.Math object>"
      ]
     },
     "metadata": {},
     "output_type": "display_data"
    }
   ],
   "source": [
    "display(Math(r'AA^T \\cdot u_1 =' + latex(AAt) + latex(u1) + '=' + latex(AAt*u1)))\n",
    "display(Math(r'AA^T \\cdot u_2 =' + latex(AAt) + latex(u2) + '=' + latex(AAt*u2)))\n",
    "display(Latex(\"That means\"))\n",
    "display(Math(r'AA^T \\cdot u_1 =' + latex(108) + latex(u1)))\n",
    "display(Math(r'AA^T \\cdot u_2 =' + latex(90) + latex(u2)))\n",
    "display(Latex(\"And we get\"))\n",
    "display(Math('\\lambda_1 =' + latex(108)))\n",
    "display(Math('\\lambda_2 =' + latex(90)))"
   ]
  }
 ],
 "metadata": {
  "kernelspec": {
   "display_name": "Python 3",
   "language": "python",
   "name": "python3"
  },
  "language_info": {
   "codemirror_mode": {
    "name": "ipython",
    "version": 3
   },
   "file_extension": ".py",
   "mimetype": "text/x-python",
   "name": "python",
   "nbconvert_exporter": "python",
   "pygments_lexer": "ipython3",
   "version": "3.7.6"
  }
 },
 "nbformat": 4,
 "nbformat_minor": 4
}
