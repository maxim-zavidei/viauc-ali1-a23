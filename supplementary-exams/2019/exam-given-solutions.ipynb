{
 "cells": [
  {
   "cell_type": "markdown",
   "metadata": {},
   "source": [
    "## ALI 2019 Solution"
   ]
  },
  {
   "cell_type": "code",
   "execution_count": 1,
   "metadata": {},
   "outputs": [],
   "source": [
    "import sympy as sp\n",
    "from sympy import *\n",
    "init_printing()\n",
    "from IPython.display import display, Latex, HTML, Math\n",
    "import numpy as np\n",
    "import pandas as pd\n",
    "from latex2sympy import lat2py"
   ]
  },
  {
   "cell_type": "code",
   "execution_count": 2,
   "metadata": {},
   "outputs": [
    {
     "data": {
      "image/png": "[encoded data removed]",
      "text/latex": [
       "$$\\left[\\begin{matrix}1 & 0 & 0\\\\0 & 0 & 0\\\\0 & -1 & 0\\\\0 & 0 & 1\\end{matrix}\\right]$$"
      ],
      "text/plain": [
       "⎡1  0   0⎤\n",
       "⎢        ⎥\n",
       "⎢0  0   0⎥\n",
       "⎢        ⎥\n",
       "⎢0  -1  0⎥\n",
       "⎢        ⎥\n",
       "⎣0  0   1⎦"
      ]
     },
     "execution_count": 2,
     "metadata": {},
     "output_type": "execute_result"
    }
   ],
   "source": [
    "v1 = Matrix([2, 0, 0, 0])\n",
    "x3 = Matrix([0, 0, -1, 0])\n",
    "x4 = Matrix([0, 0, 0, 1])\n",
    "v3 = x3 - x3.project(v1)\n",
    "v4 = x4 - x4.project(v1)- x4.project(v3)\n",
    "V = v1.row_join(v3).row_join(v4)\n",
    "u1 = v1.normalized()\n",
    "u3 = v3.normalized()\n",
    "u4 = v4.normalized()\n",
    "U = u1.row_join(u3).row_join(u4)\n",
    "U\n",
    "#display(U.T*U)\n",
    "# Since U.T*U ="
   ]
  },
  {
   "cell_type": "markdown",
   "metadata": {},
   "source": [
    "## Assignment 1"
   ]
  },
  {
   "cell_type": "code",
   "execution_count": 2,
   "metadata": {},
   "outputs": [],
   "source": [
    "# a)"
   ]
  },
  {
   "cell_type": "markdown",
   "metadata": {},
   "source": [
    "FALSE. Two matrices are row equivalent if one can be obtained from the other by a sequence of elementary row operations"
   ]
  },
  {
   "cell_type": "code",
   "execution_count": null,
   "metadata": {},
   "outputs": [],
   "source": [
    "# b)"
   ]
  },
  {
   "cell_type": "markdown",
   "metadata": {},
   "source": [
    "FALSE. A linear system must have no solution, unique solutions, or infinitely many solutions. Having no free variables indicates that the system does not have infinitely many solutions, but it does not determine which of the other two cases it might be."
   ]
  },
  {
   "cell_type": "code",
   "execution_count": null,
   "metadata": {},
   "outputs": [],
   "source": [
    "# c)"
   ]
  },
  {
   "cell_type": "markdown",
   "metadata": {},
   "source": [
    "FALSE. The maximum number of pivot positions is number of rows = 5. Since there are 6 columns, there must be a column that does not contain a pivot position (col 6). Hence, $x_6$ is free and so $A\\textbf{x} = \\textbf{b}$ MUST have infinitely many solutions if it is consistent."
   ]
  },
  {
   "cell_type": "code",
   "execution_count": null,
   "metadata": {},
   "outputs": [],
   "source": [
    "# d)"
   ]
  },
  {
   "cell_type": "markdown",
   "metadata": {},
   "source": [
    "FALSE. A needs 9 linearly independent eigenvectors for A to be diagonalizable. But there exist only 3 + 3 + 2 = 8 linearly independent eigenvectors."
   ]
  },
  {
   "cell_type": "markdown",
   "metadata": {},
   "source": [
    "## Assignment 2"
   ]
  },
  {
   "cell_type": "code",
   "execution_count": 2,
   "metadata": {},
   "outputs": [],
   "source": [
    "A = Matrix([[4, 8, -2], [-6, 2, 10], [-2, 6, 6]])\n",
    "b = Matrix([2, 18, 15])"
   ]
  },
  {
   "cell_type": "code",
   "execution_count": 3,
   "metadata": {},
   "outputs": [
    {
     "data": {
      "image/png": "[encoded data removed]",
      "text/latex": [
       "$$\\left ( \\left[\\begin{matrix}1 & 0 & - \\frac{3}{2} & 0\\\\0 & 1 & \\frac{1}{2} & 0\\\\0 & 0 & 0 & 1\\end{matrix}\\right], \\quad \\left ( 0, \\quad 1, \\quad 3\\right )\\right )$$"
      ],
      "text/plain": [
       "⎛⎡1  0  -3/2  0⎤           ⎞\n",
       "⎜⎢             ⎥           ⎟\n",
       "⎜⎢0  1  1/2   0⎥, (0, 1, 3)⎟\n",
       "⎜⎢             ⎥           ⎟\n",
       "⎝⎣0  0   0    1⎦           ⎠"
      ]
     },
     "execution_count": 3,
     "metadata": {},
     "output_type": "execute_result"
    }
   ],
   "source": [
    "# a)\n",
    "A.row_join(b).rref()"
   ]
  },
  {
   "cell_type": "markdown",
   "metadata": {},
   "source": [
    "The system is inconsistent which means that **b** is not in the span of the columns of $A$."
   ]
  },
  {
   "cell_type": "code",
   "execution_count": 26,
   "metadata": {},
   "outputs": [],
   "source": [
    "# b)"
   ]
  },
  {
   "cell_type": "markdown",
   "metadata": {},
   "source": [
    "From (a) we can conclude that the set is linearly dependent since we do not have pivots in all columns.\n",
    "Since column 3 has no pivots, it follows that $\\mathbf{v_{3}}$ is linearly dependent on $\\mathbf{v_{1}}$ and $\\mathbf{v_{2}}$. We find the dependency relation."
   ]
  },
  {
   "cell_type": "code",
   "execution_count": 4,
   "metadata": {},
   "outputs": [
    {
     "data": {
      "text/latex": [
       "$$3v_1-v_2+2v_3 = 0$$"
      ],
      "text/plain": [
       "<IPython.core.display.Latex object>"
      ]
     },
     "metadata": {},
     "output_type": "display_data"
    },
    {
     "name": "stdout",
     "output_type": "stream",
     "text": [
      "or\n"
     ]
    },
    {
     "data": {
      "text/latex": [
       "$$3v_1-v_2 = -2v_3$$"
      ],
      "text/plain": [
       "<IPython.core.display.Latex object>"
      ]
     },
     "metadata": {},
     "output_type": "display_data"
    },
    {
     "name": "stdout",
     "output_type": "stream",
     "text": [
      "or\n"
     ]
    },
    {
     "data": {
      "text/latex": [
       "$$-3/2v_1+1/2v_2 = v_3$$"
      ],
      "text/plain": [
       "<IPython.core.display.Latex object>"
      ]
     },
     "metadata": {},
     "output_type": "display_data"
    }
   ],
   "source": [
    "A.nullspace()[0][0]\n",
    "display(Latex(\"$${}v_1-v_2+{}v_3 = 0$$\".format(2*A.nullspace()[0][0],\n",
    "                                                             2*A.nullspace()[0][2])))\n",
    "print(\"or\")\n",
    "\n",
    "display(Latex(\"$${}v_1-v_2 = {}v_3$$\".format(2*A.nullspace()[0][0],\n",
    "                                                             -2*A.nullspace()[0][2])))\n",
    "print(\"or\")\n",
    "display(Latex(\"$${}v_1+{}v_2 = v_3$$\".format(-1*A.nullspace()[0][0], -1*A.nullspace()[0][1])))"
   ]
  },
  {
   "cell_type": "markdown",
   "metadata": {},
   "source": [
    "## Assignment 3"
   ]
  },
  {
   "cell_type": "code",
   "execution_count": 2,
   "metadata": {},
   "outputs": [
    {
     "data": {
      "text/latex": [
       "$$f(x) = -x^3+ax^2+bx+c$$"
      ],
      "text/plain": [
       "<IPython.core.display.Latex object>"
      ]
     },
     "metadata": {},
     "output_type": "display_data"
    }
   ],
   "source": [
    "# a)\n",
    "a, b, c, x = symbols('a b c x')\n",
    "A = Matrix([[a-x, b, c], [1, -x, 0], [0, 1, -x]])\n",
    "A.det()\n",
    "display(Latex(\"$$f(x) = -x^3+ax^2+bx+c$$\"))"
   ]
  },
  {
   "cell_type": "code",
   "execution_count": 40,
   "metadata": {},
   "outputs": [
    {
     "data": {
      "text/latex": [
       "$\\displaystyle \\lambda_1 = 2 + 2 \\sqrt{3} \\approx 5.464 \\\\ \\lambda_2 = - 2 \\sqrt{3} + 2 \\approx -1.464 $"
      ],
      "text/plain": [
       "<IPython.core.display.Math object>"
      ]
     },
     "metadata": {},
     "output_type": "display_data"
    }
   ],
   "source": [
    "# b)\n",
    "l = symbols('l')\n",
    "A = Matrix([[2-l, 4], [3,2-l]])\n",
    "L = solve(A.det(), l)\n",
    "display(Math(r\"\\lambda_1 = {} \\approx {} \\\\ \\lambda_2 = {} \\approx {} \".format(\n",
    "    latex(L[0]), round(float(L[0]), 3),\n",
    "    latex(L[1]), round(float(L[1]), 3))))"
   ]
  },
  {
   "cell_type": "code",
   "execution_count": 53,
   "metadata": {},
   "outputs": [
    {
     "data": {
      "text/latex": [
       "$\\displaystyle Det(A) = 8$"
      ],
      "text/plain": [
       "<IPython.core.display.Math object>"
      ]
     },
     "metadata": {},
     "output_type": "display_data"
    }
   ],
   "source": [
    "# c) I choose to cofactor expand on the second row since it contains the most zeroes.\n",
    "A = Matrix([\n",
    "      [2, 0, 0, 1]\n",
    "    , [0, 1, 0, 0]\n",
    "    , [1, 6, 2, 0]\n",
    "    , [1, 1, -2, 3]\n",
    "])\n",
    "display(Math(\"Det(A) = {}\".format(\n",
    "    A[1,1]*A.cofactor(1,1)\n",
    ")))"
   ]
  },
  {
   "cell_type": "code",
   "execution_count": 102,
   "metadata": {},
   "outputs": [
    {
     "data": {
      "image/png": "[encoded data removed]",
      "text/latex": [
       "$$\\left[\\begin{matrix}1 & 1 & 3 & 2\\\\0 & 1 & 1 & 1\\\\0 & 0 & a - 5 & b - 4\\end{matrix}\\right]$$"
      ],
      "text/plain": [
       "⎡1  1    3      2  ⎤\n",
       "⎢                  ⎥\n",
       "⎢0  1    1      1  ⎥\n",
       "⎢                  ⎥\n",
       "⎣0  0  a - 5  b - 4⎦"
      ]
     },
     "metadata": {},
     "output_type": "display_data"
    },
    {
     "data": {
      "text/latex": [
       "$\\displaystyle One \\:solution: a \\neq5\\:and\\: b = \\mathbb{R}$"
      ],
      "text/plain": [
       "<IPython.core.display.Math object>"
      ]
     },
     "metadata": {},
     "output_type": "display_data"
    },
    {
     "data": {
      "text/latex": [
       "$\\displaystyle Many \\:solutions: a = 5 \\:and\\: b = 4$"
      ],
      "text/plain": [
       "<IPython.core.display.Math object>"
      ]
     },
     "metadata": {},
     "output_type": "display_data"
    },
    {
     "data": {
      "text/latex": [
       "$\\displaystyle No \\:solution: a = 5 \\:and\\: b \\neq 4$"
      ],
      "text/plain": [
       "<IPython.core.display.Math object>"
      ]
     },
     "metadata": {},
     "output_type": "display_data"
    },
    {
     "data": {
      "text/latex": [
       "$\\displaystyle a =6\\:\\:\\:when\\: Det(A) = 1$"
      ],
      "text/plain": [
       "<IPython.core.display.Math object>"
      ]
     },
     "metadata": {},
     "output_type": "display_data"
    }
   ],
   "source": [
    "# d)\n",
    "A = Matrix([[1, 1, 3], [1, 2, 4], [1, 3, a]])\n",
    "B = Matrix([2, 3, b])\n",
    "L, U, perm = A.row_join(B).LUdecomposition()\n",
    "display(U)\n",
    "display(Math(r'One \\:solution: a \\neq' + repr(solve(U[2,2])[0]) + r'\\:and\\: b = \\mathbb{R}'))\n",
    "display(Math(r\"Many \\:solutions: a = {} \\:and\\: b = {}\".format(solve(U[2,2])[0],solve(U[2,3])[0])))\n",
    "display(Math(r\"No \\:solution: a = {} \\:and\\: b \\neq {}\".format(solve(U[2,2])[0],solve(U[2,3])[0])))\n",
    "display(Math('a =' + repr(solve(A.det()-1)[0]) + '\\:\\:\\:when\\: Det(A) = 1'))"
   ]
  },
  {
   "cell_type": "markdown",
   "metadata": {},
   "source": [
    "## Assignment 4"
   ]
  },
  {
   "cell_type": "code",
   "execution_count": 116,
   "metadata": {},
   "outputs": [
    {
     "data": {
      "text/latex": [
       "An orthonormal basis for W is"
      ],
      "text/plain": [
       "<IPython.core.display.Latex object>"
      ]
     },
     "metadata": {},
     "output_type": "display_data"
    },
    {
     "data": {
      "image/png": "[encoded data removed]",
      "text/latex": [
       "$$\\left [ \\left[\\begin{matrix}0\\\\1\\\\0\\\\0\\end{matrix}\\right], \\quad \\left[\\begin{matrix}\\frac{\\sqrt{5}}{5}\\\\0\\\\\\frac{2 \\sqrt{5}}{5}\\\\0\\end{matrix}\\right], \\quad \\left[\\begin{matrix}- \\frac{\\sqrt{30}}{15}\\\\0\\\\\\frac{\\sqrt{30}}{30}\\\\\\frac{\\sqrt{30}}{6}\\end{matrix}\\right]\\right ]$$"
      ],
      "text/plain": [
       "⎡             ⎡-√30 ⎤⎤\n",
       "⎢     ⎡ √5 ⎤  ⎢─────⎥⎥\n",
       "⎢     ⎢ ── ⎥  ⎢  15 ⎥⎥\n",
       "⎢⎡0⎤  ⎢ 5  ⎥  ⎢     ⎥⎥\n",
       "⎢⎢ ⎥  ⎢    ⎥  ⎢  0  ⎥⎥\n",
       "⎢⎢1⎥  ⎢ 0  ⎥  ⎢     ⎥⎥\n",
       "⎢⎢ ⎥, ⎢    ⎥, ⎢ √30 ⎥⎥\n",
       "⎢⎢0⎥  ⎢2⋅√5⎥  ⎢ ─── ⎥⎥\n",
       "⎢⎢ ⎥  ⎢────⎥  ⎢  30 ⎥⎥\n",
       "⎢⎣0⎦  ⎢ 5  ⎥  ⎢     ⎥⎥\n",
       "⎢     ⎢    ⎥  ⎢ √30 ⎥⎥\n",
       "⎢     ⎣ 0  ⎦  ⎢ ─── ⎥⎥\n",
       "⎣             ⎣  6  ⎦⎦"
      ]
     },
     "execution_count": 116,
     "metadata": {},
     "output_type": "execute_result"
    }
   ],
   "source": [
    "display(Latex(\"An orthonormal basis for W is\"))\n",
    "GramSchmidt(Matrix([[2, 0, -1, 1]]).nullspace(), True)"
   ]
  },
  {
   "cell_type": "markdown",
   "metadata": {},
   "source": [
    "## Assignment 5"
   ]
  },
  {
   "cell_type": "code",
   "execution_count": 2,
   "metadata": {},
   "outputs": [
    {
     "data": {
      "image/png": "[encoded data removed]",
      "text/latex": [
       "$$\\left [ \\left ( 0, \\quad 1, \\quad \\left [ \\left[\\begin{matrix}1\\\\1\\\\1\\end{matrix}\\right]\\right ]\\right ), \\quad \\left ( 1, \\quad 2, \\quad \\left [ \\left[\\begin{matrix}\\frac{1}{2}\\\\1\\\\0\\end{matrix}\\right], \\quad \\left[\\begin{matrix}1\\\\0\\\\1\\end{matrix}\\right]\\right ]\\right )\\right ]$$"
      ],
      "text/plain": [
       "⎡⎛      ⎡⎡1⎤⎤⎞  ⎛      ⎡⎡1/2⎤  ⎡1⎤⎤⎞⎤\n",
       "⎢⎜      ⎢⎢ ⎥⎥⎟  ⎜      ⎢⎢   ⎥  ⎢ ⎥⎥⎟⎥\n",
       "⎢⎜0, 1, ⎢⎢1⎥⎥⎟, ⎜1, 2, ⎢⎢ 1 ⎥, ⎢0⎥⎥⎟⎥\n",
       "⎢⎜      ⎢⎢ ⎥⎥⎟  ⎜      ⎢⎢   ⎥  ⎢ ⎥⎥⎟⎥\n",
       "⎣⎝      ⎣⎣1⎦⎦⎠  ⎝      ⎣⎣ 0 ⎦  ⎣1⎦⎦⎠⎦"
      ]
     },
     "metadata": {},
     "output_type": "display_data"
    },
    {
     "data": {
      "text/latex": [
       "Since A has n linearly independent eigenvectors, A is diagnonalizable"
      ],
      "text/plain": [
       "<IPython.core.display.Latex object>"
      ]
     },
     "metadata": {},
     "output_type": "display_data"
    }
   ],
   "source": [
    "A = Matrix([[3, -1, -2], [2, 0, -2], [2, -1, -1]])\n",
    "\n",
    "# a) We check whether A is diagonalizable\n",
    "\n",
    "vecs = A.eigenvects()\n",
    "display(vecs)\n",
    "display(Latex(\"Since A has n linearly independent eigenvectors, A is diagnonalizable\"))"
   ]
  },
  {
   "cell_type": "code",
   "execution_count": 74,
   "metadata": {},
   "outputs": [
    {
     "data": {
      "text/latex": [
       "$\\displaystyle XDX^{-1} =$"
      ],
      "text/plain": [
       "<IPython.core.display.Math object>"
      ]
     },
     "metadata": {},
     "output_type": "display_data"
    },
    {
     "data": {
      "image/png": "[encoded data removed]",
      "text/latex": [
       "$$\\left[\\begin{matrix}3 & -1 & -2\\\\2 & 0 & -2\\\\2 & -1 & -1\\end{matrix}\\right]$$"
      ],
      "text/plain": [
       "⎡3  -1  -2⎤\n",
       "⎢         ⎥\n",
       "⎢2  0   -2⎥\n",
       "⎢         ⎥\n",
       "⎣2  -1  -1⎦"
      ]
     },
     "metadata": {},
     "output_type": "display_data"
    },
    {
     "data": {
      "text/latex": [
       "$\\displaystyle X^{-1}AX =D:$"
      ],
      "text/plain": [
       "<IPython.core.display.Math object>"
      ]
     },
     "metadata": {},
     "output_type": "display_data"
    },
    {
     "data": {
      "text/latex": [
       "$$\\left[\\begin{matrix}2 & 0 & -2\\\\2 & -1 & -1\\\\-2 & 1 & 2\\end{matrix}\\right]\\left[\\begin{matrix}3 & -1 & -2\\\\2 & 0 & -2\\\\2 & -1 & -1\\end{matrix}\\right]\\left[\\begin{matrix}\\frac{1}{2} & 1 & 1\\\\1 & 0 & 1\\\\0 & 1 & 1\\end{matrix}\\right] = \\left[\\begin{matrix}1 & 0 & 0\\\\0 & 1 & 0\\\\0 & 0 & 0\\end{matrix}\\right]$$"
      ],
      "text/plain": [
       "<IPython.core.display.Latex object>"
      ]
     },
     "metadata": {},
     "output_type": "display_data"
    }
   ],
   "source": [
    "# b)\n",
    "\n",
    "d1 = vecs[1][0]\n",
    "d2 = vecs[1][0]\n",
    "d3 = vecs[0][0]\n",
    "x1 = vecs[1][2][0]\n",
    "x2 = vecs[1][2][1]\n",
    "x3 = vecs[0][2][0]\n",
    "X = x1.row_join(x2).row_join(x3)\n",
    "D = diag(d1, d2, d3)\n",
    "Xinv = X**-1\n",
    "display(Math('XDX^{-1} ='))\n",
    "display(X*D*Xinv)\n",
    "display(Math('X^{-1}AX =D:'))\n",
    "display(Latex(\"$${}{}{} = {}$$\".format(latex(Xinv), latex(A), latex(X), latex(D))))"
   ]
  },
  {
   "cell_type": "code",
   "execution_count": 76,
   "metadata": {},
   "outputs": [
    {
     "data": {
      "text/latex": [
       "$\\displaystyle A^{k} = XD^{k}X^{-1}$"
      ],
      "text/plain": [
       "<IPython.core.display.Math object>"
      ]
     },
     "metadata": {},
     "output_type": "display_data"
    }
   ],
   "source": [
    "# c)\n",
    "display(Math('A^{k} = XD^{k}X^{-1}'))"
   ]
  },
  {
   "cell_type": "markdown",
   "metadata": {},
   "source": [
    "## Assignment 6"
   ]
  },
  {
   "cell_type": "code",
   "execution_count": 77,
   "metadata": {},
   "outputs": [
    {
     "data": {
      "text/html": [
       "<div>\n",
       "<style scoped>\n",
       "    .dataframe tbody tr th:only-of-type {\n",
       "        vertical-align: middle;\n",
       "    }\n",
       "\n",
       "    .dataframe tbody tr th {\n",
       "        vertical-align: top;\n",
       "    }\n",
       "\n",
       "    .dataframe thead th {\n",
       "        text-align: right;\n",
       "    }\n",
       "</style>\n",
       "<table border=\"1\" class=\"dataframe\">\n",
       "  <thead>\n",
       "    <tr style=\"text-align: right;\">\n",
       "      <th></th>\n",
       "      <th>State</th>\n",
       "      <th>Cigarettes sold</th>\n",
       "      <th>lung cancer</th>\n",
       "    </tr>\n",
       "  </thead>\n",
       "  <tbody>\n",
       "    <tr>\n",
       "      <th>0</th>\n",
       "      <td>AL</td>\n",
       "      <td>18.20</td>\n",
       "      <td>17.05</td>\n",
       "    </tr>\n",
       "    <tr>\n",
       "      <th>1</th>\n",
       "      <td>AZ</td>\n",
       "      <td>25.82</td>\n",
       "      <td>19.80</td>\n",
       "    </tr>\n",
       "    <tr>\n",
       "      <th>2</th>\n",
       "      <td>AR</td>\n",
       "      <td>18.24</td>\n",
       "      <td>15.98</td>\n",
       "    </tr>\n",
       "    <tr>\n",
       "      <th>3</th>\n",
       "      <td>CA</td>\n",
       "      <td>28.60</td>\n",
       "      <td>22.07</td>\n",
       "    </tr>\n",
       "    <tr>\n",
       "      <th>4</th>\n",
       "      <td>CT</td>\n",
       "      <td>31.10</td>\n",
       "      <td>22.83</td>\n",
       "    </tr>\n",
       "  </tbody>\n",
       "</table>\n",
       "</div>"
      ],
      "text/plain": [
       "  State  Cigarettes sold  lung cancer\n",
       "0    AL            18.20        17.05\n",
       "1    AZ            25.82        19.80\n",
       "2    AR            18.24        15.98\n",
       "3    CA            28.60        22.07\n",
       "4    CT            31.10        22.83"
      ]
     },
     "execution_count": 77,
     "metadata": {},
     "output_type": "execute_result"
    }
   ],
   "source": [
    "df = pd.read_excel('Smoking_and_Cancer.xlsx')\n",
    "df.head()"
   ]
  },
  {
   "cell_type": "code",
   "execution_count": 79,
   "metadata": {},
   "outputs": [],
   "source": [
    "x = df['Cigarettes sold']\n",
    "y = df['lung cancer']"
   ]
  },
  {
   "cell_type": "code",
   "execution_count": 81,
   "metadata": {},
   "outputs": [
    {
     "data": {
      "text/latex": [
       "$$f_1(x) = 6.47+0.5291x$$"
      ],
      "text/plain": [
       "<IPython.core.display.Latex object>"
      ]
     },
     "metadata": {},
     "output_type": "display_data"
    }
   ],
   "source": [
    "# a) Design Matrix for linear model\n",
    "\n",
    "X1 = Matrix([ones(len(x),1)]).row_join(Matrix(x))\n",
    "XtX = X1.T*X1\n",
    "Xty = X1.T*Matrix(y)\n",
    "Mat, _ = XtX.row_join(Xty).rref()\n",
    "B1 = Mat[:,-1]\n",
    "display(Latex(\"$$f_1(x) = {}+{}x$$\".format(round(B1[0],2), round(B1[1], 4))))"
   ]
  },
  {
   "cell_type": "code",
   "execution_count": 82,
   "metadata": {},
   "outputs": [
    {
     "data": {
      "text/latex": [
       "$$f_2(x) = 1.05x+-0.0098x^2$$"
      ],
      "text/plain": [
       "<IPython.core.display.Latex object>"
      ]
     },
     "metadata": {},
     "output_type": "display_data"
    }
   ],
   "source": [
    "# a) Design matrix for quadratic model\n",
    "\n",
    "X2 = Matrix(x).row_join(Matrix(x**2))\n",
    "XtX = X2.T*X2\n",
    "Xty = X2.T*Matrix(y)\n",
    "Mat, _ = XtX.row_join(Xty).rref()\n",
    "B2 = Mat[:,-1]\n",
    "display(Latex(\"$$f_2(x) = {}x+{}x^2$$\"\n",
    "              .format(round(B2[0],2), round(B2[1], 4))))"
   ]
  },
  {
   "cell_type": "code",
   "execution_count": 83,
   "metadata": {},
   "outputs": [
    {
     "data": {
      "text/latex": [
       "The error of the linear model is 19.87, and the error of the quadratic is model 19.19. We conclude that the quadratic model has the best fit for this specific data."
      ],
      "text/plain": [
       "<IPython.core.display.Latex object>"
      ]
     },
     "metadata": {},
     "output_type": "display_data"
    }
   ],
   "source": [
    "# b)\n",
    "\n",
    "display(Latex(\n",
    "    \"The error of the linear model is {}, and the error of the quadratic is model {}.\"\n",
    "    \" We conclude that the quadratic model has the best fit for this specific data.\"\n",
    "    .format(round((Matrix(y)-X1*B1).norm(), 2), round((Matrix(y)-X2*B2).norm(), 2))))"
   ]
  },
  {
   "cell_type": "code",
   "execution_count": 87,
   "metadata": {},
   "outputs": [
    {
     "data": {
      "text/latex": [
       "$\\displaystyle f_2(50) = 27.84$"
      ],
      "text/plain": [
       "<IPython.core.display.Math object>"
      ]
     },
     "metadata": {},
     "output_type": "display_data"
    }
   ],
   "source": [
    "# c)\n",
    "display(Math('f_2(50) = ' + repr(round(B2[0]*50+B2[1]*50**2, 2))))"
   ]
  },
  {
   "cell_type": "markdown",
   "metadata": {},
   "source": [
    "## Assignment 7"
   ]
  },
  {
   "cell_type": "code",
   "execution_count": 64,
   "metadata": {},
   "outputs": [
    {
     "data": {
      "image/png": "[encoded data removed]",
      "text/latex": [
       "$$\\left [ \\left ( 0, \\quad 1, \\quad \\left [ \\left[\\begin{matrix}\\frac{1}{2}\\\\-1\\\\1\\end{matrix}\\right]\\right ]\\right ), \\quad \\left ( 36, \\quad 1, \\quad \\left [ \\left[\\begin{matrix}-1\\\\\\frac{1}{2}\\\\1\\end{matrix}\\right]\\right ]\\right ), \\quad \\left ( 144, \\quad 1, \\quad \\left [ \\left[\\begin{matrix}2\\\\2\\\\1\\end{matrix}\\right]\\right ]\\right )\\right ]$$"
      ],
      "text/plain": [
       "⎡⎛      ⎡⎡1/2⎤⎤⎞  ⎛       ⎡⎡-1 ⎤⎤⎞  ⎛        ⎡⎡2⎤⎤⎞⎤\n",
       "⎢⎜      ⎢⎢   ⎥⎥⎟  ⎜       ⎢⎢   ⎥⎥⎟  ⎜        ⎢⎢ ⎥⎥⎟⎥\n",
       "⎢⎜0, 1, ⎢⎢-1 ⎥⎥⎟, ⎜36, 1, ⎢⎢1/2⎥⎥⎟, ⎜144, 1, ⎢⎢2⎥⎥⎟⎥\n",
       "⎢⎜      ⎢⎢   ⎥⎥⎟  ⎜       ⎢⎢   ⎥⎥⎟  ⎜        ⎢⎢ ⎥⎥⎟⎥\n",
       "⎣⎝      ⎣⎣ 1 ⎦⎦⎠  ⎝       ⎣⎣ 1 ⎦⎦⎠  ⎝        ⎣⎣1⎦⎦⎠⎦"
      ]
     },
     "execution_count": 64,
     "metadata": {},
     "output_type": "execute_result"
    }
   ],
   "source": [
    "A = Matrix([[2, 5, 4], [6, 3, 0], [6, 3, 0],[2, 5, 4]])\n",
    "AtA = A.T*A\n",
    "vecs = AtA.eigenvects()\n",
    "vecs"
   ]
  },
  {
   "cell_type": "code",
   "execution_count": 114,
   "metadata": {
    "scrolled": false
   },
   "outputs": [
    {
     "data": {
      "text/latex": [
       "$\\displaystyle u_3 \\cdot u_4 =0$"
      ],
      "text/plain": [
       "<IPython.core.display.Math object>"
      ]
     },
     "metadata": {},
     "output_type": "display_data"
    },
    {
     "data": {
      "text/latex": [
       "$\\displaystyle U \\Sigma V^T = \\left[\\begin{matrix}\\frac{1}{2} & \\frac{1}{2} & 0 & - \\frac{\\sqrt{2}}{2}\\\\\\frac{1}{2} & - \\frac{1}{2} & - \\frac{\\sqrt{2}}{2} & 0\\\\\\frac{1}{2} & - \\frac{1}{2} & \\frac{\\sqrt{2}}{2} & 0\\\\\\frac{1}{2} & \\frac{1}{2} & 0 & \\frac{\\sqrt{2}}{2}\\end{matrix}\\right]\\left[\\begin{matrix}12 & 0 & 0\\\\0 & 6 & 0\\\\0 & 0 & 0\\\\0 & 0 & 0\\end{matrix}\\right]\\left[\\begin{matrix}\\frac{2}{3} & \\frac{2}{3} & \\frac{1}{3}\\\\- \\frac{2}{3} & \\frac{1}{3} & \\frac{2}{3}\\\\\\frac{1}{3} & - \\frac{2}{3} & \\frac{2}{3}\\end{matrix}\\right]$"
      ],
      "text/plain": [
       "<IPython.core.display.Math object>"
      ]
     },
     "metadata": {},
     "output_type": "display_data"
    },
    {
     "data": {
      "text/latex": [
       "Test:"
      ],
      "text/plain": [
       "<IPython.core.display.Latex object>"
      ]
     },
     "metadata": {},
     "output_type": "display_data"
    },
    {
     "data": {
      "image/png": "[encoded data removed]",
      "text/latex": [
       "$$\\left[\\begin{matrix}2 & 5 & 4\\\\6 & 3 & 0\\\\6 & 3 & 0\\\\2 & 5 & 4\\end{matrix}\\right]$$"
      ],
      "text/plain": [
       "⎡2  5  4⎤\n",
       "⎢       ⎥\n",
       "⎢6  3  0⎥\n",
       "⎢       ⎥\n",
       "⎢6  3  0⎥\n",
       "⎢       ⎥\n",
       "⎣2  5  4⎦"
      ]
     },
     "metadata": {},
     "output_type": "display_data"
    },
    {
     "data": {
      "image/png": "[encoded data removed]",
      "text/latex": [
       "$$\\left[\\begin{matrix}2 & 5 & 4\\\\6 & 3 & 0\\\\6 & 3 & 0\\\\2 & 5 & 4\\end{matrix}\\right]$$"
      ],
      "text/plain": [
       "⎡2  5  4⎤\n",
       "⎢       ⎥\n",
       "⎢6  3  0⎥\n",
       "⎢       ⎥\n",
       "⎢6  3  0⎥\n",
       "⎢       ⎥\n",
       "⎣2  5  4⎦"
      ]
     },
     "metadata": {},
     "output_type": "display_data"
    }
   ],
   "source": [
    "VL"
   ]
  },
  {
   "cell_type": "code",
   "execution_count": 24,
   "metadata": {},
   "outputs": [
    {
     "data": {
      "image/png": "[encoded data removed]",
      "text/latex": [
       "$$\\left ( \\left[\\begin{matrix}1 & 0 & 0 & 0\\\\0 & 1 & 0 & -1\\\\0 & 0 & 1 & 0\\end{matrix}\\right], \\quad \\left ( 0, \\quad 1, \\quad 2\\right )\\right )$$"
      ],
      "text/plain": [
       "⎛⎡1  0  0  0 ⎤           ⎞\n",
       "⎜⎢           ⎥           ⎟\n",
       "⎜⎢0  1  0  -1⎥, (0, 1, 2)⎟\n",
       "⎜⎢           ⎥           ⎟\n",
       "⎝⎣0  0  1  0 ⎦           ⎠"
      ]
     },
     "execution_count": 24,
     "metadata": {},
     "output_type": "execute_result"
    }
   ],
   "source": [
    "A = Matrix([[0, -1, 0], [0, 1, -2], [0, 0, 2]])\n",
    "A.charpoly()\n",
    "B = A.eigenvects()[0][2][0].row_join(A.eigenvects()[1][2][0]).row_join(A.eigenvects()[2][2][0]).row_join(Matrix([1, -1, 0]))\n",
    "B.rref()"
   ]
  },
  {
   "cell_type": "code",
   "execution_count": 22,
   "metadata": {},
   "outputs": [
    {
     "data": {
      "image/png": "[encoded data removed]",
      "text/latex": [
       "$$\\left ( \\left[\\begin{matrix}1 & 0 & -1\\\\0 & 1 & 2\\\\0 & 0 & 0\\end{matrix}\\right], \\quad \\left ( 0, \\quad 1\\right )\\right )$$"
      ],
      "text/plain": [
       "⎛⎡1  0  -1⎤        ⎞\n",
       "⎜⎢        ⎥        ⎟\n",
       "⎜⎢0  1  2 ⎥, (0, 1)⎟\n",
       "⎜⎢        ⎥        ⎟\n",
       "⎝⎣0  0  0 ⎦        ⎠"
      ]
     },
     "execution_count": 22,
     "metadata": {},
     "output_type": "execute_result"
    }
   ],
   "source": [
    "(A-2*eye(3)).rref()"
   ]
  },
  {
   "cell_type": "code",
   "execution_count": 19,
   "metadata": {},
   "outputs": [
    {
     "data": {
      "image/png": "[encoded data removed]",
      "text/latex": [
       "$$\\left[\\begin{matrix}a d - b c & 0\\\\0 & a d - b c\\end{matrix}\\right]$$"
      ],
      "text/plain": [
       "⎡a⋅d - b⋅c      0    ⎤\n",
       "⎢                    ⎥\n",
       "⎣    0      a⋅d - b⋅c⎦"
      ]
     },
     "execution_count": 19,
     "metadata": {},
     "output_type": "execute_result"
    }
   ],
   "source": [
    "det(A)*eye(2)"
   ]
  },
  {
   "cell_type": "code",
   "execution_count": 27,
   "metadata": {},
   "outputs": [
    {
     "data": {
      "image/png": "[encoded data removed]",
      "text/latex": [
       "$$\\left[\\begin{matrix}- a d + b c & 0\\\\0 & - a d + b c\\end{matrix}\\right]$$"
      ],
      "text/plain": [
       "⎡-a⋅d + b⋅c      0     ⎤\n",
       "⎢                      ⎥\n",
       "⎣    0       -a⋅d + b⋅c⎦"
      ]
     },
     "execution_count": 27,
     "metadata": {},
     "output_type": "execute_result"
    }
   ],
   "source": [
    "simplify(A*A-(a+d)*A)"
   ]
  },
  {
   "cell_type": "code",
   "execution_count": 24,
   "metadata": {},
   "outputs": [
    {
     "data": {
      "image/png": "[encoded data removed]",
      "text/latex": [
       "$$\\left[\\begin{matrix}a \\left(a + d\\right) & b \\left(a + d\\right)\\\\c \\left(a + d\\right) & d \\left(a + d\\right)\\end{matrix}\\right]$$"
      ],
      "text/plain": [
       "⎡a⋅(a + d)  b⋅(a + d)⎤\n",
       "⎢                    ⎥\n",
       "⎣c⋅(a + d)  d⋅(a + d)⎦"
      ]
     },
     "execution_count": 24,
     "metadata": {},
     "output_type": "execute_result"
    }
   ],
   "source": [
    "(a+d)*A"
   ]
  },
  {
   "cell_type": "code",
   "execution_count": 4,
   "metadata": {},
   "outputs": [],
   "source": [
    "A = Matrix([[4, 1, 2],[8, 0, 3]])\n",
    "x = Matrix([2,1,4])"
   ]
  },
  {
   "cell_type": "code",
   "execution_count": 18,
   "metadata": {},
   "outputs": [
    {
     "data": {
      "image/png": "[encoded data removed]",
      "text/latex": [
       "$$\\left[\\begin{matrix}3 & -2 & 4 & 3\\\\-2 & 7 & 5 & 1\\\\5 & 4 & -3 & 2\\end{matrix}\\right]$$"
      ],
      "text/plain": [
       "⎡3   -2  4   3⎤\n",
       "⎢             ⎥\n",
       "⎢-2  7   5   1⎥\n",
       "⎢             ⎥\n",
       "⎣5   4   -3  2⎦"
      ]
     },
     "execution_count": 18,
     "metadata": {},
     "output_type": "execute_result"
    }
   ],
   "source": [
    "A = Matrix([[3, -2, 4, 3], [-2, 7, 5, 1], [5, 4, -3, 2]])\n",
    "A\n",
    "#A.rref()"
   ]
  },
  {
   "cell_type": "code",
   "execution_count": 19,
   "metadata": {},
   "outputs": [
    {
     "data": {
      "image/png": "[encoded data removed]",
      "text/latex": [
       "$$\\left[\\begin{matrix}3 & -2 & 4 & 3\\\\0 & 5.66666666666667 & 7.66666666666667 & 3.0\\\\5 & 4 & -3 & 2\\end{matrix}\\right]$$"
      ],
      "text/plain": [
       "⎡3         -2                4           3 ⎤\n",
       "⎢                                          ⎥\n",
       "⎢0  5.66666666666667  7.66666666666667  3.0⎥\n",
       "⎢                                          ⎥\n",
       "⎣5         4                 -3          2 ⎦"
      ]
     },
     "execution_count": 19,
     "metadata": {},
     "output_type": "execute_result"
    }
   ],
   "source": [
    "A[1,:] = A[1,:] + 2/3*A[0,:]\n",
    "A"
   ]
  },
  {
   "cell_type": "code",
   "execution_count": 20,
   "metadata": {},
   "outputs": [
    {
     "data": {
      "image/png": "[encoded data removed]",
      "text/latex": [
       "$$\\left[\\begin{matrix}3 & -2 & 4 & 3\\\\0 & 5.66666666666667 & 7.66666666666667 & 3.0\\\\0 & 7.33333333333333 & -9.66666666666667 & -3.0\\end{matrix}\\right]$$"
      ],
      "text/plain": [
       "⎡3         -2                 4           3  ⎤\n",
       "⎢                                            ⎥\n",
       "⎢0  5.66666666666667  7.66666666666667   3.0 ⎥\n",
       "⎢                                            ⎥\n",
       "⎣0  7.33333333333333  -9.66666666666667  -3.0⎦"
      ]
     },
     "execution_count": 20,
     "metadata": {},
     "output_type": "execute_result"
    }
   ],
   "source": [
    "A[2,:] = A[2,:] - 5/3*A[0,:]\n",
    "A"
   ]
  },
  {
   "cell_type": "code",
   "execution_count": 12,
   "metadata": {},
   "outputs": [
    {
     "data": {
      "image/png": "[encoded data removed]",
      "text/latex": [
       "$$\\left[\\begin{matrix}-6 & 4 & -8 & -6\\\\0 & 17 & 23 & 9\\\\5 & 4 & -3 & 2\\end{matrix}\\right]$$"
      ],
      "text/plain": [
       "⎡-6  4   -8  -6⎤\n",
       "⎢              ⎥\n",
       "⎢0   17  23  9 ⎥\n",
       "⎢              ⎥\n",
       "⎣5   4   -3  2 ⎦"
      ]
     },
     "execution_count": 12,
     "metadata": {},
     "output_type": "execute_result"
    }
   ],
   "source": [
    "A[1,:] = A[1,:] - A[0,:]\n",
    "A"
   ]
  },
  {
   "cell_type": "code",
   "execution_count": 13,
   "metadata": {},
   "outputs": [
    {
     "data": {
      "image/png": "[encoded data removed]",
      "text/latex": [
       "$$\\left[\\begin{matrix}-30 & 20 & -40 & -30\\\\0 & 17 & 23 & 9\\\\5 & 4 & -3 & 2\\end{matrix}\\right]$$"
      ],
      "text/plain": [
       "⎡-30  20  -40  -30⎤\n",
       "⎢                 ⎥\n",
       "⎢ 0   17  23    9 ⎥\n",
       "⎢                 ⎥\n",
       "⎣ 5   4   -3    2 ⎦"
      ]
     },
     "execution_count": 13,
     "metadata": {},
     "output_type": "execute_result"
    }
   ],
   "source": [
    "A[0,:] = 5*A[0,:]\n",
    "A"
   ]
  },
  {
   "cell_type": "code",
   "execution_count": 14,
   "metadata": {},
   "outputs": [
    {
     "data": {
      "image/png": "[encoded data removed]",
      "text/latex": [
       "$$\\left[\\begin{matrix}-30 & 20 & -40 & -30\\\\0 & 17 & 23 & 9\\\\30 & 24 & -18 & 12\\end{matrix}\\right]$$"
      ],
      "text/plain": [
       "⎡-30  20  -40  -30⎤\n",
       "⎢                 ⎥\n",
       "⎢ 0   17  23    9 ⎥\n",
       "⎢                 ⎥\n",
       "⎣30   24  -18  12 ⎦"
      ]
     },
     "execution_count": 14,
     "metadata": {},
     "output_type": "execute_result"
    }
   ],
   "source": [
    "A[2,:] = 6*A[2,:]\n",
    "A"
   ]
  },
  {
   "cell_type": "code",
   "execution_count": 15,
   "metadata": {},
   "outputs": [
    {
     "data": {
      "image/png": "[encoded data removed]",
      "text/latex": [
       "$$\\left[\\begin{matrix}-30 & 20 & -40 & -30\\\\0 & 17 & 23 & 9\\\\0 & 44 & -58 & -18\\end{matrix}\\right]$$"
      ],
      "text/plain": [
       "⎡-30  20  -40  -30⎤\n",
       "⎢                 ⎥\n",
       "⎢ 0   17  23    9 ⎥\n",
       "⎢                 ⎥\n",
       "⎣ 0   44  -58  -18⎦"
      ]
     },
     "execution_count": 15,
     "metadata": {},
     "output_type": "execute_result"
    }
   ],
   "source": [
    "A[2,:] = A[0,:] + A[2,:]\n",
    "A"
   ]
  },
  {
   "cell_type": "code",
   "execution_count": 16,
   "metadata": {},
   "outputs": [
    {
     "data": {
      "image/png": "[encoded data removed]",
      "text/latex": [
       "$$\\left[\\begin{matrix}-3.0 & 2.0 & -4.0 & -3.0\\\\0 & 17 & 23 & 9\\\\0 & 44 & -58 & -18\\end{matrix}\\right]$$"
      ],
      "text/plain": [
       "⎡-3.0  2.0  -4.0  -3.0⎤\n",
       "⎢                     ⎥\n",
       "⎢ 0    17    23    9  ⎥\n",
       "⎢                     ⎥\n",
       "⎣ 0    44   -58   -18 ⎦"
      ]
     },
     "execution_count": 16,
     "metadata": {},
     "output_type": "execute_result"
    }
   ],
   "source": [
    "A[0,:] = 1/10*A[0,:]\n",
    "A"
   ]
  },
  {
   "cell_type": "code",
   "execution_count": 17,
   "metadata": {},
   "outputs": [
    {
     "data": {
      "image/png": "[encoded data removed]",
      "text/latex": [
       "$$\\left[\\begin{matrix}-3.0 & 2.0 & -4.0 & -3.0\\\\0 & 17 & 23 & 9\\\\0 & 22.0 & -29.0 & -9.0\\end{matrix}\\right]$$"
      ],
      "text/plain": [
       "⎡-3.0  2.0   -4.0   -3.0⎤\n",
       "⎢                       ⎥\n",
       "⎢ 0     17    23     9  ⎥\n",
       "⎢                       ⎥\n",
       "⎣ 0    22.0  -29.0  -9.0⎦"
      ]
     },
     "execution_count": 17,
     "metadata": {},
     "output_type": "execute_result"
    }
   ],
   "source": [
    "A[2,:] = 1/2*A[2,:]\n",
    "A"
   ]
  },
  {
   "cell_type": "code",
   "execution_count": 26,
   "metadata": {},
   "outputs": [
    {
     "data": {
      "image/png": "[encoded data removed]",
      "text/latex": [
       "$$\\left[\\begin{matrix}4 & -5 & 7\\\\-1 & 3 & -8\\\\7 & -5 & 0\\\\-4 & 1 & 2\\end{matrix}\\right]$$"
      ],
      "text/plain": [
       "⎡4   -5  7 ⎤\n",
       "⎢          ⎥\n",
       "⎢-1  3   -8⎥\n",
       "⎢          ⎥\n",
       "⎢7   -5  0 ⎥\n",
       "⎢          ⎥\n",
       "⎣-4  1   2 ⎦"
      ]
     },
     "execution_count": 26,
     "metadata": {},
     "output_type": "execute_result"
    }
   ],
   "source": [
    "A = Matrix([[4, -5, 7], [-1, 3, -8], [7, -5, 0], [-4, 1, 2]])\n",
    "A"
   ]
  },
  {
   "cell_type": "code",
   "execution_count": 27,
   "metadata": {},
   "outputs": [
    {
     "data": {
      "image/png": "[encoded data removed]",
      "text/latex": [
       "$$\\left ( \\left[\\begin{matrix}1 & 0 & 0\\\\0 & 1 & 0\\\\0 & 0 & 1\\\\0 & 0 & 0\\end{matrix}\\right], \\quad \\left ( 0, \\quad 1, \\quad 2\\right )\\right )$$"
      ],
      "text/plain": [
       "⎛⎡1  0  0⎤           ⎞\n",
       "⎜⎢       ⎥           ⎟\n",
       "⎜⎢0  1  0⎥           ⎟\n",
       "⎜⎢       ⎥, (0, 1, 2)⎟\n",
       "⎜⎢0  0  1⎥           ⎟\n",
       "⎜⎢       ⎥           ⎟\n",
       "⎝⎣0  0  0⎦           ⎠"
      ]
     },
     "execution_count": 27,
     "metadata": {},
     "output_type": "execute_result"
    }
   ],
   "source": [
    "A.rref()"
   ]
  },
  {
   "cell_type": "code",
   "execution_count": 5,
   "metadata": {},
   "outputs": [
    {
     "data": {
      "image/png": "[encoded data removed]",
      "text/latex": [
       "$$\\left[\\begin{matrix}-1 & -1 & 0 & -2\\\\1 & 4 & 0 & -4\\\\2 & 0 & 1 & 8\\end{matrix}\\right]$$"
      ],
      "text/plain": [
       "⎡-1  -1  0  -2⎤\n",
       "⎢             ⎥\n",
       "⎢1   4   0  -4⎥\n",
       "⎢             ⎥\n",
       "⎣2   0   1  8 ⎦"
      ]
     },
     "execution_count": 5,
     "metadata": {},
     "output_type": "execute_result"
    }
   ],
   "source": [
    "A = Matrix([[-1, -1, 0, -2], [1, 4, 0, -4], [2, 0, 1, 8]])\n",
    "A(2,:) = A(1,:)"
   ]
  },
  {
   "cell_type": "code",
   "execution_count": 32,
   "metadata": {},
   "outputs": [
    {
     "data": {
      "image/png": "[encoded data removed]",
      "text/latex": [
       "$$\\left ( \\left[\\begin{matrix}1 & 0 & - \\frac{2}{3} & 1\\\\0 & 1 & - \\frac{5}{3} & 0\\\\0 & 0 & 0 & 0\\end{matrix}\\right], \\quad \\left ( 0, \\quad 1\\right )\\right )$$"
      ],
      "text/plain": [
       "⎛⎡1  0  -2/3  1⎤        ⎞\n",
       "⎜⎢             ⎥        ⎟\n",
       "⎜⎢0  1  -5/3  0⎥, (0, 1)⎟\n",
       "⎜⎢             ⎥        ⎟\n",
       "⎝⎣0  0   0    0⎦        ⎠"
      ]
     },
     "execution_count": 32,
     "metadata": {},
     "output_type": "execute_result"
    }
   ],
   "source": [
    "A.rref()"
   ]
  },
  {
   "cell_type": "code",
   "execution_count": 5,
   "metadata": {},
   "outputs": [
    {
     "data": {
      "image/png": "[encoded data removed]",
      "text/latex": [
       "$$\\left [ \\left ( 3, \\quad 1, \\quad \\left [ \\left[\\begin{matrix}1\\\\0\\end{matrix}\\right]\\right ]\\right ), \\quad \\left ( 4, \\quad 1, \\quad \\left [ \\left[\\begin{matrix}-2\\\\1\\end{matrix}\\right]\\right ]\\right )\\right ]$$"
      ],
      "text/plain": [
       "⎡⎛      ⎡⎡1⎤⎤⎞  ⎛      ⎡⎡-2⎤⎤⎞⎤\n",
       "⎢⎜3, 1, ⎢⎢ ⎥⎥⎟, ⎜4, 1, ⎢⎢  ⎥⎥⎟⎥\n",
       "⎣⎝      ⎣⎣0⎦⎦⎠  ⎝      ⎣⎣1 ⎦⎦⎠⎦"
      ]
     },
     "execution_count": 5,
     "metadata": {},
     "output_type": "execute_result"
    }
   ],
   "source": [
    "A = Matrix([[3, -2], [0, 4]])\n",
    "A.eigenvects()"
   ]
  },
  {
   "cell_type": "code",
   "execution_count": 7,
   "metadata": {},
   "outputs": [
    {
     "data": {
      "image/png": "[encoded data removed]",
      "text/latex": [
       "$$\\left[\\begin{matrix}3 & 12 & 21 & 16\\\\5 & 7 & 9 & 18\\end{matrix}\\right]$$"
      ],
      "text/plain": [
       "⎡3  12  21  16⎤\n",
       "⎢             ⎥\n",
       "⎣5  7   9   18⎦"
      ]
     },
     "execution_count": 7,
     "metadata": {},
     "output_type": "execute_result"
    }
   ],
   "source": [
    "A = Matrix([[2, 3], [-1, 5]])\n",
    "B = Matrix([[0, 3, 6, 2], [1, 2, 3, 4]])\n",
    "A*B"
   ]
  },
  {
   "cell_type": "code",
   "execution_count": 78,
   "metadata": {},
   "outputs": [
    {
     "data": {
      "image/png": "[encoded data removed]",
      "text/latex": [
       "$$\\left[\\begin{matrix}5 & 12\\\\2 & 10\\end{matrix}\\right]$$"
      ],
      "text/plain": [
       "⎡5  12⎤\n",
       "⎢     ⎥\n",
       "⎣2  10⎦"
      ]
     },
     "execution_count": 78,
     "metadata": {},
     "output_type": "execute_result"
    }
   ],
   "source": [
    "# Spørgsmål 40\n",
    "\n",
    "# 1)\n",
    "\n",
    "A = Matrix([[5, 12], [2, 10]])\n",
    "A"
   ]
  },
  {
   "cell_type": "code",
   "execution_count": 79,
   "metadata": {},
   "outputs": [
    {
     "data": {
      "image/png": "[encoded data removed]",
      "text/latex": [
       "$$\\left [ \\left ( 2, \\quad 1, \\quad \\left [ \\left[\\begin{matrix}-4\\\\1\\end{matrix}\\right]\\right ]\\right ), \\quad \\left ( 13, \\quad 1, \\quad \\left [ \\left[\\begin{matrix}\\frac{3}{2}\\\\1\\end{matrix}\\right]\\right ]\\right )\\right ]$$"
      ],
      "text/plain": [
       "⎡⎛      ⎡⎡-4⎤⎤⎞  ⎛       ⎡⎡3/2⎤⎤⎞⎤\n",
       "⎢⎜2, 1, ⎢⎢  ⎥⎥⎟, ⎜13, 1, ⎢⎢   ⎥⎥⎟⎥\n",
       "⎣⎝      ⎣⎣1 ⎦⎦⎠  ⎝       ⎣⎣ 1 ⎦⎦⎠⎦"
      ]
     },
     "execution_count": 79,
     "metadata": {},
     "output_type": "execute_result"
    }
   ],
   "source": [
    "# 2)\n",
    "#u1 = Matrix([1,2])\n",
    "A.eigenvects()\n",
    "#A*u1"
   ]
  },
  {
   "cell_type": "code",
   "execution_count": 20,
   "metadata": {},
   "outputs": [
    {
     "data": {
      "image/png": "[encoded data removed]",
      "text/latex": [
       "$$\\left [ \\left ( -2, \\quad 1, \\quad \\left [ \\left[\\begin{matrix}\\frac{2}{3}\\\\1\\end{matrix}\\right]\\right ]\\right ), \\quad \\left ( 3, \\quad 1, \\quad \\left [ \\left[\\begin{matrix}\\frac{1}{2}\\\\1\\end{matrix}\\right]\\right ]\\right )\\right ]$$"
      ],
      "text/plain": [
       "⎡⎛       ⎡⎡2/3⎤⎤⎞  ⎛      ⎡⎡1/2⎤⎤⎞⎤\n",
       "⎢⎜-2, 1, ⎢⎢   ⎥⎥⎟, ⎜3, 1, ⎢⎢   ⎥⎥⎟⎥\n",
       "⎣⎝       ⎣⎣ 1 ⎦⎦⎠  ⎝      ⎣⎣ 1 ⎦⎦⎠⎦"
      ]
     },
     "execution_count": 20,
     "metadata": {},
     "output_type": "execute_result"
    }
   ],
   "source": [
    "# 3)\n",
    "A.eigenvects()"
   ]
  },
  {
   "cell_type": "code",
   "execution_count": 21,
   "metadata": {},
   "outputs": [],
   "source": [
    "#4 se bogen s. 130"
   ]
  },
  {
   "cell_type": "code",
   "execution_count": 81,
   "metadata": {},
   "outputs": [
    {
     "data": {
      "image/png": "[encoded data removed]",
      "text/latex": [
       "$$\\left ( \\left[\\begin{matrix}1 & 0 & 2\\\\0 & 1 & 1\\end{matrix}\\right], \\quad \\left ( 0, \\quad 1\\right )\\right )$$"
      ],
      "text/plain": [
       "⎛⎡1  0  2⎤        ⎞\n",
       "⎜⎢       ⎥, (0, 1)⎟\n",
       "⎝⎣0  1  1⎦        ⎠"
      ]
     },
     "execution_count": 81,
     "metadata": {},
     "output_type": "execute_result"
    }
   ],
   "source": [
    "# 5 + 6\n",
    "u2 = Matrix([2,3])\n",
    "Matrix([[4,3,11], [-1,2,0]]).rref()"
   ]
  },
  {
   "cell_type": "code",
   "execution_count": 83,
   "metadata": {},
   "outputs": [
    {
     "data": {
      "image/png": "[encoded data removed]",
      "text/latex": [
       "$$\\left[\\begin{matrix}\\frac{2}{7} & \\frac{2}{7} & - \\frac{3}{7}\\\\- \\frac{1}{7} & - \\frac{1}{7} & \\frac{5}{7}\\\\- \\frac{3}{7} & \\frac{4}{7} & \\frac{1}{7}\\end{matrix}\\right]$$"
      ],
      "text/plain": [
       "⎡2/7   2/7   -3/7⎤\n",
       "⎢                ⎥\n",
       "⎢-1/7  -1/7  5/7 ⎥\n",
       "⎢                ⎥\n",
       "⎣-3/7  4/7   1/7 ⎦"
      ]
     },
     "execution_count": 83,
     "metadata": {},
     "output_type": "execute_result"
    }
   ],
   "source": [
    "# Opgave 78\n",
    "A = Matrix([[3, 2, -1], [2, 1, 1], [1,2,0]])\n",
    "Ainv = A**(-1)\n",
    "Ainv"
   ]
  },
  {
   "cell_type": "code",
   "execution_count": 85,
   "metadata": {},
   "outputs": [
    {
     "data": {
      "image/png": "[encoded data removed]",
      "text/latex": [
       "$$-7$$"
      ],
      "text/plain": [
       "-7"
      ]
     },
     "execution_count": 85,
     "metadata": {},
     "output_type": "execute_result"
    }
   ],
   "source": [
    "A.det()"
   ]
  },
  {
   "cell_type": "code",
   "execution_count": 66,
   "metadata": {},
   "outputs": [
    {
     "data": {
      "image/png": "[encoded data removed]",
      "text/latex": [
       "$$\\left[\\begin{matrix}0 & 0 & 0\\\\0 & 3 & 0\\\\0 & 0 & 4\\end{matrix}\\right]$$"
      ],
      "text/plain": [
       "⎡0  0  0⎤\n",
       "⎢       ⎥\n",
       "⎢0  3  0⎥\n",
       "⎢       ⎥\n",
       "⎣0  0  4⎦"
      ]
     },
     "execution_count": 66,
     "metadata": {},
     "output_type": "execute_result"
    }
   ],
   "source": [
    "D = Matrix([[0,0,0], [0, 3, 0], [0, 0, 4]])\n",
    "D"
   ]
  },
  {
   "cell_type": "code",
   "execution_count": 70,
   "metadata": {},
   "outputs": [],
   "source": [
    "E = (A*D*Ainv)"
   ]
  },
  {
   "cell_type": "code",
   "execution_count": 71,
   "metadata": {},
   "outputs": [
    {
     "data": {
      "image/png": "[encoded data removed]",
      "text/latex": [
       "$$\\left [ \\left ( 0, \\quad 1, \\quad \\left [ \\left[\\begin{matrix}3\\\\2\\\\1\\end{matrix}\\right]\\right ]\\right ), \\quad \\left ( 3, \\quad 1, \\quad \\left [ \\left[\\begin{matrix}1\\\\\\frac{1}{2}\\\\1\\end{matrix}\\right]\\right ]\\right ), \\quad \\left ( 4, \\quad 1, \\quad \\left [ \\left[\\begin{matrix}-1\\\\1\\\\0\\end{matrix}\\right]\\right ]\\right )\\right ]$$"
      ],
      "text/plain": [
       "⎡⎛      ⎡⎡3⎤⎤⎞  ⎛      ⎡⎡ 1 ⎤⎤⎞  ⎛      ⎡⎡-1⎤⎤⎞⎤\n",
       "⎢⎜      ⎢⎢ ⎥⎥⎟  ⎜      ⎢⎢   ⎥⎥⎟  ⎜      ⎢⎢  ⎥⎥⎟⎥\n",
       "⎢⎜0, 1, ⎢⎢2⎥⎥⎟, ⎜3, 1, ⎢⎢1/2⎥⎥⎟, ⎜4, 1, ⎢⎢1 ⎥⎥⎟⎥\n",
       "⎢⎜      ⎢⎢ ⎥⎥⎟  ⎜      ⎢⎢   ⎥⎥⎟  ⎜      ⎢⎢  ⎥⎥⎟⎥\n",
       "⎣⎝      ⎣⎣1⎦⎦⎠  ⎝      ⎣⎣ 1 ⎦⎦⎠  ⎝      ⎣⎣0 ⎦⎦⎠⎦"
      ]
     },
     "execution_count": 71,
     "metadata": {},
     "output_type": "execute_result"
    }
   ],
   "source": [
    "E.eigenvects()"
   ]
  },
  {
   "cell_type": "code",
   "execution_count": 74,
   "metadata": {},
   "outputs": [
    {
     "data": {
      "image/png": "[encoded data removed]",
      "text/latex": [
       "$$\\left [ \\left[\\begin{matrix}3\\\\2\\\\1\\end{matrix}\\right]\\right ]$$"
      ],
      "text/plain": [
       "⎡⎡3⎤⎤\n",
       "⎢⎢ ⎥⎥\n",
       "⎢⎢2⎥⎥\n",
       "⎢⎢ ⎥⎥\n",
       "⎣⎣1⎦⎦"
      ]
     },
     "execution_count": 74,
     "metadata": {},
     "output_type": "execute_result"
    }
   ],
   "source": [
    "E.nullspace()"
   ]
  },
  {
   "cell_type": "code",
   "execution_count": 75,
   "metadata": {},
   "outputs": [
    {
     "data": {
      "image/png": "[encoded data removed]",
      "text/latex": [
       "$$\\left ( \\left[\\begin{matrix}1 & 0 & -3\\\\0 & 1 & -2\\\\0 & 0 & 0\\end{matrix}\\right], \\quad \\left ( 0, \\quad 1\\right )\\right )$$"
      ],
      "text/plain": [
       "⎛⎡1  0  -3⎤        ⎞\n",
       "⎜⎢        ⎥        ⎟\n",
       "⎜⎢0  1  -2⎥, (0, 1)⎟\n",
       "⎜⎢        ⎥        ⎟\n",
       "⎝⎣0  0  0 ⎦        ⎠"
      ]
     },
     "execution_count": 75,
     "metadata": {},
     "output_type": "execute_result"
    }
   ],
   "source": [
    "E.rref()"
   ]
  },
  {
   "cell_type": "code",
   "execution_count": 32,
   "metadata": {},
   "outputs": [],
   "source": [
    "# 1\n",
    "vecs = A.eigenvects()"
   ]
  },
  {
   "cell_type": "code",
   "execution_count": null,
   "metadata": {},
   "outputs": [],
   "source": []
  },
  {
   "cell_type": "code",
   "execution_count": 45,
   "metadata": {},
   "outputs": [
    {
     "data": {
      "image/png": "[encoded data removed]",
      "text/latex": [
       "$$\\left [ \\left ( 3, \\quad 1, \\quad \\left [ \\left[\\begin{matrix}1\\\\1\\\\0\\end{matrix}\\right]\\right ]\\right ), \\quad \\left ( 4, \\quad 1, \\quad \\left [ \\left[\\begin{matrix}1\\\\1\\\\1\\end{matrix}\\right]\\right ]\\right ), \\quad \\left ( 5, \\quad 1, \\quad \\left [ \\left[\\begin{matrix}-1\\\\1\\\\0\\end{matrix}\\right]\\right ]\\right )\\right ]$$"
      ],
      "text/plain": [
       "⎡⎛      ⎡⎡1⎤⎤⎞  ⎛      ⎡⎡1⎤⎤⎞  ⎛      ⎡⎡-1⎤⎤⎞⎤\n",
       "⎢⎜      ⎢⎢ ⎥⎥⎟  ⎜      ⎢⎢ ⎥⎥⎟  ⎜      ⎢⎢  ⎥⎥⎟⎥\n",
       "⎢⎜3, 1, ⎢⎢1⎥⎥⎟, ⎜4, 1, ⎢⎢1⎥⎥⎟, ⎜5, 1, ⎢⎢1 ⎥⎥⎟⎥\n",
       "⎢⎜      ⎢⎢ ⎥⎥⎟  ⎜      ⎢⎢ ⎥⎥⎟  ⎜      ⎢⎢  ⎥⎥⎟⎥\n",
       "⎣⎝      ⎣⎣0⎦⎦⎠  ⎝      ⎣⎣1⎦⎦⎠  ⎝      ⎣⎣0 ⎦⎦⎠⎦"
      ]
     },
     "execution_count": 45,
     "metadata": {},
     "output_type": "execute_result"
    }
   ],
   "source": [
    "# 2\n",
    "vecs"
   ]
  },
  {
   "cell_type": "code",
   "execution_count": 44,
   "metadata": {},
   "outputs": [
    {
     "data": {
      "image/png": "[encoded data removed]",
      "text/latex": [
       "$$\\left [ \\left[\\begin{matrix}-1\\\\1\\\\0\\end{matrix}\\right]\\right ]$$"
      ],
      "text/plain": [
       "⎡⎡-1⎤⎤\n",
       "⎢⎢  ⎥⎥\n",
       "⎢⎢1 ⎥⎥\n",
       "⎢⎢  ⎥⎥\n",
       "⎣⎣0 ⎦⎦"
      ]
     },
     "execution_count": 44,
     "metadata": {},
     "output_type": "execute_result"
    }
   ],
   "source": [
    "# 3 + 4\n",
    "(A-5*eye(3)).nullspace()"
   ]
  },
  {
   "cell_type": "code",
   "execution_count": 42,
   "metadata": {},
   "outputs": [
    {
     "data": {
      "image/png": "[encoded data removed]",
      "text/latex": [
       "$$\\left[\\begin{matrix}81\\\\81\\\\0\\end{matrix}\\right]$$"
      ],
      "text/plain": [
       "⎡81⎤\n",
       "⎢  ⎥\n",
       "⎢81⎥\n",
       "⎢  ⎥\n",
       "⎣0 ⎦"
      ]
     },
     "execution_count": 42,
     "metadata": {},
     "output_type": "execute_result"
    }
   ],
   "source": [
    "# 5\n",
    "u = vecs[0][2][0]\n",
    "A**4*u"
   ]
  },
  {
   "cell_type": "code",
   "execution_count": 46,
   "metadata": {},
   "outputs": [
    {
     "data": {
      "image/png": "[encoded data removed]",
      "text/latex": [
       "$$\\left[\\begin{matrix}-1\\\\1\\\\0\\end{matrix}\\right]$$"
      ],
      "text/plain": [
       "⎡-1⎤\n",
       "⎢  ⎥\n",
       "⎢1 ⎥\n",
       "⎢  ⎥\n",
       "⎣0 ⎦"
      ]
     },
     "execution_count": 46,
     "metadata": {},
     "output_type": "execute_result"
    }
   ],
   "source": [
    "v = vecs[2][2][0]\n",
    "v"
   ]
  },
  {
   "cell_type": "code",
   "execution_count": 47,
   "metadata": {},
   "outputs": [
    {
     "data": {
      "image/png": "[encoded data removed]",
      "text/latex": [
       "$$\\left[\\begin{matrix}53\\\\53\\\\0\\end{matrix}\\right]$$"
      ],
      "text/plain": [
       "⎡53⎤\n",
       "⎢  ⎥\n",
       "⎢53⎥\n",
       "⎢  ⎥\n",
       "⎣0 ⎦"
      ]
     },
     "execution_count": 47,
     "metadata": {},
     "output_type": "execute_result"
    }
   ],
   "source": [
    "A**3*(2*u-v)+5**3*v-u"
   ]
  },
  {
   "cell_type": "code",
   "execution_count": 49,
   "metadata": {},
   "outputs": [],
   "source": [
    "# Opgave 80\n",
    "c = symbols('c')\n",
    "u1 = Matrix([1, -1,1])\n",
    "u2 = Matrix([c, 2, 4])\n",
    "x = Matrix([2, 3, 1])"
   ]
  },
  {
   "cell_type": "code",
   "execution_count": 50,
   "metadata": {},
   "outputs": [
    {
     "data": {
      "image/png": "[encoded data removed]",
      "text/latex": [
       "$$\\sqrt{14}$$"
      ],
      "text/plain": [
       "√14"
      ]
     },
     "execution_count": 50,
     "metadata": {},
     "output_type": "execute_result"
    }
   ],
   "source": [
    "# 1\n",
    "x.norm()"
   ]
  },
  {
   "cell_type": "code",
   "execution_count": 51,
   "metadata": {},
   "outputs": [
    {
     "data": {
      "image/png": "[encoded data removed]",
      "text/latex": [
       "$$\\sqrt{17}$$"
      ],
      "text/plain": [
       "√17"
      ]
     },
     "execution_count": 51,
     "metadata": {},
     "output_type": "execute_result"
    }
   ],
   "source": [
    "# 2\n",
    "(x-u1).norm()"
   ]
  },
  {
   "cell_type": "code",
   "execution_count": 60,
   "metadata": {},
   "outputs": [
    {
     "data": {
      "image/png": "[encoded data removed]",
      "text/latex": [
       "$$\\left [ -2\\right ]$$"
      ],
      "text/plain": [
       "[-2]"
      ]
     },
     "execution_count": 60,
     "metadata": {},
     "output_type": "execute_result"
    }
   ],
   "source": [
    "# 3\n",
    "solve(u1.dot(u2), c)"
   ]
  },
  {
   "cell_type": "code",
   "execution_count": 77,
   "metadata": {},
   "outputs": [
    {
     "data": {
      "image/png": "[encoded data removed]",
      "text/latex": [
       "$$\\left ( \\left[\\begin{matrix}1 & 0 & 5\\\\0 & 1 & 1\\end{matrix}\\right], \\quad \\left ( 0, \\quad 1\\right )\\right )$$"
      ],
      "text/plain": [
       "⎛⎡1  0  5⎤        ⎞\n",
       "⎜⎢       ⎥, (0, 1)⎟\n",
       "⎝⎣0  1  1⎦        ⎠"
      ]
     },
     "execution_count": 77,
     "metadata": {},
     "output_type": "execute_result"
    }
   ],
   "source": [
    "A = Matrix([[6, 3, 33], [3, -1, 14]])\n",
    "A.rref()"
   ]
  },
  {
   "cell_type": "code",
   "execution_count": 86,
   "metadata": {},
   "outputs": [
    {
     "data": {
      "image/png": "[encoded data removed]",
      "text/latex": [
       "$$\\left ( \\left[\\begin{matrix}1 & 0 & 3\\\\0 & 1 & 5\\end{matrix}\\right], \\quad \\left ( 0, \\quad 1\\right )\\right )$$"
      ],
      "text/plain": [
       "⎛⎡1  0  3⎤        ⎞\n",
       "⎜⎢       ⎥, (0, 1)⎟\n",
       "⎝⎣0  1  5⎦        ⎠"
      ]
     },
     "execution_count": 86,
     "metadata": {},
     "output_type": "execute_result"
    }
   ],
   "source": [
    "A = Matrix([[12,6,66], [6,2,28]])\n",
    "A.rref()"
   ]
  },
  {
   "cell_type": "code",
   "execution_count": null,
   "metadata": {},
   "outputs": [],
   "source": []
  }
 ],
 "metadata": {
  "kernelspec": {
   "display_name": "Python 3",
   "language": "python",
   "name": "python3"
  },
  "language_info": {
   "codemirror_mode": {
    "name": "ipython",
    "version": 3
   },
   "file_extension": ".py",
   "mimetype": "text/x-python",
   "name": "python",
   "nbconvert_exporter": "python",
   "pygments_lexer": "ipython3",
   "version": "3.7.6"
  }
 },
 "nbformat": 4,
 "nbformat_minor": 2
}
