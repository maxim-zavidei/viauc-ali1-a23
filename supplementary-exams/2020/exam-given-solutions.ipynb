{
 "cells": [
  {
   "cell_type": "markdown",
   "metadata": {},
   "source": [
    "ALI exam 2020\n",
    "=="
   ]
  },
  {
   "cell_type": "code",
   "execution_count": 4,
   "metadata": {},
   "outputs": [],
   "source": [
    "# Student number: "
   ]
  },
  {
   "cell_type": "code",
   "execution_count": 4,
   "metadata": {},
   "outputs": [],
   "source": [
    "import sympy as sp\n",
    "from scipy import *\n",
    "from sympy import *\n",
    "init_printing()\n",
    "from IPython.display import display, Latex, HTML, Math\n",
    "import numpy as np\n",
    "import pandas as pd\n",
    "from sympy import Rational as R"
   ]
  },
  {
   "cell_type": "markdown",
   "metadata": {},
   "source": [
    "Feel free to add cells if you need to. The easiest way to convert to pdf is to save this notebook as .html (File-->Download as-->HTML) and then convert/print this html file to pdf."
   ]
  },
  {
   "cell_type": "markdown",
   "metadata": {},
   "source": [
    "Assignment 1 (15%)\n",
    "=="
   ]
  },
  {
   "cell_type": "code",
   "execution_count": null,
   "metadata": {},
   "outputs": [],
   "source": [
    "# a)\n",
    "\n",
    "# Since the matrix is diagonal, the sum of the eigenvalues is the same as the sum of the diagonal. The sum of the diagonal\n",
    "# is 6 which means that the final eigenvalue is 8 since 8 -1 -1 = 6."
   ]
  },
  {
   "cell_type": "code",
   "execution_count": 1,
   "metadata": {},
   "outputs": [],
   "source": [
    "# b)\n",
    "\n",
    "# A is in reduced form since\n",
    "    # i)   All nonzero rows are above all rows of zeros.\n",
    "    # ii)  Each leading entry of a row is in a column to the right of the leading entry of the row above it.\n",
    "    # iii) All entries in a column below a leading entry are zeros.\n",
    "    # iv)  The leading entry in each nonzero row is 1.\n",
    "    # v)   Each leading 1 is the only nonzero entry in its column.\n",
    "\n",
    "# B is in echelon form since\n",
    "    # i)   All nonzero rows are above all rows of zeros.\n",
    "    # ii)  Each leading entry of a row is in a column to the right of the leading entry of the row above it.\n",
    "    # iii) All entries in a column below a leading entry are zeros.\n",
    "\n",
    "# C is not in any form since\n",
    "    # Each leading entry of a row is NOT in a column to the right of the leading entry of the row above it\n",
    "\n",
    "\n",
    "# D is not in any form since\n",
    "    # All nonzero rows are NOT above all rows of zeros.\n"
   ]
  },
  {
   "cell_type": "code",
   "execution_count": null,
   "metadata": {},
   "outputs": [],
   "source": [
    "# c)\n",
    "\n",
    "# AAT is m by m but its rank is not greater than n (all columns of AAT are combinations of\n",
    "# columns of A). Since n<m, AAT is singular."
   ]
  },
  {
   "cell_type": "code",
   "execution_count": null,
   "metadata": {},
   "outputs": [],
   "source": [
    "# d)\n",
    "\n",
    "# det A = 0 because two rows are equal hence free variable hence non-invertible hence det A = 0."
   ]
  },
  {
   "cell_type": "code",
   "execution_count": null,
   "metadata": {},
   "outputs": [],
   "source": [
    "# e)\n",
    "\n",
    "# A has two pivots which gives us dim Col A = 2 and since dim Col A + dim Nul A = 5 we find that dim Nul A = 3."
   ]
  },
  {
   "cell_type": "code",
   "execution_count": null,
   "metadata": {},
   "outputs": [],
   "source": [
    "# f)\n",
    "# An inconsistent linear system in three variables, with a coefficient matrix of rank two.\n",
    "\n",
    "# A consistent linear system with three equations and two unknowns, with a coefficient matrix\n",
    "# of rank one.\n",
    "\n",
    "# A consistent linear system with three equations and two unknowns, with a coefficient matrix\n",
    "# of rank larger than one\n",
    "\n",
    "# A linear system of two equations in three unknowns, with an invertible coefficient matrix.\n",
    "\n",
    "# A linear system in three variables, whose geometrical interpretation is three planes intersecting\n",
    "# in a line.\n"
   ]
  },
  {
   "cell_type": "markdown",
   "metadata": {},
   "source": [
    "#### An inconsistent linear system in three variables, with a coefficient matrix of rank two.\n",
    "Here we need three equations not all proportional, that are incompatible: so for example the following system will do:\n",
    "\n",
    "$$\\begin{array}{l}\n",
    "x+y+z=4 \\\\\n",
    "y+z=5 \\\\\n",
    "x+2 y+2 z=10\n",
    "\\end{array}$$\n",
    "\n",
    "This system is inconsistent, since the sum of the first two equations gives $x+2 y+2 z=9$ which is incompatible with the third equation. The coefficient matrix is not rank zero, since it is not zero.\n",
    "It is not rank one, since otherwise all the left-hand sides of the equations would be proportional.\n",
    "It is not rank three, since otherwise the coefficient matrix would be invertible and the system would have a solution.\n",
    "Therefore it is rank two, as required.\n",
    "\n"
   ]
  },
  {
   "cell_type": "markdown",
   "metadata": {},
   "source": [
    "#### A consistent linear system with three equations and two unknowns, with a coefficient matrix of rank one.\n",
    "The following system will do:\n",
    "\n",
    "$$\\begin{array}{l}\n",
    "x+y=4 \\\\\n",
    "2 x+2 y=8 \\\\\n",
    "3 x+3 y=12\n",
    "\\end{array}$$\n",
    "\n",
    "The equations are all proportional, so the coefficient matrix is rank one.\n",
    "The system is consistent, since $ x = y = 2$ solves it."
   ]
  },
  {
   "cell_type": "markdown",
   "metadata": {},
   "source": [
    "#### A consistent linear system with three equations and two unknowns, with a coefficient matrix of rank larger than one\n",
    "\n",
    "The following system will do\n",
    "\n",
    "$$\\begin{array}{l}\n",
    "x+y=4 \\\\\n",
    "x+2 y=5 \\\\\n",
    "x+3 y=6\n",
    "\\end{array}$$\n",
    "\n",
    "The coefficient matrix is not rank one, since the left-hand sides of the equations are not proportional and is clearly not rank zero either.\n",
    "So the rank is larger than one, as required.\n"
   ]
  },
  {
   "cell_type": "markdown",
   "metadata": {},
   "source": [
    "#### A linear system of two equations in three unknowns, with an invertible coefficient matrix.\n",
    "This is impossible: the coefficient matrix is $ 2$ by $ 3$ so is not square and only square matrices can be invertible."
   ]
  },
  {
   "cell_type": "markdown",
   "metadata": {},
   "source": [
    "#### A linear system in three variables, whose geometrical interpretation is three planes intersecting in a line.\n",
    "We need pivots in all columns so the following system would work:\n",
    "\n",
    "$$\\begin{array}{c}\n",
    "x-3 y+2 z=8 \\\\\n",
    "3 x-8 y-5 z=11 \\\\\n",
    "2 x-4 y-18 z=-10\n",
    "\\end{array}$$\n",
    "\n",
    "A simpler version would be the following: $ x = 0, y = 0, x + y = 0$.\n",
    "Each of these equations represents a plane through the $ z$-axis, which is their common intersection."
   ]
  },
  {
   "cell_type": "markdown",
   "metadata": {},
   "source": [
    "Assignment 2 (15%)\n",
    "=="
   ]
  },
  {
   "cell_type": "code",
   "execution_count": 37,
   "metadata": {},
   "outputs": [
    {
     "data": {
      "text/latex": [
       "$$q = 4$$"
      ],
      "text/plain": [
       "<IPython.core.display.Latex object>"
      ]
     },
     "metadata": {},
     "output_type": "display_data"
    }
   ],
   "source": [
    "# a)\n",
    "\n",
    "q = symbols('q')\n",
    "\n",
    "A = Matrix([[3-2*q,1],[4,3+2*q]])\n",
    "B = Matrix([[29,6],[24,125]])\n",
    "que = solve(A**2-B, q)\n",
    "display(Latex('$$q = {}$$'.format(que[0][0])))"
   ]
  },
  {
   "cell_type": "code",
   "execution_count": 3,
   "metadata": {},
   "outputs": [
    {
     "data": {
      "image/png": "[encoded data removed]",
      "text/latex": [
       "$\\displaystyle \\left[\\begin{matrix}1 & 0\\\\0 & 1\\end{matrix}\\right]$"
      ],
      "text/plain": [
       "⎡1  0⎤\n",
       "⎢    ⎥\n",
       "⎣0  1⎦"
      ]
     },
     "execution_count": 3,
     "metadata": {},
     "output_type": "execute_result"
    }
   ],
   "source": [
    "A = Matrix([[3-2*4,1],[4,3+2*4]])\n",
    "A.T*(A**-1).T"
   ]
  },
  {
   "cell_type": "markdown",
   "metadata": {},
   "source": [
    "#### b)\n",
    "\n",
    "$B^{2} B^{T} B B^{-1}\\left(B^{-1}\\right)^{T} B\\left(B^{-1}\\right)^{2} = B B B^{T} B B^{-1}\\left(B^{-1}\\right)^{T} B B^{-1} B^{-1} = B B B^{T} \\left(B^{-1}\\right)^{T} B^{-1} = B B B^{T} \\left(B^{T}\\right)^{-1} B^{-1} = B B B^{-1} = B$\n",
    "\n",
    "In all steps $BB^{-1} = I$ and $BB=B^2$ are used, and in the second last step we also use $\\left(B^{-1}\\right)^{\\top}=\\left(B^{\\top}\\right)^{-1}$"
   ]
  },
  {
   "cell_type": "code",
   "execution_count": 42,
   "metadata": {},
   "outputs": [
    {
     "data": {
      "text/latex": [
       "$$k = -2$$"
      ],
      "text/plain": [
       "<IPython.core.display.Latex object>"
      ]
     },
     "metadata": {},
     "output_type": "display_data"
    }
   ],
   "source": [
    "# c)\n",
    "k = symbols('k')\n",
    "A = Matrix([[2,3],[-1,1]])\n",
    "B = Matrix([[1,9],[-3,k]])\n",
    "\n",
    "kay = solve(A*B - B*A, k)\n",
    "display(Latex('$$k = {}$$'.format(list(kay.values())[0])))\n"
   ]
  },
  {
   "cell_type": "markdown",
   "metadata": {},
   "source": [
    "Assignment 3 (10%)\n",
    "=="
   ]
  },
  {
   "cell_type": "code",
   "execution_count": 4,
   "metadata": {},
   "outputs": [
    {
     "data": {
      "text/latex": [
       "$$x_1 = 3/2$$"
      ],
      "text/plain": [
       "<IPython.core.display.Latex object>"
      ]
     },
     "metadata": {},
     "output_type": "display_data"
    },
    {
     "data": {
      "text/latex": [
       "$$x_2 = 7/4$$"
      ],
      "text/plain": [
       "<IPython.core.display.Latex object>"
      ]
     },
     "metadata": {},
     "output_type": "display_data"
    }
   ],
   "source": [
    "# a)\n",
    "\n",
    "A = Matrix([[1, 2, 5], [3, -2, 1], [2, 4, 10]])\n",
    "B = A.rref()[0]\n",
    "display(Latex('$$x_1 = {}$$'.format(B[0,2])))\n",
    "display(Latex('$$x_2 = {}$$'.format(B[1,2])))"
   ]
  },
  {
   "cell_type": "code",
   "execution_count": 10,
   "metadata": {},
   "outputs": [
    {
     "data": {
      "image/png": "[encoded data removed]",
      "text/latex": [
       "$\\displaystyle \\left( \\left[\\begin{matrix}1 & 0 & 0\\\\1 & 1 & 0\\\\1 & a - 1 & 1\\end{matrix}\\right], \\  \\left[\\begin{matrix}1 & 1 & 1 & -1\\\\0 & 1 & a - 1 & 2 a + 1\\\\0 & 0 & 1 - \\left(a - 1\\right)^{2} & - \\left(a - 1\\right) \\left(2 a + 1\\right) - 1\\end{matrix}\\right], \\  \\left[ \\right]\\right)$"
      ],
      "text/plain": [
       "⎛               ⎡1  1       1                  -1          ⎤    ⎞\n",
       "⎜⎡1    0    0⎤  ⎢                                          ⎥    ⎟\n",
       "⎜⎢           ⎥  ⎢0  1     a - 1             2⋅a + 1        ⎥    ⎟\n",
       "⎜⎢1    1    0⎥, ⎢                                          ⎥, []⎟\n",
       "⎜⎢           ⎥  ⎢                 2                        ⎥    ⎟\n",
       "⎝⎣1  a - 1  1⎦  ⎣0  0  1 - (a - 1)   -(a - 1)⋅(2⋅a + 1) - 1⎦    ⎠"
      ]
     },
     "execution_count": 10,
     "metadata": {},
     "output_type": "execute_result"
    }
   ],
   "source": [
    "# b)\n",
    "a = symbols('a')\n",
    "\n",
    "A = Matrix([[1,1,1,-1],[1,2,a,2*a],[1,a,2,-2]])\n",
    "L, U, perm = A.LUdecomposition()\n",
    "# display(solve(U[2,2], a))\n",
    "# display(solve(U[2,3], a))\n",
    "# display(Latex(\"When  𝛼 ≠ 0  and  𝛼 ≠ 2,  the linear system has three basic variables.\"\n",
    "#               \" When  𝛼 = 0,  the system has two basic variable and one free variable.\"\n",
    "#               \" (If  𝛼 = 2  the linear system has no solution)\"))\n",
    "A.LUdecomposition()"
   ]
  },
  {
   "cell_type": "markdown",
   "metadata": {},
   "source": [
    "Assignment 4 (10%)\n",
    "=="
   ]
  },
  {
   "cell_type": "code",
   "execution_count": 6,
   "metadata": {},
   "outputs": [
    {
     "data": {
      "text/latex": [
       "det A = $- 8 x - 6 y - z - 1$"
      ],
      "text/plain": [
       "<IPython.core.display.Latex object>"
      ]
     },
     "metadata": {},
     "output_type": "display_data"
    }
   ],
   "source": [
    "# a)\n",
    "x, y, z = symbols('x y z')\n",
    "\n",
    "# Note a required method is not stated, so we simply use the built in method.\n",
    "A = Matrix([[x,y,z,1],[1,-2,3,1],[2,-3,1,1],[4,-6,3,1]])\n",
    "display(Latex('det A = ${}$'.format(latex(A.det()))))"
   ]
  },
  {
   "cell_type": "markdown",
   "metadata": {},
   "source": [
    "#### b)\n",
    "$\\operatorname{det}(2 A)=2^{4} \\operatorname{det}(A)=48$ &nbsp; &nbsp; &nbsp; Rule: $\\operatorname{det}(c A)=c^{n} \\operatorname{det}(A)$\n",
    "\n",
    "$\\operatorname{det}\\left(A^{3}\\right)=(\\operatorname{det}(A))^{3}=27$ &nbsp; &nbsp; &nbsp; Rule: Self explanatory\n",
    "\n",
    "$\\operatorname{det}\\left(A^{-1}\\right)=(\\operatorname{det}(A))^{-1}=\\frac{1}{3}$ &nbsp; &nbsp; &nbsp; Rule: Self explanatory\n",
    "\n",
    "$\\operatorname{det}\\left(A^{2} B^{3}\\right)=(\\operatorname{det}(A))^{2}(\\operatorname{det}(B))^{3}=3^{2}(-2)^{3}=-72$ &nbsp; &nbsp; &nbsp; Rule: Self explanatory\n",
    "\n",
    "$\\operatorname{det}\\left(A^{3} B^{-2}\\right)=(\\operatorname{det}(A))^{3}(\\operatorname{det}(B))^{-2}= 3^3 (-2)^{-2} =  \\frac{27}{4}$ &nbsp; &nbsp; &nbsp; Rule: Self explanatory"
   ]
  },
  {
   "cell_type": "markdown",
   "metadata": {},
   "source": [
    "Assignment 5 (10%)\n",
    "=="
   ]
  },
  {
   "cell_type": "code",
   "execution_count": 7,
   "metadata": {},
   "outputs": [
    {
     "data": {
      "image/png": "[encoded data removed]",
      "text/latex": [
       "$\\displaystyle \\left[ \\left( 2, \\  1, \\  \\left[ \\left[\\begin{matrix}4\\\\-1\\\\1\\end{matrix}\\right]\\right]\\right), \\  \\left( 3, \\  2, \\  \\left[ \\left[\\begin{matrix}1\\\\0\\\\0\\end{matrix}\\right]\\right]\\right)\\right]$"
      ],
      "text/plain": [
       "⎡⎛      ⎡⎡4 ⎤⎤⎞  ⎛      ⎡⎡1⎤⎤⎞⎤\n",
       "⎢⎜      ⎢⎢  ⎥⎥⎟  ⎜      ⎢⎢ ⎥⎥⎟⎥\n",
       "⎢⎜2, 1, ⎢⎢-1⎥⎥⎟, ⎜3, 2, ⎢⎢0⎥⎥⎟⎥\n",
       "⎢⎜      ⎢⎢  ⎥⎥⎟  ⎜      ⎢⎢ ⎥⎥⎟⎥\n",
       "⎣⎝      ⎣⎣1 ⎦⎦⎠  ⎝      ⎣⎣0⎦⎦⎠⎦"
      ]
     },
     "execution_count": 7,
     "metadata": {},
     "output_type": "execute_result"
    }
   ],
   "source": [
    "A = Matrix([[3,2,-2],[0,2,0],[0,1,3]])\n",
    "A.eigenvects()"
   ]
  },
  {
   "cell_type": "code",
   "execution_count": null,
   "metadata": {},
   "outputs": [],
   "source": [
    "# A is not diagonalizable since the eigenvalue 3 has algebraic multiplicity 2 but geometric multiplicity 1\n",
    "# (i.e. dim Nul (A-3*I) = 1)."
   ]
  },
  {
   "cell_type": "code",
   "execution_count": 8,
   "metadata": {},
   "outputs": [
    {
     "data": {
      "image/png": "[encoded data removed]",
      "text/latex": [
       "$\\displaystyle \\left[ \\left( -5, \\  1, \\  \\left[ \\left[\\begin{matrix}1\\\\0\\\\0\\\\0\\end{matrix}\\right]\\right]\\right), \\  \\left( 1, \\  2, \\  \\left[ \\left[\\begin{matrix}\\frac{1}{3}\\\\1\\\\0\\\\0\\end{matrix}\\right], \\  \\left[\\begin{matrix}- \\frac{1}{6}\\\\0\\\\1\\\\0\\end{matrix}\\right]\\right]\\right), \\  \\left( 3, \\  1, \\  \\left[ \\left[\\begin{matrix}\\frac{1}{2}\\\\1\\\\1\\\\1\\end{matrix}\\right]\\right]\\right)\\right]$"
      ],
      "text/plain": [
       "⎡⎛       ⎡⎡1⎤⎤⎞  ⎛      ⎡⎡1/3⎤  ⎡-1/6⎤⎤⎞  ⎛      ⎡⎡1/2⎤⎤⎞⎤\n",
       "⎢⎜       ⎢⎢ ⎥⎥⎟  ⎜      ⎢⎢   ⎥  ⎢    ⎥⎥⎟  ⎜      ⎢⎢   ⎥⎥⎟⎥\n",
       "⎢⎜       ⎢⎢0⎥⎥⎟  ⎜      ⎢⎢ 1 ⎥  ⎢ 0  ⎥⎥⎟  ⎜      ⎢⎢ 1 ⎥⎥⎟⎥\n",
       "⎢⎜-5, 1, ⎢⎢ ⎥⎥⎟, ⎜1, 2, ⎢⎢   ⎥, ⎢    ⎥⎥⎟, ⎜3, 1, ⎢⎢   ⎥⎥⎟⎥\n",
       "⎢⎜       ⎢⎢0⎥⎥⎟  ⎜      ⎢⎢ 0 ⎥  ⎢ 1  ⎥⎥⎟  ⎜      ⎢⎢ 1 ⎥⎥⎟⎥\n",
       "⎢⎜       ⎢⎢ ⎥⎥⎟  ⎜      ⎢⎢   ⎥  ⎢    ⎥⎥⎟  ⎜      ⎢⎢   ⎥⎥⎟⎥\n",
       "⎣⎝       ⎣⎣0⎦⎦⎠  ⎝      ⎣⎣ 0 ⎦  ⎣ 0  ⎦⎦⎠  ⎝      ⎣⎣ 1 ⎦⎦⎠⎦"
      ]
     },
     "execution_count": 8,
     "metadata": {},
     "output_type": "execute_result"
    }
   ],
   "source": [
    "B = Matrix([[-5,2,-1,3],[0,1,0,2],[0,0,1,2],[0,0,0,3]])\n",
    "B.eigenvects()"
   ]
  },
  {
   "cell_type": "code",
   "execution_count": 9,
   "metadata": {},
   "outputs": [
    {
     "data": {
      "text/latex": [
       "$\\displaystyle P D P^{-1} = \\left[\\begin{matrix}1 & 1 & -1 & 1\\\\0 & 3 & 0 & 2\\\\0 & 0 & 6 & 2\\\\0 & 0 & 0 & 2\\end{matrix}\\right]\\left[\\begin{matrix}-5 & 0 & 0 & 0\\\\0 & 1 & 0 & 0\\\\0 & 0 & 1 & 0\\\\0 & 0 & 0 & 3\\end{matrix}\\right]\\left[\\begin{matrix}1 & - \\frac{1}{3} & \\frac{1}{6} & - \\frac{1}{3}\\\\0 & \\frac{1}{3} & 0 & - \\frac{1}{3}\\\\0 & 0 & \\frac{1}{6} & - \\frac{1}{6}\\\\0 & 0 & 0 & \\frac{1}{2}\\end{matrix}\\right]$"
      ],
      "text/plain": [
       "<IPython.core.display.Math object>"
      ]
     },
     "metadata": {},
     "output_type": "display_data"
    },
    {
     "data": {
      "text/latex": [
       "Test:"
      ],
      "text/plain": [
       "<IPython.core.display.Latex object>"
      ]
     },
     "metadata": {},
     "output_type": "display_data"
    },
    {
     "data": {
      "image/png": "[encoded data removed]",
      "text/latex": [
       "$\\displaystyle \\left[\\begin{matrix}-5 & 2 & -1 & 3\\\\0 & 1 & 0 & 2\\\\0 & 0 & 1 & 2\\\\0 & 0 & 0 & 3\\end{matrix}\\right]$"
      ],
      "text/plain": [
       "⎡-5  2  -1  3⎤\n",
       "⎢            ⎥\n",
       "⎢0   1  0   2⎥\n",
       "⎢            ⎥\n",
       "⎢0   0  1   2⎥\n",
       "⎢            ⎥\n",
       "⎣0   0  0   3⎦"
      ]
     },
     "metadata": {},
     "output_type": "display_data"
    },
    {
     "data": {
      "image/png": "[encoded data removed]",
      "text/latex": [
       "$\\displaystyle \\left[\\begin{matrix}-5 & 2 & -1 & 3\\\\0 & 1 & 0 & 2\\\\0 & 0 & 1 & 2\\\\0 & 0 & 0 & 3\\end{matrix}\\right]$"
      ],
      "text/plain": [
       "⎡-5  2  -1  3⎤\n",
       "⎢            ⎥\n",
       "⎢0   1  0   2⎥\n",
       "⎢            ⎥\n",
       "⎢0   0  1   2⎥\n",
       "⎢            ⎥\n",
       "⎣0   0  0   3⎦"
      ]
     },
     "metadata": {},
     "output_type": "display_data"
    }
   ],
   "source": [
    "# We see that B is diagonalisable since the algebraic multiplicity is equal to the geometric multiplicity for all eigenvalues\n",
    "\n",
    "P, D = B.diagonalize()\n",
    "Pinv = P**-1\n",
    "\n",
    "display(Math(r'P D P^{-1} = ' + latex(P) + latex(D) + latex(Pinv)))\n",
    "display(Latex(\"Test:\"))\n",
    "display(P*D*Pinv)\n",
    "display(B)"
   ]
  },
  {
   "cell_type": "markdown",
   "metadata": {},
   "source": [
    "Assignment 6 (25%)\n",
    "=="
   ]
  },
  {
   "cell_type": "code",
   "execution_count": 3,
   "metadata": {},
   "outputs": [
    {
     "data": {
      "text/latex": [
       "$\\displaystyle X_1 = \\left[\\begin{matrix}1 & 0 & 0 & 0\\\\1 & 1 & 1 & 1\\\\1 & 2 & 4 & 8\\\\1 & 3 & 9 & 27\\\\1 & 4 & 16 & 64\\\\1 & 5 & 25 & 125\\\\1 & 6 & 36 & 216\\\\1 & 7 & 49 & 343\\\\1 & 8 & 64 & 512\\\\1 & 9 & 81 & 729\\\\1 & 10 & 100 & 1000\\\\1 & 11 & 121 & 1331\\\\1 & 12 & 144 & 1728\\end{matrix}\\right]\\quad X_2 = \\left[\\begin{matrix}0 & 0 & 0\\\\1 & 1 & 1\\\\2 & 4 & 8\\\\3 & 9 & 27\\\\4 & 16 & 64\\\\5 & 25 & 125\\\\6 & 36 & 216\\\\7 & 49 & 343\\\\8 & 64 & 512\\\\9 & 81 & 729\\\\10 & 100 & 1000\\\\11 & 121 & 1331\\\\12 & 144 & 1728\\end{matrix}\\right]\\quad X_3 = \\left[\\begin{matrix}1 & 0 & 0\\\\1 & 1 & 1\\\\1 & 2 & 4\\\\1 & 3 & 9\\\\1 & 4 & 16\\\\1 & 5 & 25\\\\1 & 6 & 36\\\\1 & 7 & 49\\\\1 & 8 & 64\\\\1 & 9 & 81\\\\1 & 10 & 100\\\\1 & 11 & 121\\\\1 & 12 & 144\\end{matrix}\\right]\\quad y = \\left[\\begin{matrix}0.0\\\\26.4\\\\89.7\\\\186.0\\\\314.1\\\\477.3\\\\666.0\\\\883.5\\\\1141.2\\\\1413.3\\\\1715.1\\\\1715.1\\\\2527.6\\end{matrix}\\right]$"
      ],
      "text/plain": [
       "<IPython.core.display.Math object>"
      ]
     },
     "metadata": {},
     "output_type": "display_data"
    }
   ],
   "source": [
    "# a)\n",
    "x = np.array([0, 1, 2, 3, 4, 5, 6, 7, 8, 9, 10, 11, 12])\n",
    "y = np.array([0, 26.4, 89.7, 186.0, 314.1, 477.3, 666.0, 883.5, 1141.2, 1413.3, 1715.1, 1715.1, 2527.6])\n",
    "\n",
    "X1 = Matrix([ones(len(x), 1)]).row_join(Matrix(x)).row_join(Matrix(x**2)).row_join(Matrix(x**3))\n",
    "X2 = Matrix(x).row_join(Matrix(x**2)).row_join(Matrix(x**3))\n",
    "X3 = Matrix([ones(len(x), 1)]).row_join(Matrix(x)).row_join(Matrix(x**2))\n",
    "\n",
    "display(Math(r'X_1 = ' + latex(X1) + r'\\quad X_2 = ' + latex(X2) + r'\\quad X_3 = ' + latex(X3) + r'\\quad y = '\n",
    "             + latex(Matrix(y))))"
   ]
  },
  {
   "cell_type": "code",
   "execution_count": 4,
   "metadata": {},
   "outputs": [
    {
     "data": {
      "text/latex": [
       "$$y_1(t) = -23.02+44.1007t+10.0985t^2+0.2384t^3$$"
      ],
      "text/plain": [
       "<IPython.core.display.Latex object>"
      ]
     },
     "metadata": {},
     "output_type": "display_data"
    },
    {
     "data": {
      "text/latex": [
       "$$y_2(t) = 30.48t+12.2699t^2+0.1371t^3$$"
      ],
      "text/plain": [
       "<IPython.core.display.Latex object>"
      ]
     },
     "metadata": {},
     "output_type": "display_data"
    },
    {
     "data": {
      "text/latex": [
       "$$y_3(t) = -7.28+24.3108t+14.3903t^2$$"
      ],
      "text/plain": [
       "<IPython.core.display.Latex object>"
      ]
     },
     "metadata": {},
     "output_type": "display_data"
    }
   ],
   "source": [
    "# b)\n",
    "X1tX1 = X1.T*X1\n",
    "X1ty = X1.T*Matrix(y)\n",
    "Mat, _ = X1tX1.row_join(X1ty).rref()\n",
    "B1 = Mat[:,-1]\n",
    "display(Latex(\"$$y_1(t) = {}+{}t+{}t^2+{}t^3$$\".format(round(B1[0],2), round(B1[1], 4), round(B1[2], 4), round(B1[3], 4))))\n",
    "\n",
    "X2tX2 = X2.T*X2\n",
    "X2ty = X2.T*Matrix(y)\n",
    "Mat, _ = X2tX2.row_join(X2ty).rref()\n",
    "B2 = Mat[:,-1]\n",
    "display(Latex(\"$$y_2(t) = {}t+{}t^2+{}t^3$$\".format(round(B2[0],2), round(B2[1], 4), round(B2[2], 4))))\n",
    "\n",
    "X3tX3 = X3.T*X3\n",
    "X3ty = X3.T*Matrix(y)\n",
    "Mat, _ = X3tX3.row_join(X3ty).rref()\n",
    "B3 = Mat[:,-1]\n",
    "display(Latex(\"$$y_3(t) = {}+{}t+{}t^2$$\".format(round(B3[0],2), round(B3[1], 4), round(B3[2], 4))))"
   ]
  },
  {
   "cell_type": "code",
   "execution_count": 5,
   "metadata": {},
   "outputs": [
    {
     "data": {
      "text/latex": [
       "$$e_1 = 338.58$$"
      ],
      "text/plain": [
       "<IPython.core.display.Latex object>"
      ]
     },
     "metadata": {},
     "output_type": "display_data"
    },
    {
     "data": {
      "text/latex": [
       "$$e_2 = 339.66$$"
      ],
      "text/plain": [
       "<IPython.core.display.Latex object>"
      ]
     },
     "metadata": {},
     "output_type": "display_data"
    },
    {
     "data": {
      "text/latex": [
       "$$e_3 = 340.31$$"
      ],
      "text/plain": [
       "<IPython.core.display.Latex object>"
      ]
     },
     "metadata": {},
     "output_type": "display_data"
    }
   ],
   "source": [
    "# c)\n",
    "display(Latex(\"$$e_1 = {}$$\".format(round((Matrix(y)-X1*B1).norm(), 2))))\n",
    "display(Latex(\"$$e_2 = {}$$\".format(round((Matrix(y)-X2*B2).norm(), 2))))\n",
    "display(Latex(\"$$e_3 = {}$$\".format(round((Matrix(y)-X3*B3).norm(), 2))))"
   ]
  },
  {
   "cell_type": "markdown",
   "metadata": {},
   "source": [
    "Clearly, the first model has the best fit for this specific data (although it may be overfitting but that is not part of this course!)"
   ]
  },
  {
   "cell_type": "code",
   "execution_count": 42,
   "metadata": {},
   "outputs": [
    {
     "data": {
      "text/latex": [
       "$$y_3'(4.5) = 149.47 \\ m/s = 538.10 \\ km/h$$"
      ],
      "text/plain": [
       "<IPython.core.display.Latex object>"
      ]
     },
     "metadata": {},
     "output_type": "display_data"
    },
    {
     "data": {
      "text/latex": [
       "$$y_3'(4.5) = 149.71 \\ m/s = 538.96 \\ km/h$$"
      ],
      "text/plain": [
       "<IPython.core.display.Latex object>"
      ]
     },
     "metadata": {},
     "output_type": "display_data"
    }
   ],
   "source": [
    "# d)\n",
    "y45 = B1[1]+2*B1[2]*4.5+3*B1[3]*4.5**2\n",
    "display(Latex(\"$$y_3'(4.5) = {} \\\\ m/s = {} \\\\ km/h$$\".format(round(y45, 2), round(y45*3.6, 2))))\n",
    "\n",
    "# or\n",
    "\n",
    "def f(x):\n",
    "    return B1[0] + B1[1]*x+B1[2]*x**2+B1[3]*x**3\n",
    "display(Latex(\"$$y_3'(4.5) = {} \\\\ m/s = {} \\\\ km/h$$\".format(round(derivative(f,4.5), 2), round(derivative(f,4.5)*3.6, 2))))\n"
   ]
  },
  {
   "cell_type": "code",
   "execution_count": null,
   "metadata": {},
   "outputs": [],
   "source": [
    "# The small difference is due to rounding issues in Python"
   ]
  },
  {
   "cell_type": "markdown",
   "metadata": {},
   "source": [
    "Assignment 7 (15%)\n",
    "=="
   ]
  },
  {
   "cell_type": "code",
   "execution_count": 15,
   "metadata": {},
   "outputs": [
    {
     "data": {
      "text/latex": [
       "$\\displaystyle U \\Sigma V^T = \\left[\\begin{matrix}0 & 1 & 0 & 0\\\\\\frac{\\sqrt{2}}{2} & 0 & - \\frac{\\sqrt{2}}{2} & 0\\\\\\frac{\\sqrt{2}}{2} & 0 & \\frac{\\sqrt{2}}{2} & 0\\\\0 & 0 & 0 & 1\\end{matrix}\\right]\\left[\\begin{matrix}3 & 0 & 0\\\\0 & 2 & 0\\\\0 & 0 & 1\\\\0 & 0 & 0\\end{matrix}\\right]\\left[\\begin{matrix}0 & \\frac{\\sqrt{2}}{2} & \\frac{\\sqrt{2}}{2}\\\\1 & 0 & 0\\\\0 & - \\frac{\\sqrt{2}}{2} & \\frac{\\sqrt{2}}{2}\\end{matrix}\\right]$"
      ],
      "text/plain": [
       "<IPython.core.display.Math object>"
      ]
     },
     "metadata": {},
     "output_type": "display_data"
    },
    {
     "data": {
      "text/latex": [
       "Test:"
      ],
      "text/plain": [
       "<IPython.core.display.Latex object>"
      ]
     },
     "metadata": {},
     "output_type": "display_data"
    },
    {
     "data": {
      "image/png": "[encoded data removed]",
      "text/latex": [
       "$\\displaystyle \\left[\\begin{matrix}2 & 0 & 0\\\\0 & 2 & 1\\\\0 & 1 & 2\\\\0 & 0 & 0\\end{matrix}\\right]$"
      ],
      "text/plain": [
       "⎡2  0  0⎤\n",
       "⎢       ⎥\n",
       "⎢0  2  1⎥\n",
       "⎢       ⎥\n",
       "⎢0  1  2⎥\n",
       "⎢       ⎥\n",
       "⎣0  0  0⎦"
      ]
     },
     "metadata": {},
     "output_type": "display_data"
    },
    {
     "data": {
      "image/png": "[encoded data removed]",
      "text/latex": [
       "$\\displaystyle \\left[\\begin{matrix}2 & 0 & 0\\\\0 & 2 & 1\\\\0 & 1 & 2\\\\0 & 0 & 0\\end{matrix}\\right]$"
      ],
      "text/plain": [
       "⎡2  0  0⎤\n",
       "⎢       ⎥\n",
       "⎢0  2  1⎥\n",
       "⎢       ⎥\n",
       "⎢0  1  2⎥\n",
       "⎢       ⎥\n",
       "⎣0  0  0⎦"
      ]
     },
     "metadata": {},
     "output_type": "display_data"
    }
   ],
   "source": [
    "# a)\n",
    "A = Matrix([[2,0,0],[0,2,1],[0,1,2],[0,0,0]])\n",
    "AtA = A.T*A\n",
    "vecs1 = AtA.eigenvects()\n",
    "\n",
    "s1 = sqrt(vecs1[2][0])\n",
    "s2 = sqrt(vecs1[1][0])\n",
    "s3 = sqrt(vecs1[0][0])\n",
    "\n",
    "v1 = vecs1[2][2][0].normalized()\n",
    "v2 = vecs1[1][2][0].normalized()\n",
    "v3 = vecs1[0][2][0].normalized()\n",
    "\n",
    "A = Matrix([[2,0,0],[0,2,1],[0,1,2],[0,0,0]])\n",
    "AAt = A*A.T\n",
    "vecs2 = AAt.eigenvects()\n",
    "vecs2\n",
    "\n",
    "u1 = vecs2[3][2][0].normalized()\n",
    "u2 = vecs2[2][2][0].normalized()\n",
    "u3 = vecs2[1][2][0].normalized()\n",
    "u4 = vecs2[0][2][0].normalized()\n",
    "\n",
    "U = u1.row_join(u2).row_join(u3).row_join(u4)\n",
    "S = diag(s1, s2, s3).col_join(zeros(1,3))\n",
    "V = v1.row_join(v2).row_join(v3)\n",
    "Vt = V.T\n",
    "\n",
    "display(Math('U \\Sigma V^T = {}{}{}'.format(latex(U), latex(S), latex(Vt))))\n",
    "display(Latex(\"Test:\"))\n",
    "display(U*S*Vt)\n",
    "display(A)"
   ]
  },
  {
   "cell_type": "code",
   "execution_count": 16,
   "metadata": {},
   "outputs": [
    {
     "data": {
      "text/latex": [
       "$\\displaystyle Col A = \\left[\\begin{matrix}0\\\\\\frac{\\sqrt{2}}{2}\\\\\\frac{\\sqrt{2}}{2}\\\\0\\end{matrix}\\right] , \\left[\\begin{matrix}1\\\\0\\\\0\\\\0\\end{matrix}\\right] , \\left[\\begin{matrix}0\\\\- \\frac{\\sqrt{2}}{2}\\\\\\frac{\\sqrt{2}}{2}\\\\0\\end{matrix}\\right]$"
      ],
      "text/plain": [
       "<IPython.core.display.Math object>"
      ]
     },
     "metadata": {},
     "output_type": "display_data"
    },
    {
     "data": {
      "text/latex": [
       "$\\displaystyle Nul A^T = \\left[\\begin{matrix}0\\\\0\\\\0\\\\1\\end{matrix}\\right]$"
      ],
      "text/plain": [
       "<IPython.core.display.Math object>"
      ]
     },
     "metadata": {},
     "output_type": "display_data"
    },
    {
     "data": {
      "text/latex": [
       "$\\displaystyle Col A^T = Row A = \\left[\\begin{matrix}0\\\\\\frac{\\sqrt{2}}{2}\\\\\\frac{\\sqrt{2}}{2}\\end{matrix}\\right] , \\left[\\begin{matrix}1\\\\0\\\\0\\end{matrix}\\right] , \\left[\\begin{matrix}0\\\\- \\frac{\\sqrt{2}}{2}\\\\\\frac{\\sqrt{2}}{2}\\end{matrix}\\right]$"
      ],
      "text/plain": [
       "<IPython.core.display.Math object>"
      ]
     },
     "metadata": {},
     "output_type": "display_data"
    },
    {
     "data": {
      "text/latex": [
       "$\\displaystyle Nul A = \\left[ \\right]$"
      ],
      "text/plain": [
       "<IPython.core.display.Math object>"
      ]
     },
     "metadata": {},
     "output_type": "display_data"
    }
   ],
   "source": [
    "# b)\n",
    "\n",
    "# The rank r of A is three since this is the number of nonzero singular values.\n",
    "\n",
    "# The first three columns of U is an orthonormal basis for the column space\n",
    "\n",
    "# The last column of U is an orthonormal basis for the left nullspace, i.e. the nullspace of A transpose\n",
    "\n",
    "# The first three columns of V is is an orthonormal basis for the row space (= Column space of A transpose)\n",
    "\n",
    "# Since V only has three columns, the null space of A must be empty as this would have been the remaining columns of V.\n",
    "\n",
    "\n",
    "display(Math(r'Col A = ' + latex(U[:, 0]) + ' , ' + latex(U[:, 1]) + ' , ' + latex(U[:, 2])))\n",
    "display(Math(r'Nul A^T = ' + latex(U[:, -1])))\n",
    "display(Math(r'Col A^T = Row A = ' + latex(V[:, 0]) + ' , ' + latex(V[:, 1]) + ' , ' + latex(V[:, 2])))\n",
    "display(Math(r'Nul A = ' + latex([])))"
   ]
  }
 ],
 "metadata": {
  "kernelspec": {
   "display_name": "Python 3",
   "language": "python",
   "name": "python3"
  },
  "language_info": {
   "codemirror_mode": {
    "name": "ipython",
    "version": 3
   },
   "file_extension": ".py",
   "mimetype": "text/x-python",
   "name": "python",
   "nbconvert_exporter": "python",
   "pygments_lexer": "ipython3",
   "version": "3.7.6"
  }
 },
 "nbformat": 4,
 "nbformat_minor": 4
}
