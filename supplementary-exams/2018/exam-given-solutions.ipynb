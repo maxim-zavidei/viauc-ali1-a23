{
 "cells": [
  {
   "cell_type": "code",
   "execution_count": 1,
   "metadata": {},
   "outputs": [],
   "source": [
    "import sympy as sp\n",
    "import pandas as pd\n",
    "from sympy import *\n",
    "init_printing()\n",
    "from IPython.display import display, Latex"
   ]
  },
  {
   "cell_type": "markdown",
   "metadata": {},
   "source": [
    "## Assignment 1"
   ]
  },
  {
   "cell_type": "code",
   "execution_count": 29,
   "metadata": {},
   "outputs": [],
   "source": [
    "# a)\n",
    "\n",
    "# a. 𝐴 is not invertible - TRUE\n",
    "# b. 𝐴 is in echelon form - FALSE\n",
    "# c. 𝑁𝑢𝑙𝑙𝑖𝑡𝑦 𝐴 = 1 - TRUE\n",
    "# d. 𝑅𝑎𝑛𝑘 𝐴 = 3 - TRUE\n",
    "# e. 𝑁𝑢𝑙𝑙𝑖𝑡𝑦 𝐴 + 𝑟𝑎𝑛𝑘 𝐴 = 6 - FALSE\n",
    "# f. The number 0 is an eigenvalue of 𝐴 - TRUE\n",
    "# g. 𝐴 is in reduced echelon form - FALSE\n",
    "# h. There exists a vector 𝑥̅∈ℝ4 such that 𝐴𝑥̅=𝑏̅ is not consistent - FALSE\n",
    "# i. det𝐴=0 - TRUE"
   ]
  },
  {
   "cell_type": "code",
   "execution_count": 30,
   "metadata": {},
   "outputs": [],
   "source": [
    "# b) 2"
   ]
  },
  {
   "cell_type": "code",
   "execution_count": 31,
   "metadata": {},
   "outputs": [],
   "source": [
    "# c) distinct nonzero eigenvectors, therefore pivots in all columns, hence invertible, and they are distinct hence\n",
    "#    diagonalizable"
   ]
  },
  {
   "cell_type": "markdown",
   "metadata": {},
   "source": [
    "## Assignment 2"
   ]
  },
  {
   "cell_type": "code",
   "execution_count": 32,
   "metadata": {},
   "outputs": [
    {
     "name": "stdout",
     "output_type": "stream",
     "text": [
      " A basis for the eigenspace of -1:\n"
     ]
    },
    {
     "data": {
      "image/png": "[encoded data removed]",
      "text/latex": [
       "$$\\left[\\begin{matrix}- \\frac{3}{2}\\\\1\\\\0\\end{matrix}\\right]$$"
      ],
      "text/plain": [
       "⎡-3/2⎤\n",
       "⎢    ⎥\n",
       "⎢ 1  ⎥\n",
       "⎢    ⎥\n",
       "⎣ 0  ⎦"
      ]
     },
     "metadata": {},
     "output_type": "display_data"
    },
    {
     "name": "stdout",
     "output_type": "stream",
     "text": [
      " A basis for the eigenspace of 1:\n"
     ]
    },
    {
     "data": {
      "image/png": "[encoded data removed]",
      "text/latex": [
       "$$\\left[\\begin{matrix}1\\\\0\\\\0\\end{matrix}\\right]$$"
      ],
      "text/plain": [
       "⎡1⎤\n",
       "⎢ ⎥\n",
       "⎢0⎥\n",
       "⎢ ⎥\n",
       "⎣0⎦"
      ]
     },
     "metadata": {},
     "output_type": "display_data"
    }
   ],
   "source": [
    "# a) The eigenvalues of A are -1 and 1 where the latter has multiplicity 2.\n",
    "\n",
    "# Eigenspaces\n",
    "\n",
    "A = Matrix([\n",
    "      [1, 3, 1]\n",
    "    , [0, -1, 0]\n",
    "    , [0, 0, 1]\n",
    "])\n",
    "\n",
    "eig1 , eig2 = A.eigenvects()\n",
    "print(\" A basis for the eigenspace of -1:\")\n",
    "display(eig1[2][0])\n",
    "print(\" A basis for the eigenspace of 1:\")\n",
    "display(eig2[2][0])"
   ]
  },
  {
   "cell_type": "code",
   "execution_count": 33,
   "metadata": {},
   "outputs": [],
   "source": [
    "# b) Since the dimension of the eigenspace of 1 is 1, and the multiplicity of 1 is 2, A is not diagonalizable."
   ]
  },
  {
   "cell_type": "markdown",
   "metadata": {},
   "source": [
    "## Assignment 3"
   ]
  },
  {
   "cell_type": "code",
   "execution_count": 34,
   "metadata": {},
   "outputs": [
    {
     "data": {
      "text/latex": [
       "$$\\left[\\begin{matrix}3 & 5 & -4\\\\-3 & -2 & 4\\\\6 & 1 & -8\\end{matrix}\\right]\\left[\\begin{matrix}x\\\\y\\\\z\\end{matrix}\\right] = \\left[\\begin{matrix}7\\\\-1\\\\-4\\end{matrix}\\right]$$"
      ],
      "text/plain": [
       "<IPython.core.display.Latex object>"
      ]
     },
     "metadata": {},
     "output_type": "display_data"
    }
   ],
   "source": [
    "# a)\n",
    "A = Matrix([[3, 5, -4], [-3, -2, 4], [6, 1, -8]])\n",
    "b = Matrix([7, -1, -4])\n",
    "x, y, z = symbols('x y z')\n",
    "var = Matrix([x, y, z])\n",
    "display(Latex(\"$${}{} = {}$$\".format(latex(A), latex(var), latex(b))))"
   ]
  },
  {
   "cell_type": "code",
   "execution_count": 35,
   "metadata": {},
   "outputs": [
    {
     "name": "stdout",
     "output_type": "stream",
     "text": [
      "Augmented matrix:\n"
     ]
    },
    {
     "data": {
      "image/png": "[encoded data removed]",
      "text/latex": [
       "$$\\left[\\begin{matrix}3 & 5 & -4 & 7\\\\-3 & -2 & 4 & -1\\\\6 & 1 & -8 & -4\\end{matrix}\\right]$$"
      ],
      "text/plain": [
       "⎡3   5   -4  7 ⎤\n",
       "⎢              ⎥\n",
       "⎢-3  -2  4   -1⎥\n",
       "⎢              ⎥\n",
       "⎣6   1   -8  -4⎦"
      ]
     },
     "metadata": {},
     "output_type": "display_data"
    },
    {
     "name": "stdout",
     "output_type": "stream",
     "text": [
      "Echelon form:\n"
     ]
    },
    {
     "data": {
      "image/png": "[encoded data removed]",
      "text/latex": [
       "$$\\left[\\begin{matrix}3 & 5 & -4\\\\0 & 3 & 0\\\\0 & 0 & 0\\end{matrix}\\right]$$"
      ],
      "text/plain": [
       "⎡3  5  -4⎤\n",
       "⎢        ⎥\n",
       "⎢0  3  0 ⎥\n",
       "⎢        ⎥\n",
       "⎣0  0  0 ⎦"
      ]
     },
     "metadata": {},
     "output_type": "display_data"
    }
   ],
   "source": [
    "# b)\n",
    "print(\"Augmented matrix:\")\n",
    "A_aug = A.row_join(b)\n",
    "display(A_aug)\n",
    "\n",
    "print(\"Echelon form:\")\n",
    "L, U, perm = A.LUdecomposition()\n",
    "display(U)"
   ]
  },
  {
   "cell_type": "markdown",
   "metadata": {},
   "source": [
    "From the echelon form we conclude that column three is a non-pivot column, which means $z$ is a free variable."
   ]
  },
  {
   "cell_type": "code",
   "execution_count": 36,
   "metadata": {},
   "outputs": [
    {
     "data": {
      "image/png": "[encoded data removed]",
      "text/latex": [
       "$$\\left[\\begin{matrix}1 & 0 & - \\frac{4}{3} & -1\\\\0 & 1 & 0 & 2\\\\0 & 0 & 0 & 0\\end{matrix}\\right]$$"
      ],
      "text/plain": [
       "⎡1  0  -4/3  -1⎤\n",
       "⎢              ⎥\n",
       "⎢0  1   0    2 ⎥\n",
       "⎢              ⎥\n",
       "⎣0  0   0    0 ⎦"
      ]
     },
     "execution_count": 36,
     "metadata": {},
     "output_type": "execute_result"
    }
   ],
   "source": [
    "# c)\n",
    "A_aug_rref, _ = A_aug.rref()\n",
    "A_aug_rref"
   ]
  },
  {
   "cell_type": "code",
   "execution_count": 37,
   "metadata": {},
   "outputs": [
    {
     "data": {
      "text/latex": [
       "$$x = \\left[\\begin{matrix}-1\\\\2\\\\0\\end{matrix}\\right] + z\\left[\\begin{matrix}\\frac{4}{3}\\\\0\\\\1\\end{matrix}\\right]$$"
      ],
      "text/plain": [
       "<IPython.core.display.Latex object>"
      ]
     },
     "metadata": {},
     "output_type": "display_data"
    }
   ],
   "source": [
    "z_vec = Matrix([Rational(4,3), 0, 1])\n",
    "cons = Matrix([A_aug_rref[:,3]])\n",
    "display(Latex(\"$$x = {} + z{}$$\".format(latex(cons), latex(z_vec))))"
   ]
  },
  {
   "cell_type": "code",
   "execution_count": 38,
   "metadata": {},
   "outputs": [],
   "source": [
    "# d) In part b) we showed that the coefficient matrix A has a non-pivot column.\n",
    "#    This means that the matrix is non-invertible and hence does not have an inverse."
   ]
  },
  {
   "cell_type": "markdown",
   "metadata": {},
   "source": [
    "## Assignment 4"
   ]
  },
  {
   "cell_type": "code",
   "execution_count": 39,
   "metadata": {},
   "outputs": [],
   "source": [
    "a, b, c, d = symbols('a b c d')"
   ]
  },
  {
   "cell_type": "code",
   "execution_count": 40,
   "metadata": {},
   "outputs": [
    {
     "data": {
      "image/png": "[encoded data removed]",
      "text/latex": [
       "$$\\left [ \\right ]$$"
      ],
      "text/plain": [
       "[]"
      ]
     },
     "execution_count": 40,
     "metadata": {},
     "output_type": "execute_result"
    }
   ],
   "source": [
    "M = Matrix([[a, 0, d, c], [b, 0, -c, d], [0, c, -b, a], [0, d, a, b]])\n",
    "\n",
    "# Co-factor expansion on second column\n",
    "solve(M[0,1]*M.cofactor(0,1)+M[1,1]*M.cofactor(1,1)+\n",
    "      M[2,1]*M.cofactor(2,1)+M[3,1]*M.cofactor(3,1), a, b, c, d)"
   ]
  },
  {
   "cell_type": "code",
   "execution_count": 41,
   "metadata": {},
   "outputs": [
    {
     "data": {
      "image/png": "[encoded data removed]",
      "text/latex": [
       "$$\\left ( \\left[\\begin{matrix}1 & 0 & 0 & \\frac{c \\left(- a c - b d\\right) - d \\left(a d - b c\\right)}{a \\left(- a c - b d\\right)}\\\\0 & 1 & 0 & \\frac{a \\left(- a c - b d\\right) + b \\left(a d - b c\\right)}{c \\left(- a c - b d\\right)}\\\\0 & 0 & 1 & \\frac{a d - b c}{- a c - b d}\\\\0 & 0 & 0 & 0\\end{matrix}\\right], \\quad \\left ( 0, \\quad 1, \\quad 2\\right )\\right )$$"
      ],
      "text/plain": [
       "⎛⎡         c⋅(-a⋅c - b⋅d) - d⋅(a⋅d - b⋅c)⎤           ⎞\n",
       "⎜⎢1  0  0  ──────────────────────────────⎥           ⎟\n",
       "⎜⎢                 a⋅(-a⋅c - b⋅d)        ⎥           ⎟\n",
       "⎜⎢                                       ⎥           ⎟\n",
       "⎜⎢         a⋅(-a⋅c - b⋅d) + b⋅(a⋅d - b⋅c)⎥           ⎟\n",
       "⎜⎢0  1  0  ──────────────────────────────⎥           ⎟\n",
       "⎜⎢                 c⋅(-a⋅c - b⋅d)        ⎥, (0, 1, 2)⎟\n",
       "⎜⎢                                       ⎥           ⎟\n",
       "⎜⎢                   a⋅d - b⋅c           ⎥           ⎟\n",
       "⎜⎢0  0  1            ──────────          ⎥           ⎟\n",
       "⎜⎢                   -a⋅c - b⋅d          ⎥           ⎟\n",
       "⎜⎢                                       ⎥           ⎟\n",
       "⎝⎣0  0  0                0               ⎦           ⎠"
      ]
     },
     "execution_count": 41,
     "metadata": {},
     "output_type": "execute_result"
    }
   ],
   "source": [
    "# or\n",
    "M.rref()"
   ]
  },
  {
   "cell_type": "markdown",
   "metadata": {},
   "source": [
    "Since there is a zero on the diagonal, the determinant will always be zero."
   ]
  },
  {
   "cell_type": "markdown",
   "metadata": {},
   "source": [
    "## Assignment 5"
   ]
  },
  {
   "cell_type": "code",
   "execution_count": 43,
   "metadata": {},
   "outputs": [
    {
     "data": {
      "text/latex": [
       "$$a = 1$$"
      ],
      "text/plain": [
       "<IPython.core.display.Latex object>"
      ]
     },
     "metadata": {},
     "output_type": "display_data"
    }
   ],
   "source": [
    "# a)\n",
    "a = symbols('a')\n",
    "A = Matrix([\n",
    "      [a, 3, -1, 0, -2]\n",
    "    , [0, 2, -4, -1, -6]\n",
    "    , [-2, -6, 2, 3, 9]\n",
    "    , [3, 7, -3, 8, -7]\n",
    "    , [3, 5, 5, 2, 7]  \n",
    "])\n",
    "var = solve(A.det()-24,a)\n",
    "display(Latex(\"$$a = {}$$\".format(var[0])))"
   ]
  },
  {
   "cell_type": "code",
   "execution_count": 44,
   "metadata": {},
   "outputs": [
    {
     "data": {
      "image/png": "[encoded data removed]",
      "text/latex": [
       "$$\\left ( \\left[\\begin{matrix}1 & 0 & 0 & 0 & 0\\\\0 & 1 & 0 & 0 & 0\\\\0 & 0 & 1 & 0 & 0\\\\0 & 0 & 0 & 1 & 0\\\\0 & 0 & 0 & 0 & 1\\end{matrix}\\right], \\quad \\left ( 0, \\quad 1, \\quad 2, \\quad 3, \\quad 4\\right )\\right )$$"
      ],
      "text/plain": [
       "⎛⎡1  0  0  0  0⎤                 ⎞\n",
       "⎜⎢             ⎥                 ⎟\n",
       "⎜⎢0  1  0  0  0⎥                 ⎟\n",
       "⎜⎢             ⎥                 ⎟\n",
       "⎜⎢0  0  1  0  0⎥, (0, 1, 2, 3, 4)⎟\n",
       "⎜⎢             ⎥                 ⎟\n",
       "⎜⎢0  0  0  1  0⎥                 ⎟\n",
       "⎜⎢             ⎥                 ⎟\n",
       "⎝⎣0  0  0  0  1⎦                 ⎠"
      ]
     },
     "execution_count": 44,
     "metadata": {},
     "output_type": "execute_result"
    }
   ],
   "source": [
    "# b)\n",
    "A = Matrix([\n",
    "      [1, 3, -1, 0, -2]\n",
    "    , [0, 2, -4, -1, -6]\n",
    "    , [-2, -6, 2, 3, 9]\n",
    "    , [3, 7, -3, 8, -7]\n",
    "    , [3, 5, 5, 2, 7]  \n",
    "])\n",
    "\n",
    "A.rref()"
   ]
  },
  {
   "cell_type": "markdown",
   "metadata": {},
   "source": [
    "Since we have pivots in all columns, the columns of A necessarily form a basis for $\\mathbb{R}^5$"
   ]
  },
  {
   "cell_type": "code",
   "execution_count": 45,
   "metadata": {},
   "outputs": [
    {
     "data": {
      "image/png": "[encoded data removed]",
      "text/latex": [
       "$$\\left[\\begin{matrix}23 & 51 & 1 & 24 & -20\\\\51 & 123 & -19 & 46 & -86\\\\1 & -19 & 55 & -4 & 100\\\\24 & 46 & -4 & 78 & -9\\\\-20 & -86 & 100 & -9 & 219\\end{matrix}\\right]$$"
      ],
      "text/plain": [
       "⎡23   51    1   24  -20⎤\n",
       "⎢                      ⎥\n",
       "⎢51   123  -19  46  -86⎥\n",
       "⎢                      ⎥\n",
       "⎢ 1   -19  55   -4  100⎥\n",
       "⎢                      ⎥\n",
       "⎢24   46   -4   78  -9 ⎥\n",
       "⎢                      ⎥\n",
       "⎣-20  -86  100  -9  219⎦"
      ]
     },
     "execution_count": 45,
     "metadata": {},
     "output_type": "execute_result"
    }
   ],
   "source": [
    "# c)\n",
    "A.T*A"
   ]
  },
  {
   "cell_type": "markdown",
   "metadata": {},
   "source": [
    "Had $A$ been an orthogonal basis, the off-diagonals would have been 0's. To figure out which columns are orthogonal, we need to find the inner product between them. The dot products can be read in the above matrix which is called the Gramian Matrix. The dot product between columns $i$ and $j$, is exactly the entry in entry $i,j$ (and/or $j,i$). So the dot product between column 1 and 2 is 51. Since none of the off-diagonals are zero, none of the columns are orthogonal."
   ]
  },
  {
   "cell_type": "code",
   "execution_count": 46,
   "metadata": {},
   "outputs": [
    {
     "data": {
      "image/png": "[encoded data removed]",
      "text/latex": [
       "$$\\left[\\begin{matrix}23 & 0 & 0 & 0 & 0\\\\0 & \\frac{228}{23} & 0 & 0 & 0\\\\0 & 0 & \\frac{544}{57} & 0 & 0\\\\0 & 0 & 0 & \\frac{63}{17} & 0\\\\0 & 0 & 0 & 0 & \\frac{1}{14}\\end{matrix}\\right]$$"
      ],
      "text/plain": [
       "⎡23   0    0   0    0  ⎤\n",
       "⎢                      ⎥\n",
       "⎢    228               ⎥\n",
       "⎢0   ───   0   0    0  ⎥\n",
       "⎢     23               ⎥\n",
       "⎢                      ⎥\n",
       "⎢         544          ⎥\n",
       "⎢0    0   ───  0    0  ⎥\n",
       "⎢          57          ⎥\n",
       "⎢                      ⎥\n",
       "⎢              63      ⎥\n",
       "⎢0    0    0   ──   0  ⎥\n",
       "⎢              17      ⎥\n",
       "⎢                      ⎥\n",
       "⎣0    0    0   0   1/14⎦"
      ]
     },
     "execution_count": 46,
     "metadata": {},
     "output_type": "execute_result"
    }
   ],
   "source": [
    "# Gram Schmidt\n",
    "u1 = A[:,0]\n",
    "u2 = A[:,1]-A[:,1].project(u1)\n",
    "u3 = A[:,2]-A[:,2].project(u1)-A[:,2].project(u2)\n",
    "u4 = A[:,3]-A[:,3].project(u1)-A[:,3].project(u2)-A[:,3].project(u3)\n",
    "u5 = A[:,4]-A[:,4].project(u1)-A[:,4].project(u2)-A[:,4].project(u3)-A[:,4].project(u4)\n",
    "U = u1.row_join(u2).row_join(u3).row_join(u4).row_join(u5)\n",
    "U.T*U"
   ]
  },
  {
   "cell_type": "markdown",
   "metadata": {},
   "source": [
    "Since the off-diagonals are all 0's, we conclude that $U$ is an orthogonal basis."
   ]
  },
  {
   "cell_type": "markdown",
   "metadata": {},
   "source": [
    "## Assignment 6"
   ]
  },
  {
   "cell_type": "code",
   "execution_count": 47,
   "metadata": {},
   "outputs": [],
   "source": [
    "import sympy as sp\n",
    "from sympy import *\n",
    "init_printing()\n",
    "from IPython.display import display, Latex"
   ]
  },
  {
   "cell_type": "code",
   "execution_count": 48,
   "metadata": {},
   "outputs": [
    {
     "data": {
      "text/plain": [
       "dict_keys(['__header__', '__version__', '__globals__', 'CPU', 'Order_lines_per_day'])"
      ]
     },
     "execution_count": 48,
     "metadata": {},
     "output_type": "execute_result"
    }
   ],
   "source": [
    "from scipy.io import loadmat\n",
    "Data = loadmat(\"ALI2018_6.mat\")\n",
    "Data.keys()"
   ]
  },
  {
   "cell_type": "code",
   "execution_count": 49,
   "metadata": {},
   "outputs": [],
   "source": [
    "x = Data['Order_lines_per_day']\n",
    "y = Data['CPU']\n",
    "x = x.astype(float)"
   ]
  },
  {
   "cell_type": "code",
   "execution_count": 50,
   "metadata": {},
   "outputs": [
    {
     "data": {
      "text/latex": [
       "$$y_1(x) = 4.63+0.0019x$$"
      ],
      "text/plain": [
       "<IPython.core.display.Latex object>"
      ]
     },
     "metadata": {},
     "output_type": "display_data"
    }
   ],
   "source": [
    "# a) Design matrix for linear model\n",
    "\n",
    "X1 = Matrix([ones(len(x),1)]).row_join(Matrix(x))\n",
    "XtX = X1.T*X1\n",
    "Xty = X1.T*Matrix(y)\n",
    "Mat, _ = XtX.row_join(Xty).rref()\n",
    "B1 = Mat[:,-1]\n",
    "display(Latex(\"$$y_1(x) = {}+{}x$$\".format(round(B1[0],2), round(B1[1], 4))))"
   ]
  },
  {
   "cell_type": "code",
   "execution_count": 51,
   "metadata": {},
   "outputs": [
    {
     "data": {
      "text/latex": [
       "$$y_2(x) = 1.51+0.0043x-0.0x^2$$"
      ],
      "text/plain": [
       "<IPython.core.display.Latex object>"
      ]
     },
     "metadata": {},
     "output_type": "display_data"
    }
   ],
   "source": [
    "# a) Design matrix for quadratic model\n",
    "\n",
    "X2 = Matrix([ones(len(x),1)]).row_join(Matrix(x)).row_join(Matrix(x**2))\n",
    "XtX = X2.T*X2\n",
    "Xty = X2.T*Matrix(y)\n",
    "Mat, _ = XtX.row_join(Xty).rref()\n",
    "B2 = Mat[:,-1]\n",
    "display(Latex(\"$$y_2(x) = {}+{}x{}x^2$$\"\n",
    "              .format(round(B2[0],2), round(B2[1], 4), round(B2[2], 4))))"
   ]
  },
  {
   "cell_type": "code",
   "execution_count": 52,
   "metadata": {},
   "outputs": [
    {
     "data": {
      "image/png": "[encoded data removed]",
      "text/latex": [
       "$$-1.59605429178864 \\cdot 10^{-7}$$"
      ],
      "text/plain": [
       "-1.59605429178864e-7"
      ]
     },
     "execution_count": 52,
     "metadata": {},
     "output_type": "execute_result"
    }
   ],
   "source": [
    "# We see that the coefficient for the quadratic part is very small. It's actual value is\n",
    "B2[2]"
   ]
  },
  {
   "cell_type": "code",
   "execution_count": 53,
   "metadata": {},
   "outputs": [
    {
     "data": {
      "text/latex": [
       "The error of the linear model is 42.7, and the error of the quadratic is model 37.87. We conclude that the quadratic model has the best fit for this specific data."
      ],
      "text/plain": [
       "<IPython.core.display.Latex object>"
      ]
     },
     "metadata": {},
     "output_type": "display_data"
    }
   ],
   "source": [
    "# b)\n",
    "\n",
    "display(Latex(\n",
    "    \"The error of the linear model is {}, and the error of the quadratic is model {}.\"\n",
    "    \" We conclude that the quadratic model has the best fit for this specific data.\"\n",
    "    .format(round((y-X1*B1).norm(), 2), round((y-X2*B2).norm(), 2))))"
   ]
  },
  {
   "cell_type": "code",
   "execution_count": 54,
   "metadata": {},
   "outputs": [
    {
     "data": {
      "text/latex": [
       "$$y_2(20000) = 23.16$$"
      ],
      "text/plain": [
       "<IPython.core.display.Latex object>"
      ]
     },
     "metadata": {},
     "output_type": "display_data"
    }
   ],
   "source": [
    "# c)\n",
    "\n",
    "display(Latex(\"$$y_2(20000) = {}$$\".format(round(B2[0]+B2[1]*20000+B2[2]*20000**2, 2))))"
   ]
  },
  {
   "cell_type": "markdown",
   "metadata": {},
   "source": [
    "## Assignment 7"
   ]
  },
  {
   "cell_type": "code",
   "execution_count": 99,
   "metadata": {},
   "outputs": [],
   "source": [
    "# This assignment had no (real) solution. Will be explained in class."
   ]
  }
 ],
 "metadata": {
  "kernelspec": {
   "display_name": "Python 3",
   "language": "python",
   "name": "python3"
  },
  "language_info": {
   "codemirror_mode": {
    "name": "ipython",
    "version": 3
   },
   "file_extension": ".py",
   "mimetype": "text/x-python",
   "name": "python",
   "nbconvert_exporter": "python",
   "pygments_lexer": "ipython3",
   "version": "3.7.6"
  }
 },
 "nbformat": 4,
 "nbformat_minor": 2
}
