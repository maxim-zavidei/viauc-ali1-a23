{
 "cells": [
  {
   "cell_type": "code",
   "execution_count": 11,
   "metadata": {},
   "outputs": [],
   "source": [
    "import sympy as sp\n",
    "from sympy import *\n",
    "init_printing()\n",
    "from IPython.display import display, Latex, HTML, Math\n",
    "import numpy as np"
   ]
  },
  {
   "cell_type": "markdown",
   "metadata": {},
   "source": [
    "## Assignment 1"
   ]
  },
  {
   "cell_type": "code",
   "execution_count": 2,
   "metadata": {},
   "outputs": [],
   "source": [
    "# a)\n",
    "\n",
    "# 1: False\n",
    "# 2: True\n",
    "# 3: False\n",
    "# 4: True\n",
    "# 5: False\n",
    "# 6: True\n",
    "# 7: False\n",
    "# 8: False\n",
    "# 9: True"
   ]
  },
  {
   "cell_type": "code",
   "execution_count": 3,
   "metadata": {},
   "outputs": [],
   "source": [
    "# b)\n",
    "# 2 is True"
   ]
  },
  {
   "cell_type": "code",
   "execution_count": 7,
   "metadata": {},
   "outputs": [
    {
     "data": {
      "image/png": "[encoded data removed]",
      "text/latex": [
       "$$\\left ( \\left[\\begin{matrix}1 & - \\frac{1}{2} & \\frac{3}{2}\\end{matrix}\\right], \\quad \\left ( 0\\right )\\right )$$"
      ],
      "text/plain": [
       "([1  -1/2  3/2], (0,))"
      ]
     },
     "execution_count": 7,
     "metadata": {},
     "output_type": "execute_result"
    }
   ],
   "source": [
    "# c)\n",
    "# Invertible since it has 4 non-zero eigenvalues\n",
    "# It is diagonalizable since it has 4 distinct eigenvalues\n",
    "A = Matrix([2, -1, 3]).T\n",
    "A.rref()"
   ]
  },
  {
   "cell_type": "code",
   "execution_count": 8,
   "metadata": {},
   "outputs": [],
   "source": [
    "# d) Dim V = 3"
   ]
  },
  {
   "cell_type": "markdown",
   "metadata": {},
   "source": [
    "## Assignment 2"
   ]
  },
  {
   "cell_type": "code",
   "execution_count": 9,
   "metadata": {},
   "outputs": [],
   "source": [
    "a, b, x1, x2, x3 = symbols('a b x1 x2 x3')"
   ]
  },
  {
   "cell_type": "code",
   "execution_count": 12,
   "metadata": {},
   "outputs": [
    {
     "data": {
      "image/png": "[encoded data removed]",
      "text/latex": [
       "$$- 3 a + 18$$"
      ],
      "text/plain": [
       "-3⋅a + 18"
      ]
     },
     "execution_count": 12,
     "metadata": {},
     "output_type": "execute_result"
    }
   ],
   "source": [
    "# a)\n",
    "A = Matrix([[-1, 3, 2], [1, 0, 1], [3, 3, a]])\n",
    "A[1,0]*A.cofactor(1,0)+A[1,2]*A.cofactor(1,2)"
   ]
  },
  {
   "cell_type": "code",
   "execution_count": 17,
   "metadata": {},
   "outputs": [
    {
     "data": {
      "image/png": "[encoded data removed]",
      "text/latex": [
       "$$\\left[\\begin{matrix}-1 & 3 & 2 & -8\\\\0 & 3 & 3 & -6\\\\0 & 0 & a - 6 & b\\end{matrix}\\right]$$"
      ],
      "text/plain": [
       "⎡-1  3    2    -8⎤\n",
       "⎢                ⎥\n",
       "⎢0   3    3    -6⎥\n",
       "⎢                ⎥\n",
       "⎣0   0  a - 6  b ⎦"
      ]
     },
     "execution_count": 17,
     "metadata": {},
     "output_type": "execute_result"
    }
   ],
   "source": [
    "# b)\n",
    "B = Matrix([-8, 2, b])\n",
    "L, U, perm = A.row_join(B).LUdecomposition()\n",
    "U"
   ]
  },
  {
   "cell_type": "code",
   "execution_count": 16,
   "metadata": {},
   "outputs": [
    {
     "data": {
      "image/png": "[encoded data removed]",
      "text/latex": [
       "$$\\left[\\begin{matrix}-1 & 3 & 2 & -8\\\\0 & 3 & 3 & -6\\\\0 & 0 & a - 6 & b\\end{matrix}\\right]$$"
      ],
      "text/plain": [
       "⎡-1  3    2    -8⎤\n",
       "⎢                ⎥\n",
       "⎢0   3    3    -6⎥\n",
       "⎢                ⎥\n",
       "⎣0   0  a - 6  b ⎦"
      ]
     },
     "execution_count": 16,
     "metadata": {},
     "output_type": "execute_result"
    }
   ],
   "source": [
    "# So A != 6"
   ]
  },
  {
   "cell_type": "code",
   "execution_count": 18,
   "metadata": {},
   "outputs": [],
   "source": [
    "# c) a = 6 and b != 0\n",
    "\n",
    "# d) a = 6 and b = 0"
   ]
  },
  {
   "cell_type": "markdown",
   "metadata": {},
   "source": [
    "## Assignment 3"
   ]
  },
  {
   "cell_type": "code",
   "execution_count": 3,
   "metadata": {},
   "outputs": [
    {
     "data": {
      "text/latex": [
       "$$\\left[\\begin{matrix}1 & -1 & 3\\\\2 & 1 & 0\\\\-1 & -5 & 9\\end{matrix}\\right]\\left[\\begin{matrix}x\\\\y\\\\z\\end{matrix}\\right] = \\left[\\begin{matrix}1\\\\5\\\\-7\\end{matrix}\\right]$$"
      ],
      "text/plain": [
       "<IPython.core.display.Latex object>"
      ]
     },
     "metadata": {},
     "output_type": "display_data"
    }
   ],
   "source": [
    "A = Matrix([[1, -1, 3], [2, 1, 0], [-1, -5, 9]])\n",
    "b = Matrix([1, 5, -7])\n",
    "x, y, z = symbols('x y z')\n",
    "var = Matrix([x, y, z])\n",
    "display(Latex(\"$${}{} = {}$$\".format(latex(A), latex(var), latex(b))))"
   ]
  },
  {
   "cell_type": "code",
   "execution_count": 4,
   "metadata": {},
   "outputs": [
    {
     "data": {
      "image/png": "[encoded data removed]",
      "text/latex": [
       "$\\displaystyle \\left[\\begin{matrix}1 & -1 & 3 & 1\\\\2 & 1 & 0 & 5\\\\-1 & -5 & 9 & -7\\end{matrix}\\right]$"
      ],
      "text/plain": [
       "⎡1   -1  3  1 ⎤\n",
       "⎢             ⎥\n",
       "⎢2   1   0  5 ⎥\n",
       "⎢             ⎥\n",
       "⎣-1  -5  9  -7⎦"
      ]
     },
     "metadata": {},
     "output_type": "display_data"
    },
    {
     "data": {
      "image/png": "[encoded data removed]",
      "text/latex": [
       "$\\displaystyle \\left[\\begin{matrix}1 & -1 & 3 & 1\\\\0 & 3 & -6 & 3\\\\0 & 0 & 0 & 0\\end{matrix}\\right]$"
      ],
      "text/plain": [
       "⎡1  -1  3   1⎤\n",
       "⎢            ⎥\n",
       "⎢0  3   -6  3⎥\n",
       "⎢            ⎥\n",
       "⎣0  0   0   0⎦"
      ]
     },
     "metadata": {},
     "output_type": "display_data"
    }
   ],
   "source": [
    "# b)\n",
    "display(A.row_join(b))\n",
    "L, U, perm = A.row_join(b).LUdecomposition()\n",
    "display(U)"
   ]
  },
  {
   "cell_type": "code",
   "execution_count": 5,
   "metadata": {},
   "outputs": [
    {
     "data": {
      "text/latex": [
       "$$\\left[\\begin{matrix}x\\\\y\\\\z\\end{matrix}\\right] = \\left[\\begin{matrix}2\\\\1\\\\0\\end{matrix}\\right]+z\\left[\\begin{matrix}-1\\\\2\\\\1\\end{matrix}\\right]$$"
      ],
      "text/plain": [
       "<IPython.core.display.Latex object>"
      ]
     },
     "metadata": {},
     "output_type": "display_data"
    }
   ],
   "source": [
    "# c)\n",
    "A.row_join(b).rref()\n",
    "coef = Matrix([2, 1, 0])\n",
    "display(Latex(\"$${} = {}+z{}$$\".format(latex(var), latex(coef), latex(A.nullspace()[0]))))"
   ]
  },
  {
   "cell_type": "code",
   "execution_count": 24,
   "metadata": {},
   "outputs": [],
   "source": [
    "# d) A inverse does not exist since it has a free variable."
   ]
  },
  {
   "cell_type": "markdown",
   "metadata": {},
   "source": [
    "## Assignment 4"
   ]
  },
  {
   "cell_type": "code",
   "execution_count": 6,
   "metadata": {},
   "outputs": [],
   "source": [
    "A = Matrix([[1,4], [3, 2]])"
   ]
  },
  {
   "cell_type": "code",
   "execution_count": 7,
   "metadata": {},
   "outputs": [
    {
     "data": {
      "image/png": "[encoded data removed]",
      "text/latex": [
       "$\\displaystyle \\left[ \\left( -2, \\  1, \\  \\left[ \\left[\\begin{matrix}- \\frac{4}{3}\\\\1\\end{matrix}\\right]\\right]\\right), \\  \\left( 5, \\  1, \\  \\left[ \\left[\\begin{matrix}1\\\\1\\end{matrix}\\right]\\right]\\right)\\right]$"
      ],
      "text/plain": [
       "⎡⎛       ⎡⎡-4/3⎤⎤⎞  ⎛      ⎡⎡1⎤⎤⎞⎤\n",
       "⎢⎜-2, 1, ⎢⎢    ⎥⎥⎟, ⎜5, 1, ⎢⎢ ⎥⎥⎟⎥\n",
       "⎣⎝       ⎣⎣ 1  ⎦⎦⎠  ⎝      ⎣⎣1⎦⎦⎠⎦"
      ]
     },
     "execution_count": 7,
     "metadata": {},
     "output_type": "execute_result"
    }
   ],
   "source": [
    "A = Matrix([[1,4], [3, 2]])\n",
    "\n",
    "# a)\n",
    "\n",
    "# First we check whether A is diagonalizable\n",
    "\n",
    "vecs = A.eigenvects()\n",
    "vecs"
   ]
  },
  {
   "cell_type": "code",
   "execution_count": 33,
   "metadata": {},
   "outputs": [
    {
     "data": {
      "image/png": "[encoded data removed]",
      "text/latex": [
       "$$\\left[\\begin{matrix}1 & 4\\\\3 & 2\\end{matrix}\\right]$$"
      ],
      "text/plain": [
       "⎡1  4⎤\n",
       "⎢    ⎥\n",
       "⎣3  2⎦"
      ]
     },
     "execution_count": 33,
     "metadata": {},
     "output_type": "execute_result"
    }
   ],
   "source": [
    "# Since it has distinct eigenvalues, it will be diagonalizable.\n",
    "d1 = vecs[1][0]\n",
    "d2 = vecs[0][0]\n",
    "q1 = vecs[1][2][0]\n",
    "q2 = vecs[0][2][0]\n",
    "Q = q1.row_join(q2)\n",
    "Qinv = Q**-1\n",
    "D = diag(d1, d2)\n",
    "Q*D*Qinv"
   ]
  },
  {
   "cell_type": "code",
   "execution_count": 14,
   "metadata": {},
   "outputs": [
    {
     "data": {
      "text/latex": [
       "$\\displaystyle A^n = Q\\times D^n \\times Q^{-1}$"
      ],
      "text/plain": [
       "<IPython.core.display.Math object>"
      ]
     },
     "metadata": {},
     "output_type": "display_data"
    }
   ],
   "source": [
    "# b)\n",
    "# A^n = Q*D^n*Qinv\n",
    "display(Math(r'A^n = Q\\times D^n \\times Q^{-1}'))"
   ]
  },
  {
   "cell_type": "markdown",
   "metadata": {},
   "source": [
    "## Assignment 5"
   ]
  },
  {
   "cell_type": "code",
   "execution_count": 15,
   "metadata": {},
   "outputs": [
    {
     "data": {
      "image/png": "[encoded data removed]",
      "text/latex": [
       "$\\displaystyle \\left[\\begin{matrix}1 & -1 & 3 & 1\\\\-1 & 10 & -21 & 8\\\\3 & -21 & 45 & -15\\\\1 & 8 & -15 & 10\\end{matrix}\\right]$"
      ],
      "text/plain": [
       "⎡1   -1    3    1 ⎤\n",
       "⎢                 ⎥\n",
       "⎢-1  10   -21   8 ⎥\n",
       "⎢                 ⎥\n",
       "⎢3   -21  45   -15⎥\n",
       "⎢                 ⎥\n",
       "⎣1    8   -15  10 ⎦"
      ]
     },
     "metadata": {},
     "output_type": "display_data"
    }
   ],
   "source": [
    "v1 = Matrix([1, 0, 0, 1])\n",
    "x2 = Matrix([1, 0, 1, 1])\n",
    "x3 = Matrix([3, 2, 1, 1])\n",
    "v2 = x2-x2.project(v1)\n",
    "v3 = x3-x3.project(v2)-x3.project(v1)\n",
    "# So v1, v2 and v3 will now form an orthogonal basis for W.\n",
    "\n",
    "# b)\n",
    "u1 = v1.normalized()\n",
    "u2 = v2.normalized()\n",
    "u3 = v3.normalized()\n",
    "display(U.T*U)\n",
    "# So u1, u2, and u3 now form an orthonormal basis for W"
   ]
  },
  {
   "cell_type": "markdown",
   "metadata": {},
   "source": [
    "## Assignment 6"
   ]
  },
  {
   "cell_type": "code",
   "execution_count": 36,
   "metadata": {},
   "outputs": [
    {
     "data": {
      "text/plain": [
       "dict_keys(['__header__', '__version__', '__globals__', 'X'])"
      ]
     },
     "execution_count": 36,
     "metadata": {},
     "output_type": "execute_result"
    }
   ],
   "source": [
    "from scipy.io import loadmat\n",
    "Data = loadmat(\"TV_Viewing.mat\")\n",
    "Data.keys()"
   ]
  },
  {
   "cell_type": "code",
   "execution_count": 77,
   "metadata": {},
   "outputs": [],
   "source": [
    "import numpy as np\n",
    "Mat = Matrix(Data['X'])\n",
    "x = np.array(Mat[:,0])\n",
    "y1 = np.array(Mat[:,1])\n",
    "y = y1.astype(float)"
   ]
  },
  {
   "cell_type": "code",
   "execution_count": 67,
   "metadata": {},
   "outputs": [
    {
     "data": {
      "text/latex": [
       "$$y_1(x) = 37.28+0.9981x$$"
      ],
      "text/plain": [
       "<IPython.core.display.Latex object>"
      ]
     },
     "metadata": {},
     "output_type": "display_data"
    }
   ],
   "source": [
    "# a) Design matrix for linear model\n",
    "\n",
    "X1 = Matrix([ones(len(x),1)]).row_join(Matrix(x))\n",
    "XtX = X1.T*X1\n",
    "Xty = X1.T*Matrix(y)\n",
    "Mat, _ = XtX.row_join(Xty).rref()\n",
    "B1 = Mat[:,-1]\n",
    "display(Latex(\"$$y_1(x) = {}+{}x$$\".format(round(B1[0],2), round(B1[1], 4))))"
   ]
  },
  {
   "cell_type": "code",
   "execution_count": 68,
   "metadata": {},
   "outputs": [
    {
     "data": {
      "text/latex": [
       "$$y_2(x) = 52.75+0.2018x+0.0088x^2$$"
      ],
      "text/plain": [
       "<IPython.core.display.Latex object>"
      ]
     },
     "metadata": {},
     "output_type": "display_data"
    }
   ],
   "source": [
    "# a) Design matrix for quadratic model\n",
    "\n",
    "X2 = Matrix([ones(len(x),1)]).row_join(Matrix(x)).row_join(Matrix(x**2))\n",
    "XtX = X2.T*X2\n",
    "Xty = X2.T*Matrix(y)\n",
    "Mat, _ = XtX.row_join(Xty).rref()\n",
    "B2 = Mat[:,-1]\n",
    "display(Latex(\"$$y_2(x) = {}+{}x+{}x^2$$\"\n",
    "              .format(round(B2[0],2), round(B2[1], 4), round(B2[2], 4))))"
   ]
  },
  {
   "cell_type": "code",
   "execution_count": 78,
   "metadata": {},
   "outputs": [
    {
     "data": {
      "text/latex": [
       "The error of the linear model is 161.79, and the error of the quadratic is model 157.63. We conclude that the quadratic model has the best fit for this specific data."
      ],
      "text/plain": [
       "<IPython.core.display.Latex object>"
      ]
     },
     "metadata": {},
     "output_type": "display_data"
    }
   ],
   "source": [
    "# b)\n",
    "\n",
    "display(Latex(\n",
    "    \"The error of the linear model is {}, and the error of the quadratic is model {}.\"\n",
    "    \" We conclude that the quadratic model has the best fit for this specific data.\"\n",
    "    .format(round((y-X1*B1).norm(), 2), round((y-X2*B2).norm(), 2))))"
   ]
  },
  {
   "cell_type": "markdown",
   "metadata": {},
   "source": [
    "## Assignment 7"
   ]
  },
  {
   "cell_type": "code",
   "execution_count": 79,
   "metadata": {},
   "outputs": [
    {
     "data": {
      "image/png": "[encoded data removed]",
      "text/latex": [
       "$$\\left[\\begin{matrix}3 & 1 & 1\\\\-1 & 3 & 1\\end{matrix}\\right]$$"
      ],
      "text/plain": [
       "⎡3   1  1⎤\n",
       "⎢        ⎥\n",
       "⎣-1  3  1⎦"
      ]
     },
     "execution_count": 79,
     "metadata": {},
     "output_type": "execute_result"
    }
   ],
   "source": [
    "A = Matrix([[3, 1, 1], [-1, 3, 1]])\n",
    "A"
   ]
  },
  {
   "cell_type": "code",
   "execution_count": 82,
   "metadata": {},
   "outputs": [
    {
     "data": {
      "image/png": "[encoded data removed]",
      "text/latex": [
       "$$\\left [ \\left ( 0, \\quad 1, \\quad \\left [ \\left[\\begin{matrix}- \\frac{1}{5}\\\\- \\frac{2}{5}\\\\1\\end{matrix}\\right]\\right ]\\right ), \\quad \\left ( 10, \\quad 1, \\quad \\left [ \\left[\\begin{matrix}-2\\\\1\\\\0\\end{matrix}\\right]\\right ]\\right ), \\quad \\left ( 12, \\quad 1, \\quad \\left [ \\left[\\begin{matrix}1\\\\2\\\\1\\end{matrix}\\right]\\right ]\\right )\\right ]$$"
      ],
      "text/plain": [
       "⎡⎛      ⎡⎡-1/5⎤⎤⎞  ⎛       ⎡⎡-2⎤⎤⎞  ⎛       ⎡⎡1⎤⎤⎞⎤\n",
       "⎢⎜      ⎢⎢    ⎥⎥⎟  ⎜       ⎢⎢  ⎥⎥⎟  ⎜       ⎢⎢ ⎥⎥⎟⎥\n",
       "⎢⎜0, 1, ⎢⎢-2/5⎥⎥⎟, ⎜10, 1, ⎢⎢1 ⎥⎥⎟, ⎜12, 1, ⎢⎢2⎥⎥⎟⎥\n",
       "⎢⎜      ⎢⎢    ⎥⎥⎟  ⎜       ⎢⎢  ⎥⎥⎟  ⎜       ⎢⎢ ⎥⎥⎟⎥\n",
       "⎣⎝      ⎣⎣ 1  ⎦⎦⎠  ⎝       ⎣⎣0 ⎦⎦⎠  ⎝       ⎣⎣1⎦⎦⎠⎦"
      ]
     },
     "execution_count": 82,
     "metadata": {},
     "output_type": "execute_result"
    }
   ],
   "source": [
    "AtA = A.T*A\n",
    "vecs = AtA.eigenvects()\n",
    "vecs"
   ]
  },
  {
   "cell_type": "code",
   "execution_count": 88,
   "metadata": {},
   "outputs": [
    {
     "data": {
      "image/png": "[encoded data removed]",
      "text/latex": [
       "$$\\left[\\begin{matrix}3 & 1 & 1\\\\-1 & 3 & 1\\end{matrix}\\right]$$"
      ],
      "text/plain": [
       "⎡3   1  1⎤\n",
       "⎢        ⎥\n",
       "⎣-1  3  1⎦"
      ]
     },
     "execution_count": 88,
     "metadata": {},
     "output_type": "execute_result"
    }
   ],
   "source": [
    "s1 = sqrt(vecs[2][0])\n",
    "s2 = sqrt(vecs[1][0])\n",
    "v1 = vecs[2][2][0].normalized()\n",
    "v2 = vecs[1][2][0].normalized()\n",
    "v3 = vecs[0][2][0].normalized()\n",
    "u1 = (s1**-1)*A*v1\n",
    "u2 = (s2**-1)*A*v2\n",
    "U = u1.row_join(u2)\n",
    "V = v1.row_join(v2).row_join(v3)\n",
    "Vt = V.T\n",
    "S = Matrix(diag(s1, s2)).row_join(zeros(2,1))\n",
    "U*S*Vt"
   ]
  }
 ],
 "metadata": {
  "kernelspec": {
   "display_name": "Python 3",
   "language": "python",
   "name": "python3"
  },
  "language_info": {
   "codemirror_mode": {
    "name": "ipython",
    "version": 3
   },
   "file_extension": ".py",
   "mimetype": "text/x-python",
   "name": "python",
   "nbconvert_exporter": "python",
   "pygments_lexer": "ipython3",
   "version": "3.7.6"
  }
 },
 "nbformat": 4,
 "nbformat_minor": 4
}
