{
 "cells": [
  {
   "cell_type": "code",
   "execution_count": 1,
   "metadata": {},
   "outputs": [],
   "source": [
    "import sympy as sp\n",
    "from sympy import *\n",
    "init_printing()"
   ]
  },
  {
   "cell_type": "markdown",
   "metadata": {},
   "source": [
    "#### Defining a matrix"
   ]
  },
  {
   "cell_type": "code",
   "execution_count": 3,
   "metadata": {},
   "outputs": [
    {
     "data": {
      "image/png": "[encoded data removed]",
      "text/latex": [
       "$$\\left[\\begin{matrix}1 & 0 & -2\\\\-3 & 1 & 4\\\\2 & -3 & 4\\end{matrix}\\right]$$"
      ],
      "text/plain": [
       "⎡1   0   -2⎤\n",
       "⎢          ⎥\n",
       "⎢-3  1   4 ⎥\n",
       "⎢          ⎥\n",
       "⎣2   -3  4 ⎦"
      ]
     },
     "execution_count": 3,
     "metadata": {},
     "output_type": "execute_result"
    }
   ],
   "source": [
    "A = Matrix([\n",
    "      [1, 0, -2]\n",
    "    , [-3, 1, 4]\n",
    "    , [2, -3, 4]\n",
    "])\n",
    "A"
   ]
  },
  {
   "cell_type": "markdown",
   "metadata": {},
   "source": [
    "#### Defining a Vector"
   ]
  },
  {
   "cell_type": "code",
   "execution_count": 2,
   "metadata": {},
   "outputs": [
    {
     "data": {
      "image/png": "[encoded data removed]",
      "text/latex": [
       "$$\\left[\\begin{matrix}1\\\\2\\\\3\\\\4\\end{matrix}\\right]$$"
      ],
      "text/plain": [
       "⎡1⎤\n",
       "⎢ ⎥\n",
       "⎢2⎥\n",
       "⎢ ⎥\n",
       "⎢3⎥\n",
       "⎢ ⎥\n",
       "⎣4⎦"
      ]
     },
     "execution_count": 2,
     "metadata": {},
     "output_type": "execute_result"
    }
   ],
   "source": [
    "v = Matrix([1, 2, 3, 4])\n",
    "v"
   ]
  },
  {
   "cell_type": "markdown",
   "metadata": {},
   "source": [
    "#### The Identity Matrix"
   ]
  },
  {
   "cell_type": "code",
   "execution_count": 4,
   "metadata": {},
   "outputs": [
    {
     "data": {
      "image/png": "[encoded data removed]",
      "text/latex": [
       "$$\\left[\\begin{matrix}1 & 0 & 0 & 0\\\\0 & 1 & 0 & 0\\\\0 & 0 & 1 & 0\\\\0 & 0 & 0 & 1\\end{matrix}\\right]$$"
      ],
      "text/plain": [
       "⎡1  0  0  0⎤\n",
       "⎢          ⎥\n",
       "⎢0  1  0  0⎥\n",
       "⎢          ⎥\n",
       "⎢0  0  1  0⎥\n",
       "⎢          ⎥\n",
       "⎣0  0  0  1⎦"
      ]
     },
     "execution_count": 4,
     "metadata": {},
     "output_type": "execute_result"
    }
   ],
   "source": [
    "n = 4 # size of the n x n Matrix\n",
    "I = eye(n)\n",
    "I"
   ]
  },
  {
   "cell_type": "markdown",
   "metadata": {},
   "source": [
    "#### Join Two Matrices"
   ]
  },
  {
   "cell_type": "code",
   "execution_count": 5,
   "metadata": {},
   "outputs": [
    {
     "data": {
      "image/png": "[encoded data removed]",
      "text/latex": [
       "$$\\left[\\begin{matrix}3 & 6 & 1 & 0\\\\4 & 7 & 0 & 1\\end{matrix}\\right]$$"
      ],
      "text/plain": [
       "⎡3  6  1  0⎤\n",
       "⎢          ⎥\n",
       "⎣4  7  0  1⎦"
      ]
     },
     "execution_count": 5,
     "metadata": {},
     "output_type": "execute_result"
    }
   ],
   "source": [
    "A =Matrix([\n",
    "      [3, 6]\n",
    "    , [4, 7]\n",
    "])\n",
    "I = eye(2)\n",
    "A_I = A.row_join(I)row_join\n",
    "A_I"
   ]
  },
  {
   "cell_type": "markdown",
   "metadata": {},
   "source": [
    "#### Basic Arithmetic Operations"
   ]
  },
  {
   "cell_type": "code",
   "execution_count": 20,
   "metadata": {},
   "outputs": [
    {
     "data": {
      "image/png": "[encoded data removed]",
      "text/latex": [
       "$$\\left[\\begin{matrix}8 & 3 & 1\\\\10 & 4 & 1\\\\\\frac{7}{2} & \\frac{3}{2} & \\frac{1}{2}\\end{matrix}\\right]$$"
      ],
      "text/plain": [
       "⎡ 8    3    1 ⎤\n",
       "⎢             ⎥\n",
       "⎢10    4    1 ⎥\n",
       "⎢             ⎥\n",
       "⎣7/2  3/2  1/2⎦"
      ]
     },
     "execution_count": 20,
     "metadata": {},
     "output_type": "execute_result"
    }
   ],
   "source": [
    "A = Matrix([\n",
    "      [1, 0, -2]\n",
    "    , [-3, 1, 4]\n",
    "    , [2, -3, 4]\n",
    "])\n",
    "\n",
    "B = randMatrix(3, max = 9, seed = 0, percent = 100)\n",
    "\n",
    "# Scaling\n",
    "2*A\n",
    "\n",
    "# Multiply two Matrices\n",
    "A*B\n",
    "\n",
    "# Transpose\n",
    "A.T\n",
    "\n",
    "# Inverse\n",
    "A**-1\n",
    "\n",
    "# or\n",
    "A.inv()"
   ]
  },
  {
   "cell_type": "markdown",
   "metadata": {},
   "source": [
    "#### Determinant and Transpose"
   ]
  },
  {
   "cell_type": "code",
   "execution_count": 45,
   "metadata": {},
   "outputs": [
    {
     "data": {
      "image/png": "[encoded data removed]",
      "text/latex": [
       "$$\\left[\\begin{matrix}1 & 3 & 2\\\\2 & 6 & 0\\\\3 & 2 & 1\\end{matrix}\\right]$$"
      ],
      "text/plain": [
       "⎡1  3  2⎤\n",
       "⎢       ⎥\n",
       "⎢2  6  0⎥\n",
       "⎢       ⎥\n",
       "⎣3  2  1⎦"
      ]
     },
     "execution_count": 45,
     "metadata": {},
     "output_type": "execute_result"
    }
   ],
   "source": [
    "# Determinant\n",
    "M = Matrix(( [1, 2, 3], [3, 6, 2], [2, 0, 1] ))\n",
    "M.det()\n",
    "\n",
    "# Transpose\n",
    "M.T"
   ]
  },
  {
   "cell_type": "markdown",
   "metadata": {},
   "source": [
    "#### Echelon form: 0's below and to the left of pivots"
   ]
  },
  {
   "cell_type": "code",
   "execution_count": 64,
   "metadata": {},
   "outputs": [
    {
     "data": {
      "image/png": "[encoded data removed]",
      "text/latex": [
       "$$\\left[\\begin{matrix}1 & 2 & 3\\\\0 & 0 & -7\\\\2 & 0 & 1\\end{matrix}\\right]$$"
      ],
      "text/plain": [
       "⎡1  2  3 ⎤\n",
       "⎢        ⎥\n",
       "⎢0  0  -7⎥\n",
       "⎢        ⎥\n",
       "⎣2  0  1 ⎦"
      ]
     },
     "execution_count": 64,
     "metadata": {},
     "output_type": "execute_result"
    }
   ],
   "source": [
    "M = Matrix(( [1, 2, 3], [3, 6, 2], [2, 0, 1] ))\n",
    "# r2 becomes r2-3r1\n",
    "M[1,:] = M[1,:]-3*M[0,:]\n",
    "M"
   ]
  },
  {
   "cell_type": "code",
   "execution_count": 65,
   "metadata": {},
   "outputs": [
    {
     "data": {
      "image/png": "[encoded data removed]",
      "text/latex": [
       "$$\\left[\\begin{matrix}1 & 2 & 3\\\\0 & 0 & -7\\\\0 & -4 & -5\\end{matrix}\\right]$$"
      ],
      "text/plain": [
       "⎡1  2   3 ⎤\n",
       "⎢         ⎥\n",
       "⎢0  0   -7⎥\n",
       "⎢         ⎥\n",
       "⎣0  -4  -5⎦"
      ]
     },
     "execution_count": 65,
     "metadata": {},
     "output_type": "execute_result"
    }
   ],
   "source": [
    "# r3 becomes r3-2r1\n",
    "M[2,:] = M[2,:]-2*M[0,:]\n",
    "M"
   ]
  },
  {
   "cell_type": "code",
   "execution_count": 66,
   "metadata": {},
   "outputs": [],
   "source": [
    "# Swap row 2 and 3\n",
    "M.row_swap(1,2)"
   ]
  },
  {
   "cell_type": "code",
   "execution_count": 67,
   "metadata": {},
   "outputs": [
    {
     "data": {
      "image/png": "[encoded data removed]",
      "text/latex": [
       "$$\\left[\\begin{matrix}1 & 2 & 3\\\\0 & -4 & -5\\\\0 & 0 & -7\\end{matrix}\\right]$$"
      ],
      "text/plain": [
       "⎡1  2   3 ⎤\n",
       "⎢         ⎥\n",
       "⎢0  -4  -5⎥\n",
       "⎢         ⎥\n",
       "⎣0  0   -7⎦"
      ]
     },
     "execution_count": 67,
     "metadata": {},
     "output_type": "execute_result"
    }
   ],
   "source": [
    "M"
   ]
  },
  {
   "cell_type": "code",
   "execution_count": 68,
   "metadata": {},
   "outputs": [],
   "source": [
    "# You can use the LU decomposition to obtain echelon form\n",
    "M = Matrix(( [1, 2, 3], [3, 6, 2], [2, 0, 1] ))\n",
    "L, U, perm = M.LUdecomposition() # Perm is the is a list of row swap index pairs s.t. A = (L*U).permuteBkwd(perm)"
   ]
  },
  {
   "cell_type": "code",
   "execution_count": 71,
   "metadata": {
    "scrolled": true
   },
   "outputs": [
    {
     "data": {
      "image/png": "[encoded data removed]",
      "text/latex": [
       "$$\\left[\\begin{matrix}1 & 2 & 3\\\\0 & -4 & -5\\\\0 & 0 & -7\\end{matrix}\\right]$$"
      ],
      "text/plain": [
       "⎡1  2   3 ⎤\n",
       "⎢         ⎥\n",
       "⎢0  -4  -5⎥\n",
       "⎢         ⎥\n",
       "⎣0  0   -7⎦"
      ]
     },
     "execution_count": 71,
     "metadata": {},
     "output_type": "execute_result"
    }
   ],
   "source": [
    "U"
   ]
  },
  {
   "cell_type": "code",
   "execution_count": 72,
   "metadata": {},
   "outputs": [
    {
     "data": {
      "image/png": "[encoded data removed]",
      "text/latex": [
       "$$\\left[\\begin{matrix}1 & 2 & 3\\\\3 & 6 & 2\\\\2 & 0 & 1\\end{matrix}\\right]$$"
      ],
      "text/plain": [
       "⎡1  2  3⎤\n",
       "⎢       ⎥\n",
       "⎢3  6  2⎥\n",
       "⎢       ⎥\n",
       "⎣2  0  1⎦"
      ]
     },
     "execution_count": 72,
     "metadata": {},
     "output_type": "execute_result"
    }
   ],
   "source": [
    "(L*U).permuteBkwd(perm)"
   ]
  },
  {
   "cell_type": "markdown",
   "metadata": {},
   "source": [
    "#### Reduced Echelon Form"
   ]
  },
  {
   "cell_type": "code",
   "execution_count": 122,
   "metadata": {},
   "outputs": [
    {
     "data": {
      "image/png": "[encoded data removed]",
      "text/latex": [
       "$$\\left ( \\left[\\begin{matrix}1 & 0 & -1 & -2\\\\0 & 1 & 2 & 3\\\\0 & 0 & 0 & 0\\\\0 & 0 & 0 & 0\\end{matrix}\\right], \\quad \\left ( 0, \\quad 1\\right )\\right )$$"
      ],
      "text/plain": [
       "⎛⎡1  0  -1  -2⎤        ⎞\n",
       "⎜⎢            ⎥        ⎟\n",
       "⎜⎢0  1  2   3 ⎥        ⎟\n",
       "⎜⎢            ⎥, (0, 1)⎟\n",
       "⎜⎢0  0  0   0 ⎥        ⎟\n",
       "⎜⎢            ⎥        ⎟\n",
       "⎝⎣0  0  0   0 ⎦        ⎠"
      ]
     },
     "execution_count": 122,
     "metadata": {},
     "output_type": "execute_result"
    }
   ],
   "source": [
    "# Note, returns a tuple of two elements, the first being the reduced form, the other being the pivot columns\n",
    "M = Matrix(([1,2,3,4],[5,6,7,8],[9,10,11,12],[13,14,15,16]))\n",
    "M.rref()"
   ]
  },
  {
   "cell_type": "code",
   "execution_count": 124,
   "metadata": {},
   "outputs": [
    {
     "data": {
      "image/png": "[encoded data removed]",
      "text/latex": [
       "$$\\left[\\begin{matrix}1 & 0 & -1 & -2\\\\0 & 1 & 2 & 3\\\\0 & 0 & 0 & 0\\\\0 & 0 & 0 & 0\\end{matrix}\\right]$$"
      ],
      "text/plain": [
       "⎡1  0  -1  -2⎤\n",
       "⎢            ⎥\n",
       "⎢0  1  2   3 ⎥\n",
       "⎢            ⎥\n",
       "⎢0  0  0   0 ⎥\n",
       "⎢            ⎥\n",
       "⎣0  0  0   0 ⎦"
      ]
     },
     "execution_count": 124,
     "metadata": {},
     "output_type": "execute_result"
    }
   ],
   "source": [
    "# If you only want the reduced matrix, you can do the following\n",
    "M = Matrix(([1,2,3,4],[5,6,7,8],[9,10,11,12],[13,14,15,16]))\n",
    "M_rref, _ = M.rref()\n",
    "M_rref"
   ]
  },
  {
   "cell_type": "markdown",
   "metadata": {},
   "source": [
    "#### Working with unknowns such a or x, etc."
   ]
  },
  {
   "cell_type": "code",
   "execution_count": 74,
   "metadata": {},
   "outputs": [],
   "source": [
    "a = sp.Symbol('a') # you need to define the variables as symbols"
   ]
  },
  {
   "cell_type": "code",
   "execution_count": 77,
   "metadata": {},
   "outputs": [
    {
     "data": {
      "image/png": "[encoded data removed]",
      "text/latex": [
       "$$\\left [ 1\\right ]$$"
      ],
      "text/plain": [
       "[1]"
      ]
     },
     "execution_count": 77,
     "metadata": {},
     "output_type": "execute_result"
    }
   ],
   "source": [
    "# Find a such that det A = 24\n",
    "A = Matrix([\n",
    "      [a, 3, -1, 0, -2]\n",
    "    , [0, 2, -4, -1, -6]\n",
    "    , [-2, -6, 2, 3, 9]\n",
    "    , [3, 7, -3, 8, -7]\n",
    "    , [3, 5, 5, 2, 7]  \n",
    "])\n",
    "solve(A.det()-24,a)"
   ]
  },
  {
   "cell_type": "code",
   "execution_count": 78,
   "metadata": {},
   "outputs": [
    {
     "data": {
      "image/png": "[encoded data removed]",
      "text/latex": [
       "$$\\left [ - \\frac{2}{5}, \\quad 3\\right ]$$"
      ],
      "text/plain": [
       "[-2/5, 3]"
      ]
     },
     "execution_count": 78,
     "metadata": {},
     "output_type": "execute_result"
    }
   ],
   "source": [
    "# Find a such that det A = -18\n",
    "A = Matrix([\n",
    "      [1, 5, -a]\n",
    "    , [a, -a, a]\n",
    "    , [2, 13, -7]\n",
    "])\n",
    "solve(A.det()+18,a)"
   ]
  },
  {
   "cell_type": "markdown",
   "metadata": {},
   "source": [
    "#### Indexing"
   ]
  },
  {
   "cell_type": "code",
   "execution_count": 100,
   "metadata": {},
   "outputs": [
    {
     "data": {
      "image/png": "[encoded data removed]",
      "text/latex": [
       "$$6$$"
      ],
      "text/plain": [
       "6"
      ]
     },
     "execution_count": 100,
     "metadata": {},
     "output_type": "execute_result"
    }
   ],
   "source": [
    "# Remember that Python uses 0-based indexing and so does Sympy\n",
    "\n",
    "# Get a entry (2,2), i.e. row 2 column 2. In Python this would be (1,1)\n",
    "\n",
    "M = Matrix(([1,2,3,4],[5,6,7,8],[9,10,11,12],[13,14,15,16]))\n",
    "M[1,1]"
   ]
  },
  {
   "cell_type": "code",
   "execution_count": 125,
   "metadata": {},
   "outputs": [
    {
     "data": {
      "image/png": "[encoded data removed]",
      "text/latex": [
       "$$\\left[\\begin{matrix}1 & 3\\\\5 & 7\\\\9 & 11\\\\13 & 15\\end{matrix}\\right]$$"
      ],
      "text/plain": [
       "⎡1   3 ⎤\n",
       "⎢      ⎥\n",
       "⎢5   7 ⎥\n",
       "⎢      ⎥\n",
       "⎢9   11⎥\n",
       "⎢      ⎥\n",
       "⎣13  15⎦"
      ]
     },
     "execution_count": 125,
     "metadata": {},
     "output_type": "execute_result"
    }
   ],
   "source": [
    "# Select a specific column or row\n",
    "\n",
    "# Column 2\n",
    "M[:,1]\n",
    "# or\n",
    "M.col(1)\n",
    "\n",
    "# Row 2\n",
    "M[1,:]\n",
    "# or\n",
    "M.row(1)\n",
    "\n",
    "# Column 2 to end\n",
    "M[:,1:]\n",
    "\n",
    "# All columns before column 2 - note column 2 is NOT included\n",
    "M[:,:1]\n",
    "\n",
    "# Column 1 and 3\n",
    "M[:,(0,2)]"
   ]
  },
  {
   "cell_type": "markdown",
   "metadata": {},
   "source": [
    "#### Cofactors"
   ]
  },
  {
   "cell_type": "code",
   "execution_count": 127,
   "metadata": {},
   "outputs": [
    {
     "data": {
      "image/png": "[encoded data removed]",
      "text/latex": [
       "$$1$$"
      ],
      "text/plain": [
       "1"
      ]
     },
     "execution_count": 127,
     "metadata": {},
     "output_type": "execute_result"
    }
   ],
   "source": [
    "# Often, you will be asked to find the determinant or an unknown value using cofactor expansion.\n",
    "# Sympy has a method for cofactors (i.e. the part with the sign and the determinant of the submatrix)\n",
    "\n",
    "# Find the determinant of A using cofactor expansion a long the second column\n",
    "A = Matrix([\n",
    "      [3, 0, 4]\n",
    "    , [2, 3, 2]\n",
    "    , [0, 5, -1]\n",
    "])\n",
    "A[0,1]*A.cofactor(0,1)+A[1,1]*A.cofactor(1,1)+A[2,1]*A.cofactor(2,1)"
   ]
  },
  {
   "cell_type": "code",
   "execution_count": 128,
   "metadata": {},
   "outputs": [
    {
     "data": {
      "image/png": "[encoded data removed]",
      "text/latex": [
       "$$1$$"
      ],
      "text/plain": [
       "1"
      ]
     },
     "execution_count": 128,
     "metadata": {},
     "output_type": "execute_result"
    }
   ],
   "source": [
    "# Same as above but using indexing and determinant\n",
    "-A[0,1]*A[1:,(0,2)].det()+A[1,1]*A[(0,2),(0,2)].det()-A[2,1]*A[:2,(0,2)].det()"
   ]
  },
  {
   "cell_type": "code",
   "execution_count": 131,
   "metadata": {},
   "outputs": [
    {
     "data": {
      "image/png": "[encoded data removed]",
      "text/latex": [
       "$$\\left [ - \\frac{2}{5}, \\quad 3\\right ]$$"
      ],
      "text/plain": [
       "[-2/5, 3]"
      ]
     },
     "execution_count": 131,
     "metadata": {},
     "output_type": "execute_result"
    }
   ],
   "source": [
    "# Find a such that det A = -18 using cofactor expansion a long the second row\n",
    "A = Matrix([\n",
    "      [1, 5, -a]\n",
    "    , [a, -a, a]\n",
    "    , [2, 13, -7]\n",
    "])\n",
    "solve(\n",
    "A[1,0]*A.cofactor(1,0)+A[1,1]*A.cofactor(1,1)+A[1,2]*A.cofactor(1,2)+18,a\n",
    ")"
   ]
  },
  {
   "cell_type": "code",
   "execution_count": 136,
   "metadata": {},
   "outputs": [
    {
     "data": {
      "image/png": "[encoded data removed]",
      "text/latex": [
       "$$\\left [ - \\frac{2}{5}, \\quad 3\\right ]$$"
      ],
      "text/plain": [
       "[-2/5, 3]"
      ]
     },
     "execution_count": 136,
     "metadata": {},
     "output_type": "execute_result"
    }
   ],
   "source": [
    "# Same as above but using indexing and determinant\n",
    "solve(\n",
    "-A[1,0]*A[(0,2),1:].det()+A[1,1]*A[(0,2),(0,2)].det()-A[1,2]*A[(0,2),(0,1)].det()+18,a\n",
    ")"
   ]
  },
  {
   "cell_type": "markdown",
   "metadata": {},
   "source": [
    "#### Nullspace and Colspace - actually bases!"
   ]
  },
  {
   "cell_type": "code",
   "execution_count": 167,
   "metadata": {},
   "outputs": [
    {
     "data": {
      "image/png": "[encoded data removed]",
      "text/latex": [
       "$$\\left [ \\left[\\begin{matrix}2\\\\1\\\\0\\\\0\\\\0\\end{matrix}\\right], \\quad \\left[\\begin{matrix}1\\\\0\\\\-2\\\\1\\\\0\\end{matrix}\\right], \\quad \\left[\\begin{matrix}-3\\\\0\\\\2\\\\0\\\\1\\end{matrix}\\right]\\right ]$$"
      ],
      "text/plain": [
       "⎡⎡2⎤  ⎡1 ⎤  ⎡-3⎤⎤\n",
       "⎢⎢ ⎥  ⎢  ⎥  ⎢  ⎥⎥\n",
       "⎢⎢1⎥  ⎢0 ⎥  ⎢0 ⎥⎥\n",
       "⎢⎢ ⎥  ⎢  ⎥  ⎢  ⎥⎥\n",
       "⎢⎢0⎥, ⎢-2⎥, ⎢2 ⎥⎥\n",
       "⎢⎢ ⎥  ⎢  ⎥  ⎢  ⎥⎥\n",
       "⎢⎢0⎥  ⎢1 ⎥  ⎢0 ⎥⎥\n",
       "⎢⎢ ⎥  ⎢  ⎥  ⎢  ⎥⎥\n",
       "⎣⎣0⎦  ⎣0 ⎦  ⎣1 ⎦⎦"
      ]
     },
     "execution_count": 167,
     "metadata": {},
     "output_type": "execute_result"
    }
   ],
   "source": [
    "# Basis for nullspace (returns a list of vectors)\n",
    "A = Matrix([\n",
    "      [-3, 6, -1, 1, -7]\n",
    "    , [1, -2, 2, 3, -1]\n",
    "    , [2, -4, 5, 8, -4]\n",
    "    \n",
    "])\n",
    "A.nullspace()"
   ]
  },
  {
   "cell_type": "code",
   "execution_count": 168,
   "metadata": {},
   "outputs": [],
   "source": [
    " # To get the vectors as independent vector\n",
    "v1, v2, v3 = A.nullspace()"
   ]
  },
  {
   "cell_type": "code",
   "execution_count": 169,
   "metadata": {},
   "outputs": [
    {
     "data": {
      "image/png": "[encoded data removed]",
      "text/latex": [
       "$$\\left[\\begin{matrix}2 & 1 & -3\\\\1 & 0 & 0\\\\0 & -2 & 2\\\\0 & 1 & 0\\\\0 & 0 & 1\\end{matrix}\\right]$$"
      ],
      "text/plain": [
       "⎡2  1   -3⎤\n",
       "⎢         ⎥\n",
       "⎢1  0   0 ⎥\n",
       "⎢         ⎥\n",
       "⎢0  -2  2 ⎥\n",
       "⎢         ⎥\n",
       "⎢0  1   0 ⎥\n",
       "⎢         ⎥\n",
       "⎣0  0   1 ⎦"
      ]
     },
     "execution_count": 169,
     "metadata": {},
     "output_type": "execute_result"
    }
   ],
   "source": [
    "# To create a matrix from these\n",
    "V = v1.row_join(v2).row_join(v3)\n",
    "V"
   ]
  },
  {
   "cell_type": "code",
   "execution_count": 171,
   "metadata": {},
   "outputs": [
    {
     "data": {
      "image/png": "[encoded data removed]",
      "text/latex": [
       "$$\\left [ \\left[\\begin{matrix}-3\\\\1\\\\2\\end{matrix}\\right], \\quad \\left[\\begin{matrix}-1\\\\2\\\\5\\end{matrix}\\right]\\right ]$$"
      ],
      "text/plain": [
       "⎡⎡-3⎤  ⎡-1⎤⎤\n",
       "⎢⎢  ⎥  ⎢  ⎥⎥\n",
       "⎢⎢1 ⎥, ⎢2 ⎥⎥\n",
       "⎢⎢  ⎥  ⎢  ⎥⎥\n",
       "⎣⎣2 ⎦  ⎣5 ⎦⎦"
      ]
     },
     "execution_count": 171,
     "metadata": {},
     "output_type": "execute_result"
    }
   ],
   "source": [
    "# Basis for colspace\n",
    "A.columnspace()"
   ]
  },
  {
   "cell_type": "code",
   "execution_count": 172,
   "metadata": {},
   "outputs": [
    {
     "data": {
      "image/png": "[encoded data removed]",
      "text/latex": [
       "$$\\left ( 0, \\quad 2\\right )$$"
      ],
      "text/plain": [
       "(0, 2)"
      ]
     },
     "execution_count": 172,
     "metadata": {},
     "output_type": "execute_result"
    }
   ],
   "source": [
    "_ , pivots = A.rref()\n",
    "pivots # It can be seen that the pivots are in columns 1 and 3 which correspond to the basis for Col A"
   ]
  }
 ],
 "metadata": {
  "kernelspec": {
   "display_name": "Python 3",
   "language": "python",
   "name": "python3"
  },
  "language_info": {
   "codemirror_mode": {
    "name": "ipython",
    "version": 3
   },
   "file_extension": ".py",
   "mimetype": "text/x-python",
   "name": "python",
   "nbconvert_exporter": "python",
   "pygments_lexer": "ipython3",
   "version": "3.7.6"
  }
 },
 "nbformat": 4,
 "nbformat_minor": 2
}
